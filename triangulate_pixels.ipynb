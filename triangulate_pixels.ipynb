{
 "cells": [
  {
   "cell_type": "code",
   "execution_count": 1,
   "metadata": {},
   "outputs": [],
   "source": [
    "import pyzed.sl as sl\n",
    "import cv2\n",
    "import torch\n",
    "import numpy as np\n",
    "import pyzed.sl as sl\n",
    "import configparser\n",
    "device = torch.device(\"cuda:0\" if torch.cuda.is_available() else \"cpu\")"
   ]
  },
  {
   "cell_type": "code",
   "execution_count": 2,
   "metadata": {},
   "outputs": [
    {
     "data": {
      "text/plain": [
       "SUCCESS"
      ]
     },
     "execution_count": 2,
     "metadata": {},
     "output_type": "execute_result"
    }
   ],
   "source": [
    "svo_path = '../data/Schlieren_20230913/HD1080_SN35520970_11-03-24.svo'\n",
    "\n",
    "pt1 = [642, 1798]\n",
    "pt2 = [654, 1587]\n",
    "zed = sl.Camera()\n",
    "\n",
    "init_params = sl.InitParameters()\n",
    "init_params.set_from_svo_file(svo_path)\n",
    "init_params.depth_mode = sl.DEPTH_MODE.ULTRA\n",
    "init_params.coordinate_units = sl.UNIT.METER\n",
    "init_params.depth_maximum_distance = 40\n",
    "init_params.depth_minimum_distance = 1\n",
    "init_params.sdk_verbose = True\n",
    "\n",
    "rotation = sl.Rotation()\n",
    "zed.open(init_params)\n",
    "\n",
    "positional_tracking_parameters = sl.PositionalTrackingParameters()\n",
    "zed.enable_positional_tracking(positional_tracking_parameters)\n",
    "\n",
    "obj_param = sl.ObjectDetectionParameters()\n",
    "obj_param.detection_model = sl.OBJECT_DETECTION_MODEL.CUSTOM_BOX_OBJECTS\n",
    "obj_param.image_sync = True\n",
    "obj_param.enable_tracking = True\n",
    "obj_param.enable_segmentation = True\n",
    "\n",
    "zed.enable_object_detection(obj_param)\n",
    "\n",
    "zed.set_svo_position(500)\n",
    "zed.grab()"
   ]
  },
  {
   "cell_type": "code",
   "execution_count": 3,
   "metadata": {},
   "outputs": [],
   "source": [
    "pt_l = (642, 1798)\n",
    "pt_r = (654, 1587)"
   ]
  },
  {
   "cell_type": "code",
   "execution_count": 4,
   "metadata": {},
   "outputs": [],
   "source": [
    "def init_calibration(calibration_file, image_size) :\n",
    "\n",
    "    cameraMarix_left = cameraMatrix_right = map_left_y = map_left_x = map_right_y = map_right_x = np.array([])\n",
    "\n",
    "    config = configparser.ConfigParser()\n",
    "    config.read(calibration_file)\n",
    "\n",
    "    check_data = True\n",
    "    resolution_str = ''\n",
    "    if image_size.width == 2208 :\n",
    "        resolution_str = '2K'\n",
    "    elif image_size.width == 1920 :\n",
    "        resolution_str = 'FHD'\n",
    "    elif image_size.width == 1280 :\n",
    "        resolution_str = 'HD'\n",
    "    elif image_size.width == 672 :\n",
    "        resolution_str = 'VGA'\n",
    "    else:\n",
    "        resolution_str = 'HD'\n",
    "        check_data = False\n",
    "\n",
    "    T_ = np.array([-float(config['STEREO']['Baseline'] if 'Baseline' in config['STEREO'] else 0),\n",
    "                   float(config['STEREO']['TY_'+resolution_str] if 'TY_'+resolution_str in config['STEREO'] else 0),\n",
    "                   float(config['STEREO']['TZ_'+resolution_str] if 'TZ_'+resolution_str in config['STEREO'] else 0)])\n",
    "\n",
    "\n",
    "    left_cam_cx = float(config['LEFT_CAM_'+resolution_str]['cx'] if 'cx' in config['LEFT_CAM_'+resolution_str] else 0)\n",
    "    left_cam_cy = float(config['LEFT_CAM_'+resolution_str]['cy'] if 'cy' in config['LEFT_CAM_'+resolution_str] else 0)\n",
    "    left_cam_fx = float(config['LEFT_CAM_'+resolution_str]['fx'] if 'fx' in config['LEFT_CAM_'+resolution_str] else 0)\n",
    "    left_cam_fy = float(config['LEFT_CAM_'+resolution_str]['fy'] if 'fy' in config['LEFT_CAM_'+resolution_str] else 0)\n",
    "    left_cam_k1 = float(config['LEFT_CAM_'+resolution_str]['k1'] if 'k1' in config['LEFT_CAM_'+resolution_str] else 0)\n",
    "    left_cam_k2 = float(config['LEFT_CAM_'+resolution_str]['k2'] if 'k2' in config['LEFT_CAM_'+resolution_str] else 0)\n",
    "    left_cam_p1 = float(config['LEFT_CAM_'+resolution_str]['p1'] if 'p1' in config['LEFT_CAM_'+resolution_str] else 0)\n",
    "    left_cam_p2 = float(config['LEFT_CAM_'+resolution_str]['p2'] if 'p2' in config['LEFT_CAM_'+resolution_str] else 0)\n",
    "    left_cam_p3 = float(config['LEFT_CAM_'+resolution_str]['p3'] if 'p3' in config['LEFT_CAM_'+resolution_str] else 0)\n",
    "    left_cam_k3 = float(config['LEFT_CAM_'+resolution_str]['k3'] if 'k3' in config['LEFT_CAM_'+resolution_str] else 0)\n",
    "\n",
    "\n",
    "    right_cam_cx = float(config['RIGHT_CAM_'+resolution_str]['cx'] if 'cx' in config['RIGHT_CAM_'+resolution_str] else 0)\n",
    "    right_cam_cy = float(config['RIGHT_CAM_'+resolution_str]['cy'] if 'cy' in config['RIGHT_CAM_'+resolution_str] else 0)\n",
    "    right_cam_fx = float(config['RIGHT_CAM_'+resolution_str]['fx'] if 'fx' in config['RIGHT_CAM_'+resolution_str] else 0)\n",
    "    right_cam_fy = float(config['RIGHT_CAM_'+resolution_str]['fy'] if 'fy' in config['RIGHT_CAM_'+resolution_str] else 0)\n",
    "    right_cam_k1 = float(config['RIGHT_CAM_'+resolution_str]['k1'] if 'k1' in config['RIGHT_CAM_'+resolution_str] else 0)\n",
    "    right_cam_k2 = float(config['RIGHT_CAM_'+resolution_str]['k2'] if 'k2' in config['RIGHT_CAM_'+resolution_str] else 0)\n",
    "    right_cam_p1 = float(config['RIGHT_CAM_'+resolution_str]['p1'] if 'p1' in config['RIGHT_CAM_'+resolution_str] else 0)\n",
    "    right_cam_p2 = float(config['RIGHT_CAM_'+resolution_str]['p2'] if 'p2' in config['RIGHT_CAM_'+resolution_str] else 0)\n",
    "    right_cam_p3 = float(config['RIGHT_CAM_'+resolution_str]['p3'] if 'p3' in config['RIGHT_CAM_'+resolution_str] else 0)\n",
    "    right_cam_k3 = float(config['RIGHT_CAM_'+resolution_str]['k3'] if 'k3' in config['RIGHT_CAM_'+resolution_str] else 0)\n",
    "\n",
    "    R_zed = np.array([float(config['STEREO']['RX_'+resolution_str] if 'RX_' + resolution_str in config['STEREO'] else 0),\n",
    "                      float(config['STEREO']['CV_'+resolution_str] if 'CV_' + resolution_str in config['STEREO'] else 0),\n",
    "                      float(config['STEREO']['RZ_'+resolution_str] if 'RZ_' + resolution_str in config['STEREO'] else 0)])\n",
    "\n",
    "    R, _ = cv2.Rodrigues(R_zed)\n",
    "    cameraMatrix_left = np.array([[left_cam_fx, 0, left_cam_cx],\n",
    "                         [0, left_cam_fy, left_cam_cy],\n",
    "                         [0, 0, 1]])\n",
    "\n",
    "    cameraMatrix_right = np.array([[right_cam_fx, 0, right_cam_cx],\n",
    "                          [0, right_cam_fy, right_cam_cy],\n",
    "                          [0, 0, 1]])\n",
    "\n",
    "    distCoeffs_left = np.array([[left_cam_k1], [left_cam_k2], [left_cam_p1], [left_cam_p2], [left_cam_k3]])\n",
    "\n",
    "    distCoeffs_right = np.array([[right_cam_k1], [right_cam_k2], [right_cam_p1], [right_cam_p2], [right_cam_k3]])\n",
    "\n",
    "    T = np.array([[T_[0]], [T_[1]], [T_[2]]])\n",
    "    R1 = R2 = P1 = P2 = np.array([])\n",
    "\n",
    "    R1, R2, P1, P2 = cv2.stereoRectify(cameraMatrix1=cameraMatrix_left,\n",
    "                                       cameraMatrix2=cameraMatrix_right,\n",
    "                                       distCoeffs1=distCoeffs_left,\n",
    "                                       distCoeffs2=distCoeffs_right,\n",
    "                                       R=R, T=T,\n",
    "                                       flags=cv2.CALIB_ZERO_DISPARITY,\n",
    "                                       alpha=0,\n",
    "                                       imageSize=(image_size.width, image_size.height),\n",
    "                                       newImageSize=(image_size.width, image_size.height))[0:4]\n",
    "\n",
    "    map_left_x, map_left_y = cv2.initUndistortRectifyMap(cameraMatrix_left, distCoeffs_left, R1, P1, (image_size.width, image_size.height), cv2.CV_32FC1)\n",
    "    map_right_x, map_right_y = cv2.initUndistortRectifyMap(cameraMatrix_right, distCoeffs_right, R2, P2, (image_size.width, image_size.height), cv2.CV_32FC1)\n",
    "\n",
    "    cameraMatrix_left = P1\n",
    "    cameraMatrix_right = P2\n",
    "\n",
    "    return cameraMatrix_left, cameraMatrix_right, map_left_x, map_left_y, map_right_x, map_right_y"
   ]
  },
  {
   "cell_type": "code",
   "execution_count": 5,
   "metadata": {},
   "outputs": [],
   "source": [
    "camera_matrix_left, camera_matrix_right, map_left_x, map_left_y, map_right_x, map_right_y = init_calibration('SN35071549.conf', zed.get_camera_information().camera_configuration.resolution)"
   ]
  },
  {
   "cell_type": "code",
   "execution_count": 6,
   "metadata": {},
   "outputs": [],
   "source": [
    "image_zed = sl.Mat()"
   ]
  },
  {
   "cell_type": "code",
   "execution_count": 7,
   "metadata": {},
   "outputs": [],
   "source": [
    "zed.retrieve_image(image_zed, sl.VIEW.LEFT)\n",
    "image_left = image_zed.get_data()\n",
    "\n",
    "zed.retrieve_image(image_zed, sl.VIEW.RIGHT)\n",
    "image_right = image_zed.get_data()"
   ]
  },
  {
   "cell_type": "code",
   "execution_count": 8,
   "metadata": {},
   "outputs": [
    {
     "name": "stdout",
     "output_type": "stream",
     "text": [
      "Left (629, 577)\n",
      "Right (629, 578)\n"
     ]
    }
   ],
   "source": [
    "# cv2 window get mouse click\n",
    "def get_mouse_click_left(event, x, y, flags, param):\n",
    "    global pt_l\n",
    "    if event == cv2.EVENT_LBUTTONDOWN:\n",
    "        pt_l = (x, y)\n",
    "\n",
    "def get_mouse_click_right(event, x, y, flags, param):\n",
    "    global pt_r\n",
    "    if event == cv2.EVENT_LBUTTONDOWN:\n",
    "        pt_r = (x, y)\n",
    "\n",
    "cv2.namedWindow('image_left')\n",
    "cv2.setMouseCallback('image_left', get_mouse_click_left)\n",
    "\n",
    "cv2.namedWindow('image_right')\n",
    "cv2.setMouseCallback('image_right', get_mouse_click_right)\n",
    "\n",
    "cv2.imshow('image_left', image_left)\n",
    "cv2.imshow('image_right', image_right)\n",
    "\n",
    "while True:\n",
    "\n",
    "    cv2.waitKey(1)\n",
    "\n",
    "    if cv2.waitKey(1) & 0xFF == ord('q'):\n",
    "        break\n",
    "\n",
    "cv2.destroyWindow('image_left')\n",
    "cv2.destroyWindow('image_right')\n",
    "\n",
    "print('Left', pt_l)\n",
    "print('Right', pt_r)"
   ]
  },
  {
   "cell_type": "code",
   "execution_count": 9,
   "metadata": {},
   "outputs": [],
   "source": [
    "pt_l_undist = np.array([map_left_y[pt_l], map_left_x[pt_l]])\n",
    "pt_r_undist = np.array([map_right_y[pt_r], map_right_x[pt_r]])"
   ]
  },
  {
   "cell_type": "code",
   "execution_count": 13,
   "metadata": {},
   "outputs": [],
   "source": [
    "point_4d_hom = cv2.triangulatePoints(camera_matrix_left, camera_matrix_right, pt_l_undist, pt_r_undist)"
   ]
  },
  {
   "cell_type": "code",
   "execution_count": 14,
   "metadata": {},
   "outputs": [],
   "source": [
    "point_4d = point_4d_hom / point_4d_hom[3]"
   ]
  },
  {
   "cell_type": "code",
   "execution_count": 19,
   "metadata": {},
   "outputs": [
    {
     "data": {
      "text/plain": [
       "array([[ 8.3780420e+02],\n",
       "       [-2.9156706e+01],\n",
       "       [-2.7108601e+03],\n",
       "       [ 1.0000000e+00]], dtype=float32)"
      ]
     },
     "execution_count": 19,
     "metadata": {},
     "output_type": "execute_result"
    }
   ],
   "source": [
    "point_4d"
   ]
  },
  {
   "cell_type": "code",
   "execution_count": 20,
   "metadata": {},
   "outputs": [
    {
     "ename": "error",
     "evalue": "OpenCV(4.8.1) D:\\a\\opencv-python\\opencv-python\\opencv\\modules\\highgui\\src\\window_w32.cpp:1261: error: (-27:Null pointer) NULL window: 'image_left' in function 'cvDestroyWindow'\n",
     "output_type": "error",
     "traceback": [
      "\u001b[1;31m---------------------------------------------------------------------------\u001b[0m",
      "\u001b[1;31merror\u001b[0m                                     Traceback (most recent call last)",
      "Cell \u001b[1;32mIn[20], line 6\u001b[0m\n\u001b[0;32m      3\u001b[0m cv2\u001b[38;5;241m.\u001b[39mimshow(\u001b[38;5;124m'\u001b[39m\u001b[38;5;124mimage_left\u001b[39m\u001b[38;5;124m'\u001b[39m, image_left)\n\u001b[0;32m      5\u001b[0m cv2\u001b[38;5;241m.\u001b[39mwaitKey(\u001b[38;5;241m0\u001b[39m)\n\u001b[1;32m----> 6\u001b[0m \u001b[43mcv2\u001b[49m\u001b[38;5;241;43m.\u001b[39;49m\u001b[43mdestroyWindow\u001b[49m\u001b[43m(\u001b[49m\u001b[38;5;124;43m'\u001b[39;49m\u001b[38;5;124;43mimage_left\u001b[39;49m\u001b[38;5;124;43m'\u001b[39;49m\u001b[43m)\u001b[49m\n",
      "\u001b[1;31merror\u001b[0m: OpenCV(4.8.1) D:\\a\\opencv-python\\opencv-python\\opencv\\modules\\highgui\\src\\window_w32.cpp:1261: error: (-27:Null pointer) NULL window: 'image_left' in function 'cvDestroyWindow'\n"
     ]
    }
   ],
   "source": [
    "cv2.namedWindow('image_left')\n",
    "\n",
    "cv2.imshow('image_left', image_left)\n",
    "\n",
    "while True:\n",
    "    if cv2.waitKey(1) & 0xFF == ord('q'):\n",
    "        break\n",
    "\n",
    "cv2.destroyWindow('image_left')"
   ]
  },
  {
   "cell_type": "code",
   "execution_count": null,
   "metadata": {},
   "outputs": [],
   "source": []
  }
 ],
 "metadata": {
  "kernelspec": {
   "display_name": "Python 3",
   "language": "python",
   "name": "python3"
  },
  "language_info": {
   "codemirror_mode": {
    "name": "ipython",
    "version": 3
   },
   "file_extension": ".py",
   "mimetype": "text/x-python",
   "name": "python",
   "nbconvert_exporter": "python",
   "pygments_lexer": "ipython3",
   "version": "3.10.11"
  }
 },
 "nbformat": 4,
 "nbformat_minor": 2
}
