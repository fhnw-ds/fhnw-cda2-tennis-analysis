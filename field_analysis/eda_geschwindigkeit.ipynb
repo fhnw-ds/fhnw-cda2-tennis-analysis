{
 "cells": [
  {
   "cell_type": "code",
   "execution_count": null,
   "metadata": {
    "collapsed": true,
    "pycharm": {
     "name": "#%%\n",
     "is_executing": true
    }
   },
   "outputs": [],
   "source": [
    "import pandas as pd\n",
    "import matplotlib.pyplot as plt\n",
    "import numpy as np\n",
    "import matplotlib.patches as mpatches\n",
    "from matplotlib.colors import ListedColormap\n",
    "from statsmodels.graphics.tsaplots import plot_acf, plot_pacf\n",
    "from datetime import datetime, timedelta"
   ]
  },
  {
   "cell_type": "code",
   "execution_count": 2,
   "outputs": [],
   "source": [
    "data = pd.read_csv('../Dataframe/GameWithLabels.csv')"
   ],
   "metadata": {
    "collapsed": false,
    "pycharm": {
     "name": "#%%\n"
    }
   }
  },
  {
   "cell_type": "code",
   "execution_count": 3,
   "outputs": [],
   "source": [
    "def frames_to_timestamp(frame):\n",
    "    seconds = (frame - 287) / 30\n",
    "    a =  datetime(1, 1, 1) + pd.Timedelta(seconds=seconds)\n",
    "    return a.strftime('%H:%M:%S.%f')\n",
    "\n",
    "\n",
    "# Anwenden der Funktion auf den DataFrame und Hinzufügen einer neuen Spalte 'timestamp'\n",
    "data['timestamp'] = data['frame'].apply(frames_to_timestamp)\n",
    "data = data.set_index('timestamp')"
   ],
   "metadata": {
    "collapsed": false,
    "pycharm": {
     "name": "#%%\n"
    }
   }
  },
  {
   "cell_type": "code",
   "execution_count": 4,
   "outputs": [
    {
     "data": {
      "text/plain": "                 frame  new_x_Player1  new_x_Player2  new_y_Player1  \\\ntimestamp                                                             \n00:00:00.000000    287       0.488342      -2.556822      -1.157367   \n00:00:00.033333    288       0.487970      -2.551163      -1.155410   \n00:00:00.066666    289       0.487290      -2.544400      -1.155982   \n00:00:00.100000    290       0.482031      -2.544177      -1.156393   \n00:00:00.133333    291       0.477606      -2.544681      -1.157121   \n\n                 new_y_Player2  new_z_Player1  new_z_Player2  vx_Player1  \\\ntimestamp                                                                  \n00:00:00.000000       5.167203      -9.915421      11.479640     0.01540   \n00:00:00.033333       5.141961      -9.916995      11.366557     0.02580   \n00:00:00.066666       5.116309      -9.917908      11.280055     0.02339   \n00:00:00.100000       5.107507      -9.918351      11.270463     0.02728   \n00:00:00.133333       5.102722      -9.919782      11.268751     0.01641   \n\n                 vx_Player2  xy_Player1  ...  height_Player1  height_Player2  \\\ntimestamp                                ...                                   \n00:00:00.000000    -0.06328    -0.04420  ...         1.99435         1.17692   \n00:00:00.033333    -0.05046    -0.03045  ...         1.97376         1.17656   \n00:00:00.066666    -0.06145    -0.02760  ...         1.95456         1.17893   \n00:00:00.100000    -0.04928    -0.03218  ...         1.95276         1.18399   \n00:00:00.133333    -0.04386    -0.01936  ...         1.94945         1.17943   \n\n                 length_Player1  length_Player2  Status  Schlag Spieler 1  \\\ntimestamp                                                                   \n00:00:00.000000         0.64888         0.61570   Aktiv          Anschlag   \n00:00:00.033333         0.66799         0.61899   Aktiv               NaN   \n00:00:00.066666         0.68904         0.62047   Aktiv               NaN   \n00:00:00.100000         0.71109         0.62504   Aktiv               NaN   \n00:00:00.133333         0.73265         0.62681   Aktiv               NaN   \n\n                 Schlag Spieler 2  Satz  geschwindigkeit_p1 geschwindigkeit_p2  \ntimestamp                                                                       \n00:00:00.000000               NaN   1.0            0.161013           0.190461  \n00:00:00.033333               NaN   1.0            0.116067           0.151878  \n00:00:00.066666               NaN   1.0            0.105206           0.184936  \n00:00:00.100000               NaN   1.0            0.122710           0.148308  \n00:00:00.133333               NaN   1.0            0.073820           0.132001  \n\n[5 rows x 25 columns]",
      "text/html": "<div>\n<style scoped>\n    .dataframe tbody tr th:only-of-type {\n        vertical-align: middle;\n    }\n\n    .dataframe tbody tr th {\n        vertical-align: top;\n    }\n\n    .dataframe thead th {\n        text-align: right;\n    }\n</style>\n<table border=\"1\" class=\"dataframe\">\n  <thead>\n    <tr style=\"text-align: right;\">\n      <th></th>\n      <th>frame</th>\n      <th>new_x_Player1</th>\n      <th>new_x_Player2</th>\n      <th>new_y_Player1</th>\n      <th>new_y_Player2</th>\n      <th>new_z_Player1</th>\n      <th>new_z_Player2</th>\n      <th>vx_Player1</th>\n      <th>vx_Player2</th>\n      <th>xy_Player1</th>\n      <th>...</th>\n      <th>height_Player1</th>\n      <th>height_Player2</th>\n      <th>length_Player1</th>\n      <th>length_Player2</th>\n      <th>Status</th>\n      <th>Schlag Spieler 1</th>\n      <th>Schlag Spieler 2</th>\n      <th>Satz</th>\n      <th>geschwindigkeit_p1</th>\n      <th>geschwindigkeit_p2</th>\n    </tr>\n    <tr>\n      <th>timestamp</th>\n      <th></th>\n      <th></th>\n      <th></th>\n      <th></th>\n      <th></th>\n      <th></th>\n      <th></th>\n      <th></th>\n      <th></th>\n      <th></th>\n      <th></th>\n      <th></th>\n      <th></th>\n      <th></th>\n      <th></th>\n      <th></th>\n      <th></th>\n      <th></th>\n      <th></th>\n      <th></th>\n      <th></th>\n    </tr>\n  </thead>\n  <tbody>\n    <tr>\n      <th>00:00:00.000000</th>\n      <td>287</td>\n      <td>0.488342</td>\n      <td>-2.556822</td>\n      <td>-1.157367</td>\n      <td>5.167203</td>\n      <td>-9.915421</td>\n      <td>11.479640</td>\n      <td>0.01540</td>\n      <td>-0.06328</td>\n      <td>-0.04420</td>\n      <td>...</td>\n      <td>1.99435</td>\n      <td>1.17692</td>\n      <td>0.64888</td>\n      <td>0.61570</td>\n      <td>Aktiv</td>\n      <td>Anschlag</td>\n      <td>NaN</td>\n      <td>1.0</td>\n      <td>0.161013</td>\n      <td>0.190461</td>\n    </tr>\n    <tr>\n      <th>00:00:00.033333</th>\n      <td>288</td>\n      <td>0.487970</td>\n      <td>-2.551163</td>\n      <td>-1.155410</td>\n      <td>5.141961</td>\n      <td>-9.916995</td>\n      <td>11.366557</td>\n      <td>0.02580</td>\n      <td>-0.05046</td>\n      <td>-0.03045</td>\n      <td>...</td>\n      <td>1.97376</td>\n      <td>1.17656</td>\n      <td>0.66799</td>\n      <td>0.61899</td>\n      <td>Aktiv</td>\n      <td>NaN</td>\n      <td>NaN</td>\n      <td>1.0</td>\n      <td>0.116067</td>\n      <td>0.151878</td>\n    </tr>\n    <tr>\n      <th>00:00:00.066666</th>\n      <td>289</td>\n      <td>0.487290</td>\n      <td>-2.544400</td>\n      <td>-1.155982</td>\n      <td>5.116309</td>\n      <td>-9.917908</td>\n      <td>11.280055</td>\n      <td>0.02339</td>\n      <td>-0.06145</td>\n      <td>-0.02760</td>\n      <td>...</td>\n      <td>1.95456</td>\n      <td>1.17893</td>\n      <td>0.68904</td>\n      <td>0.62047</td>\n      <td>Aktiv</td>\n      <td>NaN</td>\n      <td>NaN</td>\n      <td>1.0</td>\n      <td>0.105206</td>\n      <td>0.184936</td>\n    </tr>\n    <tr>\n      <th>00:00:00.100000</th>\n      <td>290</td>\n      <td>0.482031</td>\n      <td>-2.544177</td>\n      <td>-1.156393</td>\n      <td>5.107507</td>\n      <td>-9.918351</td>\n      <td>11.270463</td>\n      <td>0.02728</td>\n      <td>-0.04928</td>\n      <td>-0.03218</td>\n      <td>...</td>\n      <td>1.95276</td>\n      <td>1.18399</td>\n      <td>0.71109</td>\n      <td>0.62504</td>\n      <td>Aktiv</td>\n      <td>NaN</td>\n      <td>NaN</td>\n      <td>1.0</td>\n      <td>0.122710</td>\n      <td>0.148308</td>\n    </tr>\n    <tr>\n      <th>00:00:00.133333</th>\n      <td>291</td>\n      <td>0.477606</td>\n      <td>-2.544681</td>\n      <td>-1.157121</td>\n      <td>5.102722</td>\n      <td>-9.919782</td>\n      <td>11.268751</td>\n      <td>0.01641</td>\n      <td>-0.04386</td>\n      <td>-0.01936</td>\n      <td>...</td>\n      <td>1.94945</td>\n      <td>1.17943</td>\n      <td>0.73265</td>\n      <td>0.62681</td>\n      <td>Aktiv</td>\n      <td>NaN</td>\n      <td>NaN</td>\n      <td>1.0</td>\n      <td>0.073820</td>\n      <td>0.132001</td>\n    </tr>\n  </tbody>\n</table>\n<p>5 rows × 25 columns</p>\n</div>"
     },
     "execution_count": 4,
     "metadata": {},
     "output_type": "execute_result"
    }
   ],
   "source": [
    "data.head(5)"
   ],
   "metadata": {
    "collapsed": false,
    "pycharm": {
     "name": "#%%\n"
    }
   }
  },
  {
   "cell_type": "code",
   "execution_count": null,
   "outputs": [],
   "source": [
    "fig, axs = plt.subplots(2, 1, figsize=(10, 8))\n",
    "\n",
    "# Zeichnen der Geschwindigkeit für Spieler 1 im ersten Subplot\n",
    "axs[0].plot(data.index, data['geschwindigkeit_p1'], color='blue')\n",
    "axs[0].set_title('Geschwindigkeit Spieler 1')\n",
    "axs[0].set_xlabel('Zeit (ms)')\n",
    "axs[0].set_ylabel('Geschwindigkeit (m/s)')\n",
    "\n",
    "# Zeichnen der Geschwindigkeit für Spieler 2 im zweiten Subplot\n",
    "axs[1].plot(data.index, data['geschwindigkeit_p2'], color='green')\n",
    "axs[1].set_title('Geschwindigkeit Spieler 2')\n",
    "axs[1].set_xlabel('Zeit (ms)')\n",
    "axs[1].set_ylabel('Geschwindigkeit (m/s)')\n",
    "\n",
    "# Anpassung des Layouts für eine bessere Darstellung\n",
    "plt.tight_layout()\n",
    "\n",
    "# Anzeigen der Diagramme\n",
    "plt.show()"
   ],
   "metadata": {
    "collapsed": false,
    "pycharm": {
     "name": "#%%\n",
     "is_executing": true
    }
   }
  },
  {
   "cell_type": "code",
   "execution_count": null,
   "outputs": [],
   "source": [
    "data[\"geschwindigkeit_p1_rollingMean\"] = data[\"geschwindigkeit_p1\"].rolling(30, min_periods=8).median()\n",
    "data[\"geschwindigkeit_p2_rollingMean\"] = data[\"geschwindigkeit_p2\"].rolling(30, min_periods=8).median()"
   ],
   "metadata": {
    "collapsed": false,
    "pycharm": {
     "name": "#%%\n",
     "is_executing": true
    }
   }
  },
  {
   "cell_type": "code",
   "execution_count": null,
   "outputs": [],
   "source": [
    "fig, axs = plt.subplots(2, 2, figsize=(10, 8))\n",
    "# Zeichnen der Geschwindigkeit für Spieler 1 im ersten Subplot\n",
    "axs[0,0].plot(data.index, data['geschwindigkeit_p1'], color='blue')\n",
    "axs[0,0].set_title('Geschwindigkeit Spieler 1')\n",
    "axs[0,0].set_xlabel('Frames (0.5 Sekunden)')\n",
    "axs[0,0].set_ylabel('Geschwindigkeit (m/s)')\n",
    "\n",
    "# Zeichnen der Geschwindigkeit für Spieler 2 im zweiten Subplot\n",
    "axs[1,0].plot(data.index, data['geschwindigkeit_p2'], color='green')\n",
    "axs[1,0].set_title('Geschwindigkeit Spieler 2')\n",
    "axs[1,0].set_xlabel('Frames (0.5 Sekunden)')\n",
    "axs[1,0].set_ylabel('Geschwindigkeit (m/s)')\n",
    "\n",
    "# Zeichnen der Geschwindigkeit für Spieler 1 im ersten Subplot\n",
    "axs[0,1].plot(data.index, data['geschwindigkeit_p1_rollingMean'], color='blue')\n",
    "axs[0,1].set_title('Geschwindigkeit Spieler 1, Rolling Mean')\n",
    "axs[0,1].set_xlabel('Frames (0.5 Sekunden)')\n",
    "axs[0,1].set_ylabel('Geschwindigkeit (m/s)')\n",
    "\n",
    "# Zeichnen der Geschwindigkeit für Spieler 2 im zweiten Subplot\n",
    "axs[1,1].plot(data.index, data['geschwindigkeit_p2_rollingMean'], color='green')\n",
    "axs[1,1].set_title('Geschwindigkeit Spieler 2, Rolling Mean')\n",
    "axs[1,1].set_xlabel('Frames (0.5 Sekunden)')\n",
    "axs[1,1].set_ylabel('Geschwindigkeit (m/s)')\n",
    "\n",
    "# Anpassung des Layouts für eine bessere Darstellung\n",
    "plt.tight_layout()\n",
    "\n",
    "# Anzeigen der Diagramme\n",
    "plt.show()"
   ],
   "metadata": {
    "collapsed": false,
    "pycharm": {
     "name": "#%%\n",
     "is_executing": true
    }
   }
  },
  {
   "cell_type": "code",
   "execution_count": null,
   "outputs": [],
   "source": [
    "data[\"geschwindigkeit_p1_rm_ip\"] = data[\"geschwindigkeit_p1_rollingMean\"].interpolate()\n",
    "data[\"geschwindigkeit_p2_rm_ip\"] = data[\"geschwindigkeit_p2_rollingMean\"].interpolate()"
   ],
   "metadata": {
    "collapsed": false,
    "pycharm": {
     "name": "#%%\n",
     "is_executing": true
    }
   }
  },
  {
   "cell_type": "code",
   "execution_count": null,
   "outputs": [],
   "source": [
    "fig, axs = plt.subplots(2, 2, figsize=(10, 8))\n",
    "# Zeichnen der Geschwindigkeit für Spieler 1 im ersten Subplot\n",
    "axs[0,0].plot(data.index, data['geschwindigkeit_p1_rollingMean'], color='blue')\n",
    "axs[0,0].set_title('Geschwindigkeit Spieler 1, Rolling Mean')\n",
    "axs[0,0].set_xlabel('Frames (0.5 Sekunden)')\n",
    "axs[0,0].set_ylabel('Geschwindigkeit (m/s)')\n",
    "\n",
    "# Zeichnen der Geschwindigkeit für Spieler 2 im zweiten Subplot\n",
    "axs[1,0].plot(data.index, data['geschwindigkeit_p2_rollingMean'], color='green')\n",
    "axs[1,0].set_title('Geschwindigkeit Spieler 2, Rolling Mean')\n",
    "axs[1,0].set_xlabel('Frames (0.5 Sekunden)')\n",
    "axs[1,0].set_ylabel('Geschwindigkeit (m/s)')\n",
    "\n",
    "# Zeichnen der Geschwindigkeit für Spieler 1 im ersten Subplot\n",
    "axs[0,1].plot(data.index, data['geschwindigkeit_p1_rm_ip'], color='blue')\n",
    "axs[0,1].set_title('Geschwindigkeit Spieler 1, Rolling Mean interpoliert')\n",
    "axs[0,1].set_xlabel('Frames (0.5 Sekunden)')\n",
    "axs[0,1].set_ylabel('Geschwindigkeit (m/s)')\n",
    "\n",
    "# Zeichnen der Geschwindigkeit für Spieler 2 im zweiten Subplot\n",
    "axs[1,1].plot(data.index, data['geschwindigkeit_p2_rm_ip'], color='green')\n",
    "axs[1,1].set_title('Geschwindigkeit Spieler 2, Rolling Mean interpoliert')\n",
    "axs[1,1].set_xlabel('Frames (0.5 Sekunden)')\n",
    "axs[1,1].set_ylabel('Geschwindigkeit (m/s)')\n",
    "\n",
    "# Anpassung des Layouts für eine bessere Darstellung\n",
    "plt.tight_layout()\n",
    "\n",
    "# Anzeigen der Diagramme\n",
    "plt.show()"
   ],
   "metadata": {
    "collapsed": false,
    "pycharm": {
     "name": "#%%\n",
     "is_executing": true
    }
   }
  },
  {
   "cell_type": "code",
   "execution_count": null,
   "outputs": [],
   "source": [
    "\n",
    "cmap = ListedColormap(['green', 'red'])\n",
    "# Hinzufügen von benutzerdefinierten Patches für die Legende\n",
    "aktiver_patch = mpatches.Patch(color='green', label='Aktiv')\n",
    "inaktiver_patch = mpatches.Patch(color='red', label='Inaktiv')\n",
    "data['Status_color'] = data['Status'].map({'Aktiv': 1, 'Inaktiv': 0})\n",
    "fig, axs = plt.subplots(2, 1, figsize=(10, 8))\n",
    "\n",
    "# Zeichnen der Geschwindigkeit für Spieler 1 im ersten Subplot\n",
    "axs[0].plot(data.index, data['geschwindigkeit_p1_rm_ip'], color='blue')\n",
    "axs[0].pcolorfast(axs[0].get_xlim(), axs[0].get_ylim(),\n",
    "              data['Status_color'].values[np.newaxis],\n",
    "              cmap=cmap, alpha=0.4)\n",
    "axs[0].legend(handles=[aktiver_patch, inaktiver_patch])\n",
    "axs[0].set_title('Geschwindigkeit Spieler 1, Rolling Mean interpoliert')\n",
    "axs[0].set_xlabel('Zeit (Sekunden)')\n",
    "axs[0].set_ylabel('Geschwindigkeit (m/s)')\n",
    "\n",
    "# Zeichnen der Geschwindigkeit für Spieler 2 im zweiten Subplot\n",
    "axs[1].plot(data.index, data['geschwindigkeit_p2_rm_ip'], color='yellow')\n",
    "axs[1].set_title('Geschwindigkeit Spieler 2')\n",
    "axs[1].set_xlabel('Zeit (ms)')\n",
    "axs[1].set_ylabel('Geschwindigkeit (m/s)')\n",
    "axs[1].pcolorfast(axs[1].get_xlim(), axs[1].get_ylim(),\n",
    "              data['Status_color'].values[np.newaxis],\n",
    "              cmap=cmap, alpha=0.4)\n",
    "axs[1].legend(handles=[aktiver_patch, inaktiver_patch])\n",
    "\n",
    "# Anpassung des Layouts für eine bessere Darstellung\n",
    "plt.tight_layout()\n",
    "\n",
    "# Anzeigen der Diagramme\n",
    "plt.show()"
   ],
   "metadata": {
    "collapsed": false,
    "pycharm": {
     "name": "#%%\n",
     "is_executing": true
    }
   }
  },
  {
   "cell_type": "code",
   "execution_count": null,
   "outputs": [],
   "source": [
    "data2 = data[['geschwindigkeit_p1', 'geschwindigkeit_p2']]\n",
    "data2"
   ],
   "metadata": {
    "collapsed": false,
    "pycharm": {
     "name": "#%%\n"
    }
   }
  },
  {
   "cell_type": "code",
   "execution_count": null,
   "outputs": [],
   "source": [
    "fig, axs = plt.subplots(2, 3, figsize=(15, 10))\n",
    "\n",
    "# Geschwindigkeiten von Spieler 1 und Spieler 2\n",
    "geschwindigkeit_p1 = data['geschwindigkeit_p1_rm_ip'].dropna()\n",
    "geschwindigkeit_p2 = data['geschwindigkeit_p2_rm_ip'].dropna()\n",
    "frames = data['frame'][:len(geschwindigkeit_p1)]  # Ensure frames and geschwindigkeit_p1 have the same length\n",
    "\n",
    "# Zeichnen der Geschwindigkeit für Spieler 1 im ersten Subplot\n",
    "axs[0,0].plot(frames, geschwindigkeit_p1, color='blue')\n",
    "axs[0,0].set_title('Geschwindigkeit Spieler 1, Rolling Mean interpoliert')\n",
    "axs[0,0].set_xlabel('Frames (0.5 Sekunden)')\n",
    "axs[0,0].set_ylabel('Geschwindigkeit (m/s)')\n",
    "\n",
    "# Zeichnen der Geschwindigkeit für Spieler 2 im zweiten Subplot\n",
    "axs[1,0].plot(frames, geschwindigkeit_p2, color='green')\n",
    "axs[1,0].set_title('Geschwindigkeit Spieler 2, Rolling Mean interpoliert')\n",
    "axs[1,0].set_xlabel('Frames (0.5 Sekunden)')\n",
    "axs[1,0].set_ylabel('Geschwindigkeit (m/s)')\n",
    "\n",
    "# Zeichnen der ACF für Spieler 1\n",
    "plot_acf(geschwindigkeit_p1, ax=axs[0,1], lags= range(0,3000))\n",
    "axs[0,1].set_title('ACF Spieler 1')\n",
    "\n",
    "# Zeichnen der PACF für Spieler 1\n",
    "plot_pacf(geschwindigkeit_p1, ax=axs[0,2],lags=range(0,3000) )\n",
    "axs[0,2].set_title('PACF Spieler 1')\n",
    "\n",
    "# Zeichnen der ACF für Spieler 2\n",
    "plot_acf(geschwindigkeit_p2, ax=axs[1,1], lags= range(0,3000))\n",
    "axs[1,1].set_title('ACF Spieler 2')\n",
    "\n",
    "# Zeichnen der PACF für Spieler 2\n",
    "plot_pacf(geschwindigkeit_p2, ax=axs[1,2], lags= range(0,3000))\n",
    "axs[1,2].set_title('PACF Spieler 2')\n",
    "\n",
    "plt.tight_layout()\n",
    "plt.show()\n"
   ],
   "metadata": {
    "collapsed": false,
    "pycharm": {
     "name": "#%%\n"
    }
   }
  },
  {
   "cell_type": "code",
   "execution_count": null,
   "outputs": [],
   "source": [
    "def fourier_analyse(df, column_names, frame_rate):\n",
    "    if len(column_names) != 2:\n",
    "        raise ValueError(\"Bitte genau zwei Spaltennamen angeben.\")\n",
    "\n",
    "    fig, axs = plt.subplots(2, 1, figsize=(10, 6))\n",
    "\n",
    "    for i, column_name in enumerate(column_names):\n",
    "        # Remove NAs\n",
    "        df_fourier = df.dropna(subset=[column_name])\n",
    "\n",
    "        # Fourier Analysis\n",
    "        fft_values = np.fft.rfft(df_fourier[column_name])\n",
    "        amplitudes = np.abs(fft_values)\n",
    "        freqs = np.fft.rfftfreq(len(df_fourier[column_name]), d=1/frame_rate)\n",
    "\n",
    "        valid_indices = freqs > 0\n",
    "        freqs = freqs[valid_indices]\n",
    "        amplitudes = amplitudes[valid_indices]\n",
    "\n",
    "        # Plot the Fourier Transform for each column\n",
    "        axs[i].plot(1/freqs, amplitudes)\n",
    "        axs[i].set_title(f'Fourier Transformation of {column_name}')\n",
    "        axs[i].set_xlabel(\"Seconds per Cycle (s)\")\n",
    "        axs[i].set_ylabel(\"Amplitude\")\n",
    "        axs[i].set_xlim(0, 200)  # Adjust as needed\n",
    "\n",
    "    plt.tight_layout()\n",
    "    plt.show()\n",
    "fourier_analyse(data, [\"geschwindigkeit_p1_rm_ip\", \"geschwindigkeit_p2_rm_ip\"], 30)"
   ],
   "metadata": {
    "collapsed": false,
    "pycharm": {
     "name": "#%%\n"
    }
   }
  },
  {
   "cell_type": "code",
   "execution_count": null,
   "outputs": [],
   "source": [],
   "metadata": {
    "collapsed": false,
    "pycharm": {
     "name": "#%%\n"
    }
   }
  }
 ],
 "metadata": {
  "kernelspec": {
   "display_name": "Python 3",
   "language": "python",
   "name": "python3"
  },
  "language_info": {
   "codemirror_mode": {
    "name": "ipython",
    "version": 2
   },
   "file_extension": ".py",
   "mimetype": "text/x-python",
   "name": "python",
   "nbconvert_exporter": "python",
   "pygments_lexer": "ipython2",
   "version": "2.7.6"
  }
 },
 "nbformat": 4,
 "nbformat_minor": 0
}