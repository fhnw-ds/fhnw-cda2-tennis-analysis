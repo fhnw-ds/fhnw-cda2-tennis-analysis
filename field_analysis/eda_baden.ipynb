{
 "cells": [
  {
   "cell_type": "code",
   "outputs": [],
   "source": [
    "import pandas as pd\n",
    "import numpy as np\n",
    "import seaborn as sns\n",
    "import matplotlib.pyplot as plt\n",
    "from helperClasses.DataPipeline import DataPipeline\n",
    "from helperClasses.BaseTransformation import BaseTransformation"
   ],
   "metadata": {
    "collapsed": false,
    "ExecuteTime": {
     "end_time": "2024-01-12T16:10:10.668378300Z",
     "start_time": "2024-01-12T16:10:10.572163300Z"
    }
   },
   "id": "2e003a17f221013b",
   "execution_count": 216
  },
  {
   "cell_type": "code",
   "execution_count": 217,
   "id": "initial_id",
   "metadata": {
    "collapsed": true,
    "ExecuteTime": {
     "end_time": "2024-01-12T16:10:10.794734900Z",
     "start_time": "2024-01-12T16:10:10.674049100Z"
    }
   },
   "outputs": [],
   "source": [
    "cam = pd.read_csv(\"../data/df_detected_objects_game.csv\")\n",
    "labels = pd.read_csv(\"../data/tennis_labels.csv\", sep=\";\")\n",
    "cam = cam.drop(columns= [\"head_x\", \"head_y\", \"head_z\"])"
   ]
  },
  {
   "cell_type": "markdown",
   "source": [
    "# Hilfe Funktionen"
   ],
   "metadata": {
    "collapsed": false
   },
   "id": "344395bbdc3f1374"
  },
  {
   "cell_type": "code",
   "outputs": [],
   "source": [
    "P1=np.array([-4.207, -1.846, -5.733])\n",
    "P2=np.array([3.415, -1.870, -5.489])\n",
    "P3=np.array([-0.057, -1.703, -15.554])"
   ],
   "metadata": {
    "collapsed": false,
    "ExecuteTime": {
     "end_time": "2024-01-12T16:10:10.841542900Z",
     "start_time": "2024-01-12T16:10:10.786604600Z"
    }
   },
   "id": "619a33c251006535",
   "execution_count": 218
  },
  {
   "cell_type": "code",
   "outputs": [],
   "source": [
    "def Tennisfeld(r,P1,P2,P3):\n",
    "    r1=P2-P1\n",
    "    r2=-(P3-0.5*(P1+P2))\n",
    "    # Basisvektoren\n",
    "    r1u=r1/np.sqrt(np.dot(r1,r1))\n",
    "    r2u=r2/np.sqrt(np.dot(r2,r2))\n",
    "    r3u=np.cross(r1u,r2u)\n",
    "    # Translation\n",
    "    T0=0.5*(P1+P2)-r2u\n",
    "    # Rotation\n",
    "    M1=np.c_[r1u,r2u,r3u]\n",
    "    M1_inv=np.linalg.inv(M1)\n",
    "    # Abbildung\n",
    "    return np.inner(M1_inv,(r-T0))  "
   ],
   "metadata": {
    "collapsed": false,
    "ExecuteTime": {
     "end_time": "2024-01-12T16:10:10.842652500Z",
     "start_time": "2024-01-12T16:10:10.801552900Z"
    }
   },
   "id": "2d2d760680927c7c",
   "execution_count": 219
  },
  {
   "cell_type": "code",
   "outputs": [
    {
     "data": {
      "text/plain": "array([-3.81297115e+00,  1.00000000e+00, -5.53413430e-17])"
     },
     "execution_count": 220,
     "metadata": {},
     "output_type": "execute_result"
    }
   ],
   "source": [
    "Tennisfeld(P1,P1,P2,P3)"
   ],
   "metadata": {
    "collapsed": false,
    "ExecuteTime": {
     "end_time": "2024-01-12T16:10:10.891600700Z",
     "start_time": "2024-01-12T16:10:10.817860Z"
    }
   },
   "id": "472ef4c3952b33a7",
   "execution_count": 220
  },
  {
   "cell_type": "markdown",
   "source": [
    "df[\"x\"] = df[\"x\"].apply(lambda x: Tennisfeld(np.array([x,0,0]),P1,P2,P3)[0])\n",
    "df[\"y\"] = df[\"y\"].apply(lambda x: Tennisfeld(np.array([0,x,0]),P1,P2,P3)[1])\n",
    "df[\"z\"] = df[\"z\"].apply(lambda x: Tennisfeld(np.array([0,0,x]),P1,P2,P3)[2])"
   ],
   "metadata": {
    "collapsed": false
   },
   "id": "4bb21437357dfc63"
  },
  {
   "cell_type": "markdown",
   "source": [
    "calibration_points = np.array([\n",
    "    [-4.207, -1.846, -5.733], # service line center\n",
    "    [3.415, -1.870, -5.489], # service x singles sideline\n",
    "    [-0.057, -1.703, -15.554] # baseline x singles sideline\n",
    "])\n",
    "bt = BaseTransformation(calibration_points)\n",
    "df = bt.transformData(df, [-1.5, 0, -18.28])"
   ],
   "metadata": {
    "collapsed": false
   },
   "id": "fa99e08a0da2604d"
  },
  {
   "cell_type": "code",
   "outputs": [],
   "source": [
    "def drawTennisField():\n",
    "    plt.plot([4.11, 4.11], [-11.89, 11.89], 'k', lw=2) # Single sideline rechts\n",
    "    plt.plot([5.48, 5.48], [-11.89, 11.89], 'k', lw=2) # Double sideline rechts\n",
    "    plt.plot([-4.11, -4.11], [-11.89, 11.89], 'k', lw=2) # Single sideline links\n",
    "    plt.plot([-5.48, -5.48], [-11.89, 11.89], 'k', lw=2) # Double sideline links\n",
    "    plt.plot([0, 0], [-6.40, 6.40], 'k', lw=2) # Center Service Line\n",
    "    plt.plot([-5.48, 5.48], [0, 0], 'k', lw=2) # Net\n",
    "    plt.plot([-5.48, 5.48], [11.89, 11.89], 'k', lw=2) # Baseline oben\n",
    "    plt.plot([-5.48, 5.48], [-11.89, -11.89], 'k', lw=2) # Baseline unten\n",
    "    plt.plot([-4.11, 4.11], [-6.40, -6.40], 'k', lw=2) # Service Line unten\n",
    "    plt.plot([-4.11, 4.11], [6.40, 6.40], 'k', lw=2) # Service Line oben"
   ],
   "metadata": {
    "collapsed": false,
    "ExecuteTime": {
     "end_time": "2024-01-12T16:10:10.894943300Z",
     "start_time": "2024-01-12T16:10:10.835837900Z"
    }
   },
   "id": "36b92f15f606f487",
   "execution_count": 221
  },
  {
   "cell_type": "markdown",
   "source": [
    "# Analyse Tennisspiel"
   ],
   "metadata": {
    "collapsed": false
   },
   "id": "ef6b2003d3ce5fad"
  },
  {
   "cell_type": "markdown",
   "source": [
    "## Datawrangling"
   ],
   "metadata": {
    "collapsed": false
   },
   "id": "69d66ca31e388e6"
  },
  {
   "cell_type": "markdown",
   "source": [
    "Wir schauen kurz die Daten an die von der Kamera kommen."
   ],
   "metadata": {
    "collapsed": false
   },
   "id": "5b983a28875f64b9"
  },
  {
   "cell_type": "code",
   "outputs": [
    {
     "data": {
      "text/plain": "   frame  object_id object_label  confidence tracking_state        x        y  \\\n0      3          0       Person    79.83398             OK  1.20102  0.41904   \n1      4          0       Person    87.45117             OK  1.15833  0.41409   \n2      5          0       Person    89.20898             OK  1.11960  0.40943   \n3      6          0       Person    90.03906             OK  1.08496  0.40524   \n4     10          2       Person    91.06445             OK  4.09950  1.25795   \n\n         z       vx       xy       vz    width   height   length  \n0  1.55682 -1.75535 -0.26043  0.55864  0.49680  0.57462  0.49680  \n1  1.56276 -1.56742 -0.20237  0.39540  0.49763  0.58033  0.49763  \n2  1.56608 -1.45386 -0.16676  0.29555  0.50174  0.58424  0.50174  \n3  1.56808 -1.35545 -0.14275  0.23192  0.51613  0.58824  0.51613  \n4  5.92474 -4.40850  0.16304 -1.38635  2.54048  2.63067  2.54048  ",
      "text/html": "<div>\n<style scoped>\n    .dataframe tbody tr th:only-of-type {\n        vertical-align: middle;\n    }\n\n    .dataframe tbody tr th {\n        vertical-align: top;\n    }\n\n    .dataframe thead th {\n        text-align: right;\n    }\n</style>\n<table border=\"1\" class=\"dataframe\">\n  <thead>\n    <tr style=\"text-align: right;\">\n      <th></th>\n      <th>frame</th>\n      <th>object_id</th>\n      <th>object_label</th>\n      <th>confidence</th>\n      <th>tracking_state</th>\n      <th>x</th>\n      <th>y</th>\n      <th>z</th>\n      <th>vx</th>\n      <th>xy</th>\n      <th>vz</th>\n      <th>width</th>\n      <th>height</th>\n      <th>length</th>\n    </tr>\n  </thead>\n  <tbody>\n    <tr>\n      <th>0</th>\n      <td>3</td>\n      <td>0</td>\n      <td>Person</td>\n      <td>79.83398</td>\n      <td>OK</td>\n      <td>1.20102</td>\n      <td>0.41904</td>\n      <td>1.55682</td>\n      <td>-1.75535</td>\n      <td>-0.26043</td>\n      <td>0.55864</td>\n      <td>0.49680</td>\n      <td>0.57462</td>\n      <td>0.49680</td>\n    </tr>\n    <tr>\n      <th>1</th>\n      <td>4</td>\n      <td>0</td>\n      <td>Person</td>\n      <td>87.45117</td>\n      <td>OK</td>\n      <td>1.15833</td>\n      <td>0.41409</td>\n      <td>1.56276</td>\n      <td>-1.56742</td>\n      <td>-0.20237</td>\n      <td>0.39540</td>\n      <td>0.49763</td>\n      <td>0.58033</td>\n      <td>0.49763</td>\n    </tr>\n    <tr>\n      <th>2</th>\n      <td>5</td>\n      <td>0</td>\n      <td>Person</td>\n      <td>89.20898</td>\n      <td>OK</td>\n      <td>1.11960</td>\n      <td>0.40943</td>\n      <td>1.56608</td>\n      <td>-1.45386</td>\n      <td>-0.16676</td>\n      <td>0.29555</td>\n      <td>0.50174</td>\n      <td>0.58424</td>\n      <td>0.50174</td>\n    </tr>\n    <tr>\n      <th>3</th>\n      <td>6</td>\n      <td>0</td>\n      <td>Person</td>\n      <td>90.03906</td>\n      <td>OK</td>\n      <td>1.08496</td>\n      <td>0.40524</td>\n      <td>1.56808</td>\n      <td>-1.35545</td>\n      <td>-0.14275</td>\n      <td>0.23192</td>\n      <td>0.51613</td>\n      <td>0.58824</td>\n      <td>0.51613</td>\n    </tr>\n    <tr>\n      <th>4</th>\n      <td>10</td>\n      <td>2</td>\n      <td>Person</td>\n      <td>91.06445</td>\n      <td>OK</td>\n      <td>4.09950</td>\n      <td>1.25795</td>\n      <td>5.92474</td>\n      <td>-4.40850</td>\n      <td>0.16304</td>\n      <td>-1.38635</td>\n      <td>2.54048</td>\n      <td>2.63067</td>\n      <td>2.54048</td>\n    </tr>\n  </tbody>\n</table>\n</div>"
     },
     "execution_count": 222,
     "metadata": {},
     "output_type": "execute_result"
    }
   ],
   "source": [
    "cam.head()"
   ],
   "metadata": {
    "collapsed": false,
    "ExecuteTime": {
     "end_time": "2024-01-12T16:10:10.938806400Z",
     "start_time": "2024-01-12T16:10:10.849413300Z"
    }
   },
   "id": "a0b7ba3c37c3c5f2",
   "execution_count": 222
  },
  {
   "cell_type": "markdown",
   "source": [
    "Nun schauen wir uns die Labels an, die von uns erstellt wurden."
   ],
   "metadata": {
    "collapsed": false
   },
   "id": "6f65e7e7cde21e3e"
  },
  {
   "cell_type": "code",
   "outputs": [
    {
     "data": {
      "text/plain": "   Frame Status Schlag Spieler 1 Schlag Spieler 2  Satz\n0    287  Aktiv         Anschlag              NaN   1.0\n1    318    NaN              NaN        Fronthand   NaN\n2    372    NaN        Fronthand              NaN   NaN\n3    421    NaN              NaN         Backhand   NaN\n4    469    NaN         Backhand              NaN   NaN",
      "text/html": "<div>\n<style scoped>\n    .dataframe tbody tr th:only-of-type {\n        vertical-align: middle;\n    }\n\n    .dataframe tbody tr th {\n        vertical-align: top;\n    }\n\n    .dataframe thead th {\n        text-align: right;\n    }\n</style>\n<table border=\"1\" class=\"dataframe\">\n  <thead>\n    <tr style=\"text-align: right;\">\n      <th></th>\n      <th>Frame</th>\n      <th>Status</th>\n      <th>Schlag Spieler 1</th>\n      <th>Schlag Spieler 2</th>\n      <th>Satz</th>\n    </tr>\n  </thead>\n  <tbody>\n    <tr>\n      <th>0</th>\n      <td>287</td>\n      <td>Aktiv</td>\n      <td>Anschlag</td>\n      <td>NaN</td>\n      <td>1.0</td>\n    </tr>\n    <tr>\n      <th>1</th>\n      <td>318</td>\n      <td>NaN</td>\n      <td>NaN</td>\n      <td>Fronthand</td>\n      <td>NaN</td>\n    </tr>\n    <tr>\n      <th>2</th>\n      <td>372</td>\n      <td>NaN</td>\n      <td>Fronthand</td>\n      <td>NaN</td>\n      <td>NaN</td>\n    </tr>\n    <tr>\n      <th>3</th>\n      <td>421</td>\n      <td>NaN</td>\n      <td>NaN</td>\n      <td>Backhand</td>\n      <td>NaN</td>\n    </tr>\n    <tr>\n      <th>4</th>\n      <td>469</td>\n      <td>NaN</td>\n      <td>Backhand</td>\n      <td>NaN</td>\n      <td>NaN</td>\n    </tr>\n  </tbody>\n</table>\n</div>"
     },
     "execution_count": 223,
     "metadata": {},
     "output_type": "execute_result"
    }
   ],
   "source": [
    "labels.head()"
   ],
   "metadata": {
    "collapsed": false,
    "ExecuteTime": {
     "end_time": "2024-01-12T16:10:10.956512800Z",
     "start_time": "2024-01-12T16:10:10.879260Z"
    }
   },
   "id": "ecc7a9462db789c9",
   "execution_count": 223
  },
  {
   "cell_type": "markdown",
   "source": [
    "Frame um Datensatz einzuschränken"
   ],
   "metadata": {
    "collapsed": false
   },
   "id": "8a45fae556fc90c"
  },
  {
   "cell_type": "code",
   "outputs": [
    {
     "name": "stdout",
     "output_type": "stream",
     "text": [
      "Max Frame: 25420\n",
      "Min Frame: 287\n"
     ]
    }
   ],
   "source": [
    "max_label = labels[\"Frame\"].max()\n",
    "min_label = labels[\"Frame\"].min()\n",
    "\n",
    "print(\"Max Frame: \" + str(labels[\"Frame\"].max()))\n",
    "print(\"Min Frame: \" + str(labels[\"Frame\"].min()))"
   ],
   "metadata": {
    "collapsed": false,
    "ExecuteTime": {
     "end_time": "2024-01-12T16:10:10.987000100Z",
     "start_time": "2024-01-12T16:10:10.909603900Z"
    }
   },
   "id": "81b9a779ea5fb094",
   "execution_count": 224
  },
  {
   "cell_type": "code",
   "outputs": [],
   "source": [
    "df = pd.merge(cam, labels, left_on=\"frame\", right_on=\"Frame\", how=\"left\")\n",
    "df = df.drop(columns=[\"Frame\"])"
   ],
   "metadata": {
    "collapsed": false,
    "ExecuteTime": {
     "end_time": "2024-01-12T16:10:11.110131600Z",
     "start_time": "2024-01-12T16:10:10.923919800Z"
    }
   },
   "id": "5ba949795ec18edc",
   "execution_count": 225
  },
  {
   "cell_type": "code",
   "outputs": [],
   "source": [
    "df = df[ (df[\"frame\"] >= min_label) & (df[\"frame\"] <= max_label)]"
   ],
   "metadata": {
    "collapsed": false,
    "ExecuteTime": {
     "end_time": "2024-01-12T16:10:11.153069900Z",
     "start_time": "2024-01-12T16:10:10.969836500Z"
    }
   },
   "id": "1e4e0da601f9fb8b",
   "execution_count": 226
  },
  {
   "cell_type": "code",
   "outputs": [],
   "source": [
    "df[[\"Status\", \"Satz\"]] = df[[\"Status\", \"Satz\"]].ffill()"
   ],
   "metadata": {
    "collapsed": false,
    "ExecuteTime": {
     "end_time": "2024-01-12T16:10:11.224628300Z",
     "start_time": "2024-01-12T16:10:11.003352300Z"
    }
   },
   "id": "a95e1a74c5a9c2be",
   "execution_count": 227
  },
  {
   "cell_type": "code",
   "outputs": [
    {
     "data": {
      "text/plain": "     frame object_id object_label  confidence tracking_state        x  \\\n521    287         3       Person    83.69141             OK  0.09633   \n522    287         1       Person    32.34863             OK -2.30320   \n523    288         3       Person    87.69531             OK  0.09590   \n524    288         1       Person    33.88672             OK -2.30133   \n525    289         3       Person    87.45117             OK  0.09519   \n\n           y         z       vx       xy       vz    width   height   length  \\\n521 -0.70178   5.61177  0.01540 -0.04420  0.15406  0.64888  1.99435  0.64888   \n522 -6.71382  25.18980 -0.06328  0.04720 -0.17333  0.61570  1.17692  0.61570   \n523 -0.70376   5.61024  0.02580 -0.03045  0.10899  0.66799  1.97376  0.66799   \n524 -6.69036  25.07622 -0.05046  0.03763 -0.13822  0.61899  1.17656  0.61899   \n525 -0.70320   5.60934  0.02339 -0.02760  0.09879  0.68904  1.95456  0.68904   \n\n    Status Schlag Spieler 1 Schlag Spieler 2  Satz  \n521  Aktiv         Anschlag              NaN   1.0  \n522  Aktiv         Anschlag              NaN   1.0  \n523  Aktiv              NaN              NaN   1.0  \n524  Aktiv              NaN              NaN   1.0  \n525  Aktiv              NaN              NaN   1.0  ",
      "text/html": "<div>\n<style scoped>\n    .dataframe tbody tr th:only-of-type {\n        vertical-align: middle;\n    }\n\n    .dataframe tbody tr th {\n        vertical-align: top;\n    }\n\n    .dataframe thead th {\n        text-align: right;\n    }\n</style>\n<table border=\"1\" class=\"dataframe\">\n  <thead>\n    <tr style=\"text-align: right;\">\n      <th></th>\n      <th>frame</th>\n      <th>object_id</th>\n      <th>object_label</th>\n      <th>confidence</th>\n      <th>tracking_state</th>\n      <th>x</th>\n      <th>y</th>\n      <th>z</th>\n      <th>vx</th>\n      <th>xy</th>\n      <th>vz</th>\n      <th>width</th>\n      <th>height</th>\n      <th>length</th>\n      <th>Status</th>\n      <th>Schlag Spieler 1</th>\n      <th>Schlag Spieler 2</th>\n      <th>Satz</th>\n    </tr>\n  </thead>\n  <tbody>\n    <tr>\n      <th>521</th>\n      <td>287</td>\n      <td>3</td>\n      <td>Person</td>\n      <td>83.69141</td>\n      <td>OK</td>\n      <td>0.09633</td>\n      <td>-0.70178</td>\n      <td>5.61177</td>\n      <td>0.01540</td>\n      <td>-0.04420</td>\n      <td>0.15406</td>\n      <td>0.64888</td>\n      <td>1.99435</td>\n      <td>0.64888</td>\n      <td>Aktiv</td>\n      <td>Anschlag</td>\n      <td>NaN</td>\n      <td>1.0</td>\n    </tr>\n    <tr>\n      <th>522</th>\n      <td>287</td>\n      <td>1</td>\n      <td>Person</td>\n      <td>32.34863</td>\n      <td>OK</td>\n      <td>-2.30320</td>\n      <td>-6.71382</td>\n      <td>25.18980</td>\n      <td>-0.06328</td>\n      <td>0.04720</td>\n      <td>-0.17333</td>\n      <td>0.61570</td>\n      <td>1.17692</td>\n      <td>0.61570</td>\n      <td>Aktiv</td>\n      <td>Anschlag</td>\n      <td>NaN</td>\n      <td>1.0</td>\n    </tr>\n    <tr>\n      <th>523</th>\n      <td>288</td>\n      <td>3</td>\n      <td>Person</td>\n      <td>87.69531</td>\n      <td>OK</td>\n      <td>0.09590</td>\n      <td>-0.70376</td>\n      <td>5.61024</td>\n      <td>0.02580</td>\n      <td>-0.03045</td>\n      <td>0.10899</td>\n      <td>0.66799</td>\n      <td>1.97376</td>\n      <td>0.66799</td>\n      <td>Aktiv</td>\n      <td>NaN</td>\n      <td>NaN</td>\n      <td>1.0</td>\n    </tr>\n    <tr>\n      <th>524</th>\n      <td>288</td>\n      <td>1</td>\n      <td>Person</td>\n      <td>33.88672</td>\n      <td>OK</td>\n      <td>-2.30133</td>\n      <td>-6.69036</td>\n      <td>25.07622</td>\n      <td>-0.05046</td>\n      <td>0.03763</td>\n      <td>-0.13822</td>\n      <td>0.61899</td>\n      <td>1.17656</td>\n      <td>0.61899</td>\n      <td>Aktiv</td>\n      <td>NaN</td>\n      <td>NaN</td>\n      <td>1.0</td>\n    </tr>\n    <tr>\n      <th>525</th>\n      <td>289</td>\n      <td>3</td>\n      <td>Person</td>\n      <td>87.45117</td>\n      <td>OK</td>\n      <td>0.09519</td>\n      <td>-0.70320</td>\n      <td>5.60934</td>\n      <td>0.02339</td>\n      <td>-0.02760</td>\n      <td>0.09879</td>\n      <td>0.68904</td>\n      <td>1.95456</td>\n      <td>0.68904</td>\n      <td>Aktiv</td>\n      <td>NaN</td>\n      <td>NaN</td>\n      <td>1.0</td>\n    </tr>\n  </tbody>\n</table>\n</div>"
     },
     "execution_count": 233,
     "metadata": {},
     "output_type": "execute_result"
    }
   ],
   "source": [
    "df.head()"
   ],
   "metadata": {
    "collapsed": false,
    "ExecuteTime": {
     "end_time": "2024-01-12T16:13:06.532879200Z",
     "start_time": "2024-01-12T16:13:06.494512400Z"
    }
   },
   "id": "543be5badca91e06",
   "execution_count": 233
  },
  {
   "cell_type": "code",
   "outputs": [
    {
     "data": {
      "text/plain": "                 x                                           ...   z          \\\nobject_id        1        3   5   6   7   8  11  12  14  15  ...  74  75  76   \nframe                                                        ...               \n287       -2.30320  0.09633 NaN NaN NaN NaN NaN NaN NaN NaN  ... NaN NaN NaN   \n288       -2.30133  0.09590 NaN NaN NaN NaN NaN NaN NaN NaN  ... NaN NaN NaN   \n289       -2.29745  0.09519 NaN NaN NaN NaN NaN NaN NaN NaN  ... NaN NaN NaN   \n290       -2.29753  0.08992 NaN NaN NaN NaN NaN NaN NaN NaN  ... NaN NaN NaN   \n291       -2.29808  0.08545 NaN NaN NaN NaN NaN NaN NaN NaN  ... NaN NaN NaN   \n\n                                       \nobject_id  77  78  79  80  82  83  84  \nframe                                  \n287       NaN NaN NaN NaN NaN NaN NaN  \n288       NaN NaN NaN NaN NaN NaN NaN  \n289       NaN NaN NaN NaN NaN NaN NaN  \n290       NaN NaN NaN NaN NaN NaN NaN  \n291       NaN NaN NaN NaN NaN NaN NaN  \n\n[5 rows x 165 columns]",
      "text/html": "<div>\n<style scoped>\n    .dataframe tbody tr th:only-of-type {\n        vertical-align: middle;\n    }\n\n    .dataframe tbody tr th {\n        vertical-align: top;\n    }\n\n    .dataframe thead tr th {\n        text-align: left;\n    }\n\n    .dataframe thead tr:last-of-type th {\n        text-align: right;\n    }\n</style>\n<table border=\"1\" class=\"dataframe\">\n  <thead>\n    <tr>\n      <th></th>\n      <th colspan=\"10\" halign=\"left\">x</th>\n      <th>...</th>\n      <th colspan=\"10\" halign=\"left\">z</th>\n    </tr>\n    <tr>\n      <th>object_id</th>\n      <th>1</th>\n      <th>3</th>\n      <th>5</th>\n      <th>6</th>\n      <th>7</th>\n      <th>8</th>\n      <th>11</th>\n      <th>12</th>\n      <th>14</th>\n      <th>15</th>\n      <th>...</th>\n      <th>74</th>\n      <th>75</th>\n      <th>76</th>\n      <th>77</th>\n      <th>78</th>\n      <th>79</th>\n      <th>80</th>\n      <th>82</th>\n      <th>83</th>\n      <th>84</th>\n    </tr>\n    <tr>\n      <th>frame</th>\n      <th></th>\n      <th></th>\n      <th></th>\n      <th></th>\n      <th></th>\n      <th></th>\n      <th></th>\n      <th></th>\n      <th></th>\n      <th></th>\n      <th></th>\n      <th></th>\n      <th></th>\n      <th></th>\n      <th></th>\n      <th></th>\n      <th></th>\n      <th></th>\n      <th></th>\n      <th></th>\n      <th></th>\n    </tr>\n  </thead>\n  <tbody>\n    <tr>\n      <th>287</th>\n      <td>-2.30320</td>\n      <td>0.09633</td>\n      <td>NaN</td>\n      <td>NaN</td>\n      <td>NaN</td>\n      <td>NaN</td>\n      <td>NaN</td>\n      <td>NaN</td>\n      <td>NaN</td>\n      <td>NaN</td>\n      <td>...</td>\n      <td>NaN</td>\n      <td>NaN</td>\n      <td>NaN</td>\n      <td>NaN</td>\n      <td>NaN</td>\n      <td>NaN</td>\n      <td>NaN</td>\n      <td>NaN</td>\n      <td>NaN</td>\n      <td>NaN</td>\n    </tr>\n    <tr>\n      <th>288</th>\n      <td>-2.30133</td>\n      <td>0.09590</td>\n      <td>NaN</td>\n      <td>NaN</td>\n      <td>NaN</td>\n      <td>NaN</td>\n      <td>NaN</td>\n      <td>NaN</td>\n      <td>NaN</td>\n      <td>NaN</td>\n      <td>...</td>\n      <td>NaN</td>\n      <td>NaN</td>\n      <td>NaN</td>\n      <td>NaN</td>\n      <td>NaN</td>\n      <td>NaN</td>\n      <td>NaN</td>\n      <td>NaN</td>\n      <td>NaN</td>\n      <td>NaN</td>\n    </tr>\n    <tr>\n      <th>289</th>\n      <td>-2.29745</td>\n      <td>0.09519</td>\n      <td>NaN</td>\n      <td>NaN</td>\n      <td>NaN</td>\n      <td>NaN</td>\n      <td>NaN</td>\n      <td>NaN</td>\n      <td>NaN</td>\n      <td>NaN</td>\n      <td>...</td>\n      <td>NaN</td>\n      <td>NaN</td>\n      <td>NaN</td>\n      <td>NaN</td>\n      <td>NaN</td>\n      <td>NaN</td>\n      <td>NaN</td>\n      <td>NaN</td>\n      <td>NaN</td>\n      <td>NaN</td>\n    </tr>\n    <tr>\n      <th>290</th>\n      <td>-2.29753</td>\n      <td>0.08992</td>\n      <td>NaN</td>\n      <td>NaN</td>\n      <td>NaN</td>\n      <td>NaN</td>\n      <td>NaN</td>\n      <td>NaN</td>\n      <td>NaN</td>\n      <td>NaN</td>\n      <td>...</td>\n      <td>NaN</td>\n      <td>NaN</td>\n      <td>NaN</td>\n      <td>NaN</td>\n      <td>NaN</td>\n      <td>NaN</td>\n      <td>NaN</td>\n      <td>NaN</td>\n      <td>NaN</td>\n      <td>NaN</td>\n    </tr>\n    <tr>\n      <th>291</th>\n      <td>-2.29808</td>\n      <td>0.08545</td>\n      <td>NaN</td>\n      <td>NaN</td>\n      <td>NaN</td>\n      <td>NaN</td>\n      <td>NaN</td>\n      <td>NaN</td>\n      <td>NaN</td>\n      <td>NaN</td>\n      <td>...</td>\n      <td>NaN</td>\n      <td>NaN</td>\n      <td>NaN</td>\n      <td>NaN</td>\n      <td>NaN</td>\n      <td>NaN</td>\n      <td>NaN</td>\n      <td>NaN</td>\n      <td>NaN</td>\n      <td>NaN</td>\n    </tr>\n  </tbody>\n</table>\n<p>5 rows × 165 columns</p>\n</div>"
     },
     "execution_count": 232,
     "metadata": {},
     "output_type": "execute_result"
    }
   ],
   "source": [
    "df.pivot(index='frame', columns=['object_id'], values=['x', 'y', 'z']).head()"
   ],
   "metadata": {
    "collapsed": false,
    "ExecuteTime": {
     "end_time": "2024-01-12T16:11:38.454836300Z",
     "start_time": "2024-01-12T16:11:38.362243200Z"
    }
   },
   "id": "d9ec3cd20b59065a",
   "execution_count": 232
  },
  {
   "cell_type": "code",
   "outputs": [
    {
     "name": "stdout",
     "output_type": "stream",
     "text": [
      "<class 'pandas.core.frame.DataFrame'>\n",
      "Int64Index: 40927 entries, 521 to 41447\n",
      "Data columns (total 18 columns):\n",
      " #   Column            Non-Null Count  Dtype  \n",
      "---  ------            --------------  -----  \n",
      " 0   frame             40927 non-null  int64  \n",
      " 1   object_id         40927 non-null  int64  \n",
      " 2   object_label      40927 non-null  object \n",
      " 3   confidence        40927 non-null  float64\n",
      " 4   tracking_state    40927 non-null  object \n",
      " 5   x                 40921 non-null  float64\n",
      " 6   y                 40921 non-null  float64\n",
      " 7   z                 40921 non-null  float64\n",
      " 8   vx                40921 non-null  float64\n",
      " 9   xy                40921 non-null  float64\n",
      " 10  vz                40921 non-null  float64\n",
      " 11  width             40927 non-null  float64\n",
      " 12  height            40927 non-null  float64\n",
      " 13  length            40927 non-null  float64\n",
      " 14  Status            40927 non-null  object \n",
      " 15  Schlag Spieler 1  139 non-null    object \n",
      " 16  Schlag Spieler 2  116 non-null    object \n",
      " 17  Satz              40927 non-null  float64\n",
      "dtypes: float64(11), int64(2), object(5)\n",
      "memory usage: 5.9+ MB\n"
     ]
    }
   ],
   "source": [
    "df.info()"
   ],
   "metadata": {
    "collapsed": false,
    "ExecuteTime": {
     "end_time": "2024-01-12T16:10:11.245600900Z",
     "start_time": "2024-01-12T16:10:11.064997200Z"
    }
   },
   "id": "39b79900cbbdc47e",
   "execution_count": 229
  },
  {
   "cell_type": "code",
   "outputs": [],
   "source": [
    "df[\"object_id\"] = df[\"object_id\"].astype(\"category\")\n",
    "df[\"object_label\"] = df[\"object_label\"].astype(\"category\")\n",
    "df[\"tracking_state\"] = df[\"tracking_state\"].astype(\"category\")"
   ],
   "metadata": {
    "collapsed": false,
    "ExecuteTime": {
     "end_time": "2024-01-12T16:10:11.246703700Z",
     "start_time": "2024-01-12T16:10:11.118984100Z"
    }
   },
   "id": "2fe1c8fca25c620",
   "execution_count": 230
  },
  {
   "cell_type": "code",
   "outputs": [
    {
     "data": {
      "text/plain": "               frame  object_id object_label    confidence tracking_state  \\\ncount   40927.000000    40927.0        40927  40927.000000          40927   \nunique           NaN       55.0            1           NaN              1   \ntop              NaN       43.0       Person           NaN             OK   \nfreq             NaN     3372.0        40927           NaN          40927   \nmean    12749.197693        NaN          NaN     63.723468            NaN   \nstd      7284.000623        NaN          NaN     25.954921            NaN   \nmin       287.000000        NaN          NaN     20.056150            NaN   \n25%      6424.000000        NaN          NaN     36.743160            NaN   \n50%     12779.000000        NaN          NaN     77.929690            NaN   \n75%     18874.500000        NaN          NaN     87.109380            NaN   \nmax     25420.000000        NaN          NaN     95.263670            NaN   \n\n                   x             y             z            vx            xy  \\\ncount   40921.000000  40921.000000  40921.000000  40921.000000  40921.000000   \nunique           NaN           NaN           NaN           NaN           NaN   \ntop              NaN           NaN           NaN           NaN           NaN   \nfreq             NaN           NaN           NaN           NaN           NaN   \nmean       -0.122519     -3.334881     14.679790      0.001801     -0.002822   \nstd         2.082710      2.758861      9.094114      0.705281      0.264532   \nmin        -6.107420     -7.289750      1.055340    -11.140330     -4.515370   \n25%        -1.749370     -6.400770      5.376850     -0.309650     -0.148990   \n50%        -0.281750     -2.778260     12.805230      0.011770     -0.008040   \n75%         1.423310     -0.549400     24.772980      0.293260      0.139230   \nmax         7.349410      1.218800     27.311240     11.624160      9.258560   \n\n                  vz         width        height        length   Status  \\\ncount   40921.000000  40927.000000  40927.000000  40927.000000    40927   \nunique           NaN           NaN           NaN           NaN        2   \ntop              NaN           NaN           NaN           NaN  Inaktiv   \nfreq             NaN           NaN           NaN           NaN    30691   \nmean        0.010018      0.690503      1.575351      0.690503      NaN   \nstd         0.893745      0.127199      0.236615      0.127199      NaN   \nmin       -30.994610      0.000000      0.000000      0.000000      NaN   \n25%        -0.449950      0.611500      1.381120      0.611500      NaN   \n50%         0.032300      0.668100      1.656850      0.668100      NaN   \n75%         0.506940      0.739995      1.768190      0.739990      NaN   \nmax        15.220540      2.215970      2.874190      2.215970      NaN   \n\n       Schlag Spieler 1 Schlag Spieler 2          Satz  \ncount               139              116  40927.000000  \nunique                3                3           NaN  \ntop            Anschlag        Fronthand           NaN  \nfreq                 49               59           NaN  \nmean                NaN              NaN      2.376964  \nstd                 NaN              NaN      0.858455  \nmin                 NaN              NaN      1.000000  \n25%                 NaN              NaN      1.000000  \n50%                 NaN              NaN      3.000000  \n75%                 NaN              NaN      3.000000  \nmax                 NaN              NaN      3.000000  ",
      "text/html": "<div>\n<style scoped>\n    .dataframe tbody tr th:only-of-type {\n        vertical-align: middle;\n    }\n\n    .dataframe tbody tr th {\n        vertical-align: top;\n    }\n\n    .dataframe thead th {\n        text-align: right;\n    }\n</style>\n<table border=\"1\" class=\"dataframe\">\n  <thead>\n    <tr style=\"text-align: right;\">\n      <th></th>\n      <th>frame</th>\n      <th>object_id</th>\n      <th>object_label</th>\n      <th>confidence</th>\n      <th>tracking_state</th>\n      <th>x</th>\n      <th>y</th>\n      <th>z</th>\n      <th>vx</th>\n      <th>xy</th>\n      <th>vz</th>\n      <th>width</th>\n      <th>height</th>\n      <th>length</th>\n      <th>Status</th>\n      <th>Schlag Spieler 1</th>\n      <th>Schlag Spieler 2</th>\n      <th>Satz</th>\n    </tr>\n  </thead>\n  <tbody>\n    <tr>\n      <th>count</th>\n      <td>40927.000000</td>\n      <td>40927.0</td>\n      <td>40927</td>\n      <td>40927.000000</td>\n      <td>40927</td>\n      <td>40921.000000</td>\n      <td>40921.000000</td>\n      <td>40921.000000</td>\n      <td>40921.000000</td>\n      <td>40921.000000</td>\n      <td>40921.000000</td>\n      <td>40927.000000</td>\n      <td>40927.000000</td>\n      <td>40927.000000</td>\n      <td>40927</td>\n      <td>139</td>\n      <td>116</td>\n      <td>40927.000000</td>\n    </tr>\n    <tr>\n      <th>unique</th>\n      <td>NaN</td>\n      <td>55.0</td>\n      <td>1</td>\n      <td>NaN</td>\n      <td>1</td>\n      <td>NaN</td>\n      <td>NaN</td>\n      <td>NaN</td>\n      <td>NaN</td>\n      <td>NaN</td>\n      <td>NaN</td>\n      <td>NaN</td>\n      <td>NaN</td>\n      <td>NaN</td>\n      <td>2</td>\n      <td>3</td>\n      <td>3</td>\n      <td>NaN</td>\n    </tr>\n    <tr>\n      <th>top</th>\n      <td>NaN</td>\n      <td>43.0</td>\n      <td>Person</td>\n      <td>NaN</td>\n      <td>OK</td>\n      <td>NaN</td>\n      <td>NaN</td>\n      <td>NaN</td>\n      <td>NaN</td>\n      <td>NaN</td>\n      <td>NaN</td>\n      <td>NaN</td>\n      <td>NaN</td>\n      <td>NaN</td>\n      <td>Inaktiv</td>\n      <td>Anschlag</td>\n      <td>Fronthand</td>\n      <td>NaN</td>\n    </tr>\n    <tr>\n      <th>freq</th>\n      <td>NaN</td>\n      <td>3372.0</td>\n      <td>40927</td>\n      <td>NaN</td>\n      <td>40927</td>\n      <td>NaN</td>\n      <td>NaN</td>\n      <td>NaN</td>\n      <td>NaN</td>\n      <td>NaN</td>\n      <td>NaN</td>\n      <td>NaN</td>\n      <td>NaN</td>\n      <td>NaN</td>\n      <td>30691</td>\n      <td>49</td>\n      <td>59</td>\n      <td>NaN</td>\n    </tr>\n    <tr>\n      <th>mean</th>\n      <td>12749.197693</td>\n      <td>NaN</td>\n      <td>NaN</td>\n      <td>63.723468</td>\n      <td>NaN</td>\n      <td>-0.122519</td>\n      <td>-3.334881</td>\n      <td>14.679790</td>\n      <td>0.001801</td>\n      <td>-0.002822</td>\n      <td>0.010018</td>\n      <td>0.690503</td>\n      <td>1.575351</td>\n      <td>0.690503</td>\n      <td>NaN</td>\n      <td>NaN</td>\n      <td>NaN</td>\n      <td>2.376964</td>\n    </tr>\n    <tr>\n      <th>std</th>\n      <td>7284.000623</td>\n      <td>NaN</td>\n      <td>NaN</td>\n      <td>25.954921</td>\n      <td>NaN</td>\n      <td>2.082710</td>\n      <td>2.758861</td>\n      <td>9.094114</td>\n      <td>0.705281</td>\n      <td>0.264532</td>\n      <td>0.893745</td>\n      <td>0.127199</td>\n      <td>0.236615</td>\n      <td>0.127199</td>\n      <td>NaN</td>\n      <td>NaN</td>\n      <td>NaN</td>\n      <td>0.858455</td>\n    </tr>\n    <tr>\n      <th>min</th>\n      <td>287.000000</td>\n      <td>NaN</td>\n      <td>NaN</td>\n      <td>20.056150</td>\n      <td>NaN</td>\n      <td>-6.107420</td>\n      <td>-7.289750</td>\n      <td>1.055340</td>\n      <td>-11.140330</td>\n      <td>-4.515370</td>\n      <td>-30.994610</td>\n      <td>0.000000</td>\n      <td>0.000000</td>\n      <td>0.000000</td>\n      <td>NaN</td>\n      <td>NaN</td>\n      <td>NaN</td>\n      <td>1.000000</td>\n    </tr>\n    <tr>\n      <th>25%</th>\n      <td>6424.000000</td>\n      <td>NaN</td>\n      <td>NaN</td>\n      <td>36.743160</td>\n      <td>NaN</td>\n      <td>-1.749370</td>\n      <td>-6.400770</td>\n      <td>5.376850</td>\n      <td>-0.309650</td>\n      <td>-0.148990</td>\n      <td>-0.449950</td>\n      <td>0.611500</td>\n      <td>1.381120</td>\n      <td>0.611500</td>\n      <td>NaN</td>\n      <td>NaN</td>\n      <td>NaN</td>\n      <td>1.000000</td>\n    </tr>\n    <tr>\n      <th>50%</th>\n      <td>12779.000000</td>\n      <td>NaN</td>\n      <td>NaN</td>\n      <td>77.929690</td>\n      <td>NaN</td>\n      <td>-0.281750</td>\n      <td>-2.778260</td>\n      <td>12.805230</td>\n      <td>0.011770</td>\n      <td>-0.008040</td>\n      <td>0.032300</td>\n      <td>0.668100</td>\n      <td>1.656850</td>\n      <td>0.668100</td>\n      <td>NaN</td>\n      <td>NaN</td>\n      <td>NaN</td>\n      <td>3.000000</td>\n    </tr>\n    <tr>\n      <th>75%</th>\n      <td>18874.500000</td>\n      <td>NaN</td>\n      <td>NaN</td>\n      <td>87.109380</td>\n      <td>NaN</td>\n      <td>1.423310</td>\n      <td>-0.549400</td>\n      <td>24.772980</td>\n      <td>0.293260</td>\n      <td>0.139230</td>\n      <td>0.506940</td>\n      <td>0.739995</td>\n      <td>1.768190</td>\n      <td>0.739990</td>\n      <td>NaN</td>\n      <td>NaN</td>\n      <td>NaN</td>\n      <td>3.000000</td>\n    </tr>\n    <tr>\n      <th>max</th>\n      <td>25420.000000</td>\n      <td>NaN</td>\n      <td>NaN</td>\n      <td>95.263670</td>\n      <td>NaN</td>\n      <td>7.349410</td>\n      <td>1.218800</td>\n      <td>27.311240</td>\n      <td>11.624160</td>\n      <td>9.258560</td>\n      <td>15.220540</td>\n      <td>2.215970</td>\n      <td>2.874190</td>\n      <td>2.215970</td>\n      <td>NaN</td>\n      <td>NaN</td>\n      <td>NaN</td>\n      <td>3.000000</td>\n    </tr>\n  </tbody>\n</table>\n</div>"
     },
     "execution_count": 231,
     "metadata": {},
     "output_type": "execute_result"
    }
   ],
   "source": [
    "df.describe(include=\"all\")"
   ],
   "metadata": {
    "collapsed": false,
    "ExecuteTime": {
     "end_time": "2024-01-12T16:10:11.476698900Z",
     "start_time": "2024-01-12T16:10:11.237741200Z"
    }
   },
   "id": "f6e893303aa5203b",
   "execution_count": 231
  },
  {
   "cell_type": "markdown",
   "source": [
    "- object_id scheint zu viele unterschiedliche labels zu haben.\n",
    "- confidence scheint muss noch genauer untersucht werden, da die Werte teilweise etwas tief sind"
   ],
   "metadata": {
    "collapsed": false
   },
   "id": "1261f16c5e44e06"
  },
  {
   "cell_type": "markdown",
   "source": [],
   "metadata": {
    "collapsed": false
   },
   "id": "5d35621d920a5e73"
  }
 ],
 "metadata": {
  "kernelspec": {
   "display_name": "Python 3",
   "language": "python",
   "name": "python3"
  },
  "language_info": {
   "codemirror_mode": {
    "name": "ipython",
    "version": 2
   },
   "file_extension": ".py",
   "mimetype": "text/x-python",
   "name": "python",
   "nbconvert_exporter": "python",
   "pygments_lexer": "ipython2",
   "version": "2.7.6"
  }
 },
 "nbformat": 4,
 "nbformat_minor": 5
}
