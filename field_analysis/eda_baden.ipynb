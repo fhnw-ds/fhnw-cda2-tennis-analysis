{
 "cells": [
  {
   "cell_type": "code",
   "outputs": [],
   "source": [
    "import pandas as pd\n",
    "import numpy as np\n",
    "import seaborn as sns\n",
    "import matplotlib.pyplot as plt\n",
    "from helperClasses.DataPipeline import DataPipeline\n",
    "from helperClasses.BaseTransformation import BaseTransformation"
   ],
   "metadata": {
    "collapsed": false,
    "ExecuteTime": {
     "end_time": "2024-01-12T13:56:11.628820100Z",
     "start_time": "2024-01-12T13:56:11.523347100Z"
    }
   },
   "id": "2e003a17f221013b",
   "execution_count": 97
  },
  {
   "cell_type": "code",
   "execution_count": 98,
   "id": "initial_id",
   "metadata": {
    "collapsed": true,
    "ExecuteTime": {
     "end_time": "2024-01-12T13:56:11.753363200Z",
     "start_time": "2024-01-12T13:56:11.631923300Z"
    }
   },
   "outputs": [],
   "source": [
    "df = pd.read_csv(\"../data/df_detected_objects_game.csv\")\n",
    "df = df.drop(columns= [\"head_x\", \"head_y\", \"head_z\"])"
   ]
  },
  {
   "cell_type": "markdown",
   "source": [
    "# Hilfe Funktionen"
   ],
   "metadata": {
    "collapsed": false
   },
   "id": "344395bbdc3f1374"
  },
  {
   "cell_type": "code",
   "outputs": [],
   "source": [
    "P1=np.array([-4.207, -1.846, -5.733])\n",
    "P2=np.array([3.415, -1.870, -5.489])\n",
    "P3=np.array([-0.057, -1.703, -15.554])"
   ],
   "metadata": {
    "collapsed": false,
    "ExecuteTime": {
     "end_time": "2024-01-12T13:56:11.785963400Z",
     "start_time": "2024-01-12T13:56:11.753180Z"
    }
   },
   "id": "619a33c251006535",
   "execution_count": 99
  },
  {
   "cell_type": "code",
   "outputs": [],
   "source": [
    "def Tennisfeld(r,P1,P2,P3):\n",
    "    r1=P2-P1\n",
    "    r2=-(P3-0.5*(P1+P2))\n",
    "    # Basisvektoren\n",
    "    r1u=r1/np.sqrt(np.dot(r1,r1))\n",
    "    r2u=r2/np.sqrt(np.dot(r2,r2))\n",
    "    r3u=np.cross(r1u,r2u)\n",
    "    # Translation\n",
    "    T0=0.5*(P1+P2)-r2u\n",
    "    # Rotation\n",
    "    M1=np.c_[r1u,r2u,r3u]\n",
    "    M1_inv=np.linalg.inv(M1)\n",
    "    # Abbildung\n",
    "    return np.inner(M1_inv,(r-T0))  "
   ],
   "metadata": {
    "collapsed": false,
    "ExecuteTime": {
     "end_time": "2024-01-12T13:56:11.831153500Z",
     "start_time": "2024-01-12T13:56:11.785963400Z"
    }
   },
   "id": "2d2d760680927c7c",
   "execution_count": 100
  },
  {
   "cell_type": "code",
   "outputs": [
    {
     "data": {
      "text/plain": "array([-3.81297115e+00,  1.00000000e+00, -5.53413430e-17])"
     },
     "execution_count": 101,
     "metadata": {},
     "output_type": "execute_result"
    }
   ],
   "source": [
    "Tennisfeld(P1,P1,P2,P3)"
   ],
   "metadata": {
    "collapsed": false,
    "ExecuteTime": {
     "end_time": "2024-01-12T13:56:11.880514900Z",
     "start_time": "2024-01-12T13:56:11.835932400Z"
    }
   },
   "id": "472ef4c3952b33a7",
   "execution_count": 101
  },
  {
   "cell_type": "markdown",
   "source": [
    "df[\"x\"] = df[\"x\"].apply(lambda x: Tennisfeld(np.array([x,0,0]),P1,P2,P3)[0])\n",
    "df[\"y\"] = df[\"y\"].apply(lambda x: Tennisfeld(np.array([0,x,0]),P1,P2,P3)[1])\n",
    "df[\"z\"] = df[\"z\"].apply(lambda x: Tennisfeld(np.array([0,0,x]),P1,P2,P3)[2])"
   ],
   "metadata": {
    "collapsed": false
   },
   "id": "4bb21437357dfc63"
  },
  {
   "cell_type": "markdown",
   "source": [
    "calibration_points = np.array([\n",
    "    [-4.207, -1.846, -5.733], # service line center\n",
    "    [3.415, -1.870, -5.489], # service x singles sideline\n",
    "    [-0.057, -1.703, -15.554] # baseline x singles sideline\n",
    "])\n",
    "bt = BaseTransformation(calibration_points)\n",
    "df = bt.transformData(df, [-1.5, 0, -18.28])"
   ],
   "metadata": {
    "collapsed": false
   },
   "id": "fa99e08a0da2604d"
  },
  {
   "cell_type": "code",
   "outputs": [],
   "source": [
    "def drawTennisField():\n",
    "    plt.plot([4.11, 4.11], [-11.89, 11.89], 'k', lw=2) # Single sideline rechts\n",
    "    plt.plot([5.48, 5.48], [-11.89, 11.89], 'k', lw=2) # Double sideline rechts\n",
    "    plt.plot([-4.11, -4.11], [-11.89, 11.89], 'k', lw=2) # Single sideline links\n",
    "    plt.plot([-5.48, -5.48], [-11.89, 11.89], 'k', lw=2) # Double sideline links\n",
    "    plt.plot([0, 0], [-6.40, 6.40], 'k', lw=2) # Center Service Line\n",
    "    plt.plot([-5.48, 5.48], [0, 0], 'k', lw=2) # Net\n",
    "    plt.plot([-5.48, 5.48], [11.89, 11.89], 'k', lw=2) # Baseline oben\n",
    "    plt.plot([-5.48, 5.48], [-11.89, -11.89], 'k', lw=2) # Baseline unten\n",
    "    plt.plot([-4.11, 4.11], [-6.40, -6.40], 'k', lw=2) # Service Line unten\n",
    "    plt.plot([-4.11, 4.11], [6.40, 6.40], 'k', lw=2) # Service Line oben"
   ],
   "metadata": {
    "collapsed": false,
    "ExecuteTime": {
     "end_time": "2024-01-12T14:03:41.172094400Z",
     "start_time": "2024-01-12T14:03:41.145359500Z"
    }
   },
   "id": "36b92f15f606f487",
   "execution_count": 106
  },
  {
   "cell_type": "markdown",
   "source": [
    "# Analyse Tennisspiel"
   ],
   "metadata": {
    "collapsed": false
   },
   "id": "ef6b2003d3ce5fad"
  },
  {
   "cell_type": "markdown",
   "source": [
    "## Datawrangling"
   ],
   "metadata": {
    "collapsed": false
   },
   "id": "69d66ca31e388e6"
  },
  {
   "cell_type": "code",
   "outputs": [
    {
     "data": {
      "text/plain": "   frame  object_id object_label  confidence tracking_state        x        y  \\\n0      3          0       Person    79.83398             OK  1.20102  0.41904   \n1      4          0       Person    87.45117             OK  1.15833  0.41409   \n2      5          0       Person    89.20898             OK  1.11960  0.40943   \n3      6          0       Person    90.03906             OK  1.08496  0.40524   \n4     10          2       Person    91.06445             OK  4.09950  1.25795   \n\n         z       vx       xy       vz    width   height   length  \n0  1.55682 -1.75535 -0.26043  0.55864  0.49680  0.57462  0.49680  \n1  1.56276 -1.56742 -0.20237  0.39540  0.49763  0.58033  0.49763  \n2  1.56608 -1.45386 -0.16676  0.29555  0.50174  0.58424  0.50174  \n3  1.56808 -1.35545 -0.14275  0.23192  0.51613  0.58824  0.51613  \n4  5.92474 -4.40850  0.16304 -1.38635  2.54048  2.63067  2.54048  ",
      "text/html": "<div>\n<style scoped>\n    .dataframe tbody tr th:only-of-type {\n        vertical-align: middle;\n    }\n\n    .dataframe tbody tr th {\n        vertical-align: top;\n    }\n\n    .dataframe thead th {\n        text-align: right;\n    }\n</style>\n<table border=\"1\" class=\"dataframe\">\n  <thead>\n    <tr style=\"text-align: right;\">\n      <th></th>\n      <th>frame</th>\n      <th>object_id</th>\n      <th>object_label</th>\n      <th>confidence</th>\n      <th>tracking_state</th>\n      <th>x</th>\n      <th>y</th>\n      <th>z</th>\n      <th>vx</th>\n      <th>xy</th>\n      <th>vz</th>\n      <th>width</th>\n      <th>height</th>\n      <th>length</th>\n    </tr>\n  </thead>\n  <tbody>\n    <tr>\n      <th>0</th>\n      <td>3</td>\n      <td>0</td>\n      <td>Person</td>\n      <td>79.83398</td>\n      <td>OK</td>\n      <td>1.20102</td>\n      <td>0.41904</td>\n      <td>1.55682</td>\n      <td>-1.75535</td>\n      <td>-0.26043</td>\n      <td>0.55864</td>\n      <td>0.49680</td>\n      <td>0.57462</td>\n      <td>0.49680</td>\n    </tr>\n    <tr>\n      <th>1</th>\n      <td>4</td>\n      <td>0</td>\n      <td>Person</td>\n      <td>87.45117</td>\n      <td>OK</td>\n      <td>1.15833</td>\n      <td>0.41409</td>\n      <td>1.56276</td>\n      <td>-1.56742</td>\n      <td>-0.20237</td>\n      <td>0.39540</td>\n      <td>0.49763</td>\n      <td>0.58033</td>\n      <td>0.49763</td>\n    </tr>\n    <tr>\n      <th>2</th>\n      <td>5</td>\n      <td>0</td>\n      <td>Person</td>\n      <td>89.20898</td>\n      <td>OK</td>\n      <td>1.11960</td>\n      <td>0.40943</td>\n      <td>1.56608</td>\n      <td>-1.45386</td>\n      <td>-0.16676</td>\n      <td>0.29555</td>\n      <td>0.50174</td>\n      <td>0.58424</td>\n      <td>0.50174</td>\n    </tr>\n    <tr>\n      <th>3</th>\n      <td>6</td>\n      <td>0</td>\n      <td>Person</td>\n      <td>90.03906</td>\n      <td>OK</td>\n      <td>1.08496</td>\n      <td>0.40524</td>\n      <td>1.56808</td>\n      <td>-1.35545</td>\n      <td>-0.14275</td>\n      <td>0.23192</td>\n      <td>0.51613</td>\n      <td>0.58824</td>\n      <td>0.51613</td>\n    </tr>\n    <tr>\n      <th>4</th>\n      <td>10</td>\n      <td>2</td>\n      <td>Person</td>\n      <td>91.06445</td>\n      <td>OK</td>\n      <td>4.09950</td>\n      <td>1.25795</td>\n      <td>5.92474</td>\n      <td>-4.40850</td>\n      <td>0.16304</td>\n      <td>-1.38635</td>\n      <td>2.54048</td>\n      <td>2.63067</td>\n      <td>2.54048</td>\n    </tr>\n  </tbody>\n</table>\n</div>"
     },
     "execution_count": 105,
     "metadata": {},
     "output_type": "execute_result"
    }
   ],
   "source": [
    "df.head()"
   ],
   "metadata": {
    "collapsed": false,
    "ExecuteTime": {
     "end_time": "2024-01-12T13:57:03.254523700Z",
     "start_time": "2024-01-12T13:57:03.221952500Z"
    }
   },
   "id": "d9ec3cd20b59065a",
   "execution_count": 105
  },
  {
   "cell_type": "markdown",
   "source": [
    "object_id scheint zu viele unterschiedliche labels zu haben"
   ],
   "metadata": {
    "collapsed": false
   },
   "id": "1261f16c5e44e06"
  },
  {
   "cell_type": "markdown",
   "source": [],
   "metadata": {
    "collapsed": false
   },
   "id": "5d35621d920a5e73"
  }
 ],
 "metadata": {
  "kernelspec": {
   "display_name": "Python 3",
   "language": "python",
   "name": "python3"
  },
  "language_info": {
   "codemirror_mode": {
    "name": "ipython",
    "version": 2
   },
   "file_extension": ".py",
   "mimetype": "text/x-python",
   "name": "python",
   "nbconvert_exporter": "python",
   "pygments_lexer": "ipython2",
   "version": "2.7.6"
  }
 },
 "nbformat": 4,
 "nbformat_minor": 5
}
