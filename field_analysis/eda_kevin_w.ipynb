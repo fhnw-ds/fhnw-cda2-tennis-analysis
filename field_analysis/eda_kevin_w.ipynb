{
 "cells": [
  {
   "cell_type": "code",
   "execution_count": 27,
   "id": "initial_id",
   "metadata": {
    "collapsed": true,
    "ExecuteTime": {
     "end_time": "2024-01-14T15:32:24.215596300Z",
     "start_time": "2024-01-14T15:32:24.198592300Z"
    }
   },
   "outputs": [],
   "source": [
    "from helperClasses.DataPipeline import DataPipeline\n",
    "from helperClasses.BaseTransformation import BaseTransformation\n",
    "#import pyzed.sl as sl\n",
    "import numpy as np\n",
    "import pandas as pd\n",
    "import matplotlib.pyplot as plt\n",
    "import seaborn as sns\n",
    "import tqdm"
   ]
  },
  {
   "cell_type": "markdown",
   "source": [
    "## SVO-File laden##\n",
    "Die SVO-Dateien bitte nicht auf GIT pushen, da diese sehr groß sind. Jelle arbeitet an einer Lösung. Bis dann die SVO-Dateien mit lokalem Pfad laden."
   ],
   "metadata": {
    "collapsed": false
   },
   "id": "b4c9a75359c3d0d3"
  },
  {
   "cell_type": "code",
   "outputs": [],
   "source": [
    "svo_path = '../data/HD1080_SN35520970_11-03-24.svo'"
   ],
   "metadata": {
    "collapsed": false,
    "ExecuteTime": {
     "end_time": "2024-01-14T15:32:24.798746700Z",
     "start_time": "2024-01-14T15:32:24.772437800Z"
    }
   },
   "id": "b272f630e3bd3ca6",
   "execution_count": 28
  },
  {
   "cell_type": "markdown",
   "source": [
    "**Methode zum zeichnen des Tennisfeldes**\n",
    "Ist eine Hilfsmethode, die das Tennisfeld zeichnet. Kannst du ignorieren."
   ],
   "metadata": {
    "collapsed": false
   },
   "id": "b51b3a7524078f9f"
  },
  {
   "cell_type": "code",
   "outputs": [],
   "source": [
    "def drawTennisField():\n",
    "    plt.plot([4.11, 4.11], [-11.89, 11.89], 'k', lw=2) # Single sideline rechts\n",
    "    plt.plot([5.48, 5.48], [-11.89, 11.89], 'k', lw=2) # Double sideline rechts\n",
    "    plt.plot([-4.11, -4.11], [-11.89, 11.89], 'k', lw=2) # Single sideline links\n",
    "    plt.plot([-5.48, -5.48], [-11.89, 11.89], 'k', lw=2) # Double sideline links\n",
    "    plt.plot([0, 0], [-6.41, 6.39], 'k', lw=2) # Center Service Line\n",
    "    plt.plot([-5.48, 5.48], [0, 0], 'k', lw=2) # Net\n",
    "    plt.plot([-5.48, 5.48], [11.89, 11.89], 'k', lw=2) # Baseline oben\n",
    "    plt.plot([-5.48, 5.48], [-11.89, -11.89], 'k', lw=2) # Baseline unten\n",
    "    plt.plot([-4.11, 4.11], [-6.40, -6.40], 'k', lw=2) # Service Line unten\n",
    "    plt.plot([-4.11, 4.11], [6.40, 6.40], 'k', lw=2) # Service Line oben"
   ],
   "metadata": {
    "collapsed": false,
    "ExecuteTime": {
     "end_time": "2024-01-14T15:32:26.448675600Z",
     "start_time": "2024-01-14T15:32:26.414454Z"
    }
   },
   "id": "c0c9b75789ea3c21",
   "execution_count": 29
  },
  {
   "cell_type": "markdown",
   "source": [
    "## Datenaufbereitung ## \n",
    "Wenn du die Daten neu berechnen möchtest und nicht aus der vorhandenen CSV-Datei laden möchtest, dann führe die folgende Zelle aus. Ansonsten kannst du die darunterliegende Zelle ausführen."
   ],
   "metadata": {
    "collapsed": false
   },
   "id": "6e28f60615c61dd9"
  },
  {
   "cell_type": "code",
   "outputs": [
    {
     "ename": "NameError",
     "evalue": "name 'sl' is not defined",
     "output_type": "error",
     "traceback": [
      "\u001B[1;31m---------------------------------------------------------------------------\u001B[0m",
      "\u001B[1;31mNameError\u001B[0m                                 Traceback (most recent call last)",
      "Cell \u001B[1;32mIn[5], line 1\u001B[0m\n\u001B[1;32m----> 1\u001B[0m zed \u001B[38;5;241m=\u001B[39m \u001B[43msl\u001B[49m\u001B[38;5;241m.\u001B[39mCamera()\n\u001B[0;32m      3\u001B[0m \u001B[38;5;66;03m# init parameters\u001B[39;00m\n\u001B[0;32m      4\u001B[0m init_params \u001B[38;5;241m=\u001B[39m sl\u001B[38;5;241m.\u001B[39mInitParameters()\n",
      "\u001B[1;31mNameError\u001B[0m: name 'sl' is not defined"
     ]
    }
   ],
   "source": [
    "zed = sl.Camera()\n",
    "\n",
    "# init parameters\n",
    "init_params = sl.InitParameters()\n",
    "init_params.set_from_svo_file(svo_path)\n",
    "init_params.depth_mode = sl.DEPTH_MODE.ULTRA\n",
    "init_params.coordinate_units = sl.UNIT.METER\n",
    "init_params.depth_maximum_distance = 40\n",
    "init_params.depth_minimum_distance = 1\n",
    "init_params.sdk_verbose = True\n",
    "\n",
    "zed.open(init_params)\n",
    "# init detection parameters\n",
    "detection_parameters = sl.ObjectDetectionParameters()\n",
    "\n",
    "detection_parameters.image_sync = True\n",
    "detection_parameters.enable_tracking = True\n",
    "detection_parameters.enable_segmentation = True\n",
    "\n",
    "detection_parameters.detection_model = sl.OBJECT_DETECTION_MODEL.MULTI_CLASS_BOX_MEDIUM\n",
    "\n",
    "if detection_parameters.enable_tracking:\n",
    "    zed.enable_positional_tracking()\n",
    "\n",
    "zed.enable_object_detection(detection_parameters)\n",
    "\n",
    "detection_confidence = 20\n",
    "detection_parameters_rt = sl.ObjectDetectionRuntimeParameters(detection_confidence)\n",
    "\n",
    "detection_parameters_rt.object_class_filter = [sl.OBJECT_CLASS.PERSON, sl.OBJECT_CLASS.SPORT]\n",
    "detected_objects = sl.Objects()\n",
    "runtime_parameters = sl.RuntimeParameters()\n",
    "\n",
    "detected_objects_list = []\n",
    "\n",
    "while zed.grab(runtime_parameters) == sl.ERROR_CODE.SUCCESS:\n",
    "    # Retrieve objects\n",
    "    zed.retrieve_objects(detected_objects, detection_parameters_rt)\n",
    "\n",
    "    frame_nr = zed.get_svo_position()\n",
    "\n",
    "    for i, obj in enumerate(detected_objects.object_list):\n",
    "        if obj.tracking_state == sl.OBJECT_TRACKING_STATE.OK:\n",
    "            detected_objects_list.append({\n",
    "                'obj': obj,\n",
    "                'obj_nr': i,\n",
    "                'frame_nr': frame_nr\n",
    "            })\n",
    "df_detected_objects = pd.DataFrame(\n",
    "    data=[\n",
    "        [\n",
    "            obj['frame_nr'],\n",
    "            obj['obj_nr'],\n",
    "            obj['obj'].id,\n",
    "            obj['obj'].label,\n",
    "            obj['obj'].confidence,\n",
    "            obj['obj'].tracking_state,\n",
    "            obj['obj'].position[0],\n",
    "            obj['obj'].position[1],\n",
    "            obj['obj'].position[2],\n",
    "            obj['obj'].velocity[0],\n",
    "            obj['obj'].velocity[1],\n",
    "            obj['obj'].velocity[2],\n",
    "            obj['obj'].dimensions[0],\n",
    "            obj['obj'].dimensions[1],\n",
    "            obj['obj'].dimensions[2]\n",
    "        ] for obj in detected_objects_list\n",
    "    ],\n",
    "    columns=['frame', 'object', 'object_id', 'object_label', 'confidence', 'tracking_state', 'x', 'y', 'z', 'vx', 'xy',\n",
    "             'vz', 'width', 'height', 'length']\n",
    ")\n",
    "df_detected_objects.to_csv('df_detected_objects.csv', index=False, float_format='%.5f')"
   ],
   "metadata": {
    "collapsed": false,
    "ExecuteTime": {
     "end_time": "2024-01-14T15:32:05.330786900Z",
     "start_time": "2024-01-14T15:32:05.224975100Z"
    }
   },
   "id": "d28f2ae0042dd3ea",
   "execution_count": 5
  },
  {
   "cell_type": "code",
   "outputs": [
    {
     "name": "stderr",
     "output_type": "stream",
     "text": [
      "C:\\Users\\wartm\\Documents\\FHNW\\fhnw-cda2-tennis-analysis\\helperClasses\\DataPipeline.py:19: FutureWarning: Series.__getitem__ treating keys as positions is deprecated. In a future version, integer keys will always be treated as labels (consistent with DataFrame behavior). To access a value by position, use `ser.iloc[pos]`\n",
      "  sum_of_pair = value_counts.iloc[i][1] + value_counts.iloc[j][1]\n",
      "C:\\Users\\wartm\\Documents\\FHNW\\fhnw-cda2-tennis-analysis\\helperClasses\\DataPipeline.py:21: FutureWarning: Series.__getitem__ treating keys as positions is deprecated. In a future version, integer keys will always be treated as labels (consistent with DataFrame behavior). To access a value by position, use `ser.iloc[pos]`\n",
      "  pairs.append((value_counts.iloc[i][0], value_counts.iloc[j][0], sum_of_pair))\n"
     ]
    }
   ],
   "source": [
    "data = pd.read_csv('../Dataframe/df_detected_objects.csv') # Daten aus der CSV-Datei laden\n",
    "\n",
    "\n",
    "calibration_points = np.array([\n",
    "    [0.404, -1.434, -13.462], # service line center\n",
    "    [3.263, -1.300, -11.118], # service x singles sideline\n",
    "    [0.446, -1.444, -7.882] # baseline x singles sideline\n",
    "])\n",
    "bt = BaseTransformation(calibration_points)\n",
    "data = bt.transformData(data, [-1.5, 0, -18.28])\n",
    "\n",
    "dp = DataPipeline()\n",
    "data = dp.mergePersons(data, 0.7, 0.1)"
   ],
   "metadata": {
    "collapsed": false,
    "ExecuteTime": {
     "end_time": "2024-01-14T15:33:00.848759900Z",
     "start_time": "2024-01-14T15:32:59.841348800Z"
    }
   },
   "id": "80dd8254dfa09174",
   "execution_count": 33
  },
  {
   "cell_type": "code",
   "outputs": [
    {
     "data": {
      "text/plain": "       frame  object  object_id object_label  confidence tracking_state  \\\n1          3       1          1       Person    58.69141             OK   \n3          4       1          1       Person    57.95898             OK   \n5          5       1          1       Person    55.90820             OK   \n7          6       1          1       Person    50.00000             OK   \n9          7       1          1       Person    37.01172             OK   \n...      ...     ...        ...          ...         ...            ...   \n25381  10325       0          6       Person    90.03906             OK   \n25383  10326       0          6       Person    90.23438             OK   \n25385  10327       0          6       Person    90.23438             OK   \n25387  10328       0          6       Person    90.08789             OK   \n25389  10329       0          6       Person    90.13672             OK   \n\n              x         y          z       vx       xy        vz    width  \\\n1      0.491703 -1.808712  13.248981 -3.77620  0.20816 -10.44296  0.79609   \n3      0.545964 -1.802297  13.155637 -2.49269  0.16367  -8.05950  0.78589   \n5      0.490332 -1.803161  13.285841 -1.44754  0.09919  -4.91755  0.77365   \n7      0.491634 -1.801160  13.310953 -1.10440  0.07878  -3.91267  0.75425   \n9      0.444338 -1.802547  13.393477 -0.81841  0.05096  -2.55268  0.73128   \n...         ...       ...        ...      ...      ...       ...      ...   \n25381  7.807464 -0.848574 -17.006798  0.02334  0.00220  -0.09401  0.49989   \n25383  7.808461 -0.848025 -17.007186  0.02275  0.00216  -0.09162  0.49989   \n25385  7.809351 -0.847470 -17.007518  0.02215  0.00209  -0.08922  0.49990   \n25387  7.810077 -0.846933 -17.007788  0.02148  0.00201  -0.08652  0.49990   \n25389  7.810663 -0.846424 -17.007993  0.02078  0.00196  -0.08370  0.49990   \n\n        height   length  \n1      1.36517  0.79609  \n3      1.36619  0.78589  \n5      1.37026  0.77365  \n7      1.37394  0.75425  \n9      1.37605  0.73128  \n...        ...      ...  \n25381  0.31608  0.49989  \n25383  0.31417  0.49989  \n25385  0.31232  0.49990  \n25387  0.31056  0.49990  \n25389  0.30886  0.49990  \n\n[19604 rows x 15 columns]",
      "text/html": "<div>\n<style scoped>\n    .dataframe tbody tr th:only-of-type {\n        vertical-align: middle;\n    }\n\n    .dataframe tbody tr th {\n        vertical-align: top;\n    }\n\n    .dataframe thead th {\n        text-align: right;\n    }\n</style>\n<table border=\"1\" class=\"dataframe\">\n  <thead>\n    <tr style=\"text-align: right;\">\n      <th></th>\n      <th>frame</th>\n      <th>object</th>\n      <th>object_id</th>\n      <th>object_label</th>\n      <th>confidence</th>\n      <th>tracking_state</th>\n      <th>x</th>\n      <th>y</th>\n      <th>z</th>\n      <th>vx</th>\n      <th>xy</th>\n      <th>vz</th>\n      <th>width</th>\n      <th>height</th>\n      <th>length</th>\n    </tr>\n  </thead>\n  <tbody>\n    <tr>\n      <th>1</th>\n      <td>3</td>\n      <td>1</td>\n      <td>1</td>\n      <td>Person</td>\n      <td>58.69141</td>\n      <td>OK</td>\n      <td>0.491703</td>\n      <td>-1.808712</td>\n      <td>13.248981</td>\n      <td>-3.77620</td>\n      <td>0.20816</td>\n      <td>-10.44296</td>\n      <td>0.79609</td>\n      <td>1.36517</td>\n      <td>0.79609</td>\n    </tr>\n    <tr>\n      <th>3</th>\n      <td>4</td>\n      <td>1</td>\n      <td>1</td>\n      <td>Person</td>\n      <td>57.95898</td>\n      <td>OK</td>\n      <td>0.545964</td>\n      <td>-1.802297</td>\n      <td>13.155637</td>\n      <td>-2.49269</td>\n      <td>0.16367</td>\n      <td>-8.05950</td>\n      <td>0.78589</td>\n      <td>1.36619</td>\n      <td>0.78589</td>\n    </tr>\n    <tr>\n      <th>5</th>\n      <td>5</td>\n      <td>1</td>\n      <td>1</td>\n      <td>Person</td>\n      <td>55.90820</td>\n      <td>OK</td>\n      <td>0.490332</td>\n      <td>-1.803161</td>\n      <td>13.285841</td>\n      <td>-1.44754</td>\n      <td>0.09919</td>\n      <td>-4.91755</td>\n      <td>0.77365</td>\n      <td>1.37026</td>\n      <td>0.77365</td>\n    </tr>\n    <tr>\n      <th>7</th>\n      <td>6</td>\n      <td>1</td>\n      <td>1</td>\n      <td>Person</td>\n      <td>50.00000</td>\n      <td>OK</td>\n      <td>0.491634</td>\n      <td>-1.801160</td>\n      <td>13.310953</td>\n      <td>-1.10440</td>\n      <td>0.07878</td>\n      <td>-3.91267</td>\n      <td>0.75425</td>\n      <td>1.37394</td>\n      <td>0.75425</td>\n    </tr>\n    <tr>\n      <th>9</th>\n      <td>7</td>\n      <td>1</td>\n      <td>1</td>\n      <td>Person</td>\n      <td>37.01172</td>\n      <td>OK</td>\n      <td>0.444338</td>\n      <td>-1.802547</td>\n      <td>13.393477</td>\n      <td>-0.81841</td>\n      <td>0.05096</td>\n      <td>-2.55268</td>\n      <td>0.73128</td>\n      <td>1.37605</td>\n      <td>0.73128</td>\n    </tr>\n    <tr>\n      <th>...</th>\n      <td>...</td>\n      <td>...</td>\n      <td>...</td>\n      <td>...</td>\n      <td>...</td>\n      <td>...</td>\n      <td>...</td>\n      <td>...</td>\n      <td>...</td>\n      <td>...</td>\n      <td>...</td>\n      <td>...</td>\n      <td>...</td>\n      <td>...</td>\n      <td>...</td>\n    </tr>\n    <tr>\n      <th>25381</th>\n      <td>10325</td>\n      <td>0</td>\n      <td>6</td>\n      <td>Person</td>\n      <td>90.03906</td>\n      <td>OK</td>\n      <td>7.807464</td>\n      <td>-0.848574</td>\n      <td>-17.006798</td>\n      <td>0.02334</td>\n      <td>0.00220</td>\n      <td>-0.09401</td>\n      <td>0.49989</td>\n      <td>0.31608</td>\n      <td>0.49989</td>\n    </tr>\n    <tr>\n      <th>25383</th>\n      <td>10326</td>\n      <td>0</td>\n      <td>6</td>\n      <td>Person</td>\n      <td>90.23438</td>\n      <td>OK</td>\n      <td>7.808461</td>\n      <td>-0.848025</td>\n      <td>-17.007186</td>\n      <td>0.02275</td>\n      <td>0.00216</td>\n      <td>-0.09162</td>\n      <td>0.49989</td>\n      <td>0.31417</td>\n      <td>0.49989</td>\n    </tr>\n    <tr>\n      <th>25385</th>\n      <td>10327</td>\n      <td>0</td>\n      <td>6</td>\n      <td>Person</td>\n      <td>90.23438</td>\n      <td>OK</td>\n      <td>7.809351</td>\n      <td>-0.847470</td>\n      <td>-17.007518</td>\n      <td>0.02215</td>\n      <td>0.00209</td>\n      <td>-0.08922</td>\n      <td>0.49990</td>\n      <td>0.31232</td>\n      <td>0.49990</td>\n    </tr>\n    <tr>\n      <th>25387</th>\n      <td>10328</td>\n      <td>0</td>\n      <td>6</td>\n      <td>Person</td>\n      <td>90.08789</td>\n      <td>OK</td>\n      <td>7.810077</td>\n      <td>-0.846933</td>\n      <td>-17.007788</td>\n      <td>0.02148</td>\n      <td>0.00201</td>\n      <td>-0.08652</td>\n      <td>0.49990</td>\n      <td>0.31056</td>\n      <td>0.49990</td>\n    </tr>\n    <tr>\n      <th>25389</th>\n      <td>10329</td>\n      <td>0</td>\n      <td>6</td>\n      <td>Person</td>\n      <td>90.13672</td>\n      <td>OK</td>\n      <td>7.810663</td>\n      <td>-0.846424</td>\n      <td>-17.007993</td>\n      <td>0.02078</td>\n      <td>0.00196</td>\n      <td>-0.08370</td>\n      <td>0.49990</td>\n      <td>0.30886</td>\n      <td>0.49990</td>\n    </tr>\n  </tbody>\n</table>\n<p>19604 rows × 15 columns</p>\n</div>"
     },
     "execution_count": 34,
     "metadata": {},
     "output_type": "execute_result"
    }
   ],
   "source": [
    "data"
   ],
   "metadata": {
    "collapsed": false,
    "ExecuteTime": {
     "end_time": "2024-01-14T15:33:04.721986700Z",
     "start_time": "2024-01-14T15:33:04.683280Z"
    }
   },
   "id": "72e4a6d4a414adab",
   "execution_count": 34
  },
  {
   "cell_type": "code",
   "outputs": [
    {
     "data": {
      "text/plain": "<Figure size 1000x1000 with 2 Axes>",
      "image/png": "[encoded data removed]"
     },
     "metadata": {},
     "output_type": "display_data"
    }
   ],
   "source": [
    "fig, ax = plt.subplots(figsize=(10, 10))\n",
    "plt.scatter(x=data['x'], y=data['z'], c=data['frame'], cmap='viridis')\n",
    "drawTennisField()\n",
    "plt.colorbar()\n",
    "ax.set_aspect('equal')\n",
    "plt.show()"
   ],
   "metadata": {
    "collapsed": false,
    "ExecuteTime": {
     "end_time": "2024-01-14T15:33:06.422879900Z",
     "start_time": "2024-01-14T15:33:05.019280900Z"
    }
   },
   "id": "6fe826b8cd83b030",
   "execution_count": 35
  },
  {
   "cell_type": "markdown",
   "source": [
    "## EDA ##"
   ],
   "metadata": {
    "collapsed": false
   },
   "id": "1a8bc75cc56a18b"
  },
  {
   "cell_type": "code",
   "outputs": [
    {
     "data": {
      "text/plain": "   frame  object  object_id object_label  confidence tracking_state         x  \\\n1      3       1          1       Person    58.69141             OK  0.491703   \n3      4       1          1       Person    57.95898             OK  0.545964   \n5      5       1          1       Person    55.90820             OK  0.490332   \n7      6       1          1       Person    50.00000             OK  0.491634   \n9      7       1          1       Person    37.01172             OK  0.444338   \n\n          y          z       vx       xy        vz    width   height   length  \n1 -1.808712  13.248981 -3.77620  0.20816 -10.44296  0.79609  1.36517  0.79609  \n3 -1.802297  13.155637 -2.49269  0.16367  -8.05950  0.78589  1.36619  0.78589  \n5 -1.803161  13.285841 -1.44754  0.09919  -4.91755  0.77365  1.37026  0.77365  \n7 -1.801160  13.310953 -1.10440  0.07878  -3.91267  0.75425  1.37394  0.75425  \n9 -1.802547  13.393477 -0.81841  0.05096  -2.55268  0.73128  1.37605  0.73128  ",
      "text/html": "<div>\n<style scoped>\n    .dataframe tbody tr th:only-of-type {\n        vertical-align: middle;\n    }\n\n    .dataframe tbody tr th {\n        vertical-align: top;\n    }\n\n    .dataframe thead th {\n        text-align: right;\n    }\n</style>\n<table border=\"1\" class=\"dataframe\">\n  <thead>\n    <tr style=\"text-align: right;\">\n      <th></th>\n      <th>frame</th>\n      <th>object</th>\n      <th>object_id</th>\n      <th>object_label</th>\n      <th>confidence</th>\n      <th>tracking_state</th>\n      <th>x</th>\n      <th>y</th>\n      <th>z</th>\n      <th>vx</th>\n      <th>xy</th>\n      <th>vz</th>\n      <th>width</th>\n      <th>height</th>\n      <th>length</th>\n    </tr>\n  </thead>\n  <tbody>\n    <tr>\n      <th>1</th>\n      <td>3</td>\n      <td>1</td>\n      <td>1</td>\n      <td>Person</td>\n      <td>58.69141</td>\n      <td>OK</td>\n      <td>0.491703</td>\n      <td>-1.808712</td>\n      <td>13.248981</td>\n      <td>-3.77620</td>\n      <td>0.20816</td>\n      <td>-10.44296</td>\n      <td>0.79609</td>\n      <td>1.36517</td>\n      <td>0.79609</td>\n    </tr>\n    <tr>\n      <th>3</th>\n      <td>4</td>\n      <td>1</td>\n      <td>1</td>\n      <td>Person</td>\n      <td>57.95898</td>\n      <td>OK</td>\n      <td>0.545964</td>\n      <td>-1.802297</td>\n      <td>13.155637</td>\n      <td>-2.49269</td>\n      <td>0.16367</td>\n      <td>-8.05950</td>\n      <td>0.78589</td>\n      <td>1.36619</td>\n      <td>0.78589</td>\n    </tr>\n    <tr>\n      <th>5</th>\n      <td>5</td>\n      <td>1</td>\n      <td>1</td>\n      <td>Person</td>\n      <td>55.90820</td>\n      <td>OK</td>\n      <td>0.490332</td>\n      <td>-1.803161</td>\n      <td>13.285841</td>\n      <td>-1.44754</td>\n      <td>0.09919</td>\n      <td>-4.91755</td>\n      <td>0.77365</td>\n      <td>1.37026</td>\n      <td>0.77365</td>\n    </tr>\n    <tr>\n      <th>7</th>\n      <td>6</td>\n      <td>1</td>\n      <td>1</td>\n      <td>Person</td>\n      <td>50.00000</td>\n      <td>OK</td>\n      <td>0.491634</td>\n      <td>-1.801160</td>\n      <td>13.310953</td>\n      <td>-1.10440</td>\n      <td>0.07878</td>\n      <td>-3.91267</td>\n      <td>0.75425</td>\n      <td>1.37394</td>\n      <td>0.75425</td>\n    </tr>\n    <tr>\n      <th>9</th>\n      <td>7</td>\n      <td>1</td>\n      <td>1</td>\n      <td>Person</td>\n      <td>37.01172</td>\n      <td>OK</td>\n      <td>0.444338</td>\n      <td>-1.802547</td>\n      <td>13.393477</td>\n      <td>-0.81841</td>\n      <td>0.05096</td>\n      <td>-2.55268</td>\n      <td>0.73128</td>\n      <td>1.37605</td>\n      <td>0.73128</td>\n    </tr>\n  </tbody>\n</table>\n</div>"
     },
     "execution_count": 36,
     "metadata": {},
     "output_type": "execute_result"
    }
   ],
   "source": [
    "data.head()"
   ],
   "metadata": {
    "collapsed": false,
    "ExecuteTime": {
     "end_time": "2024-01-14T15:33:06.520239100Z",
     "start_time": "2024-01-14T15:33:06.418153500Z"
    }
   },
   "id": "d90c27bce7df6b7",
   "execution_count": 36
  },
  {
   "cell_type": "code",
   "outputs": [
    {
     "name": "stdout",
     "output_type": "stream",
     "text": [
      "<class 'pandas.core.frame.DataFrame'>\n",
      "Index: 19604 entries, 1 to 25389\n",
      "Data columns (total 15 columns):\n",
      " #   Column          Non-Null Count  Dtype  \n",
      "---  ------          --------------  -----  \n",
      " 0   frame           19604 non-null  int64  \n",
      " 1   object          19604 non-null  int64  \n",
      " 2   object_id       19604 non-null  int64  \n",
      " 3   object_label    19604 non-null  object \n",
      " 4   confidence      19604 non-null  float64\n",
      " 5   tracking_state  19604 non-null  object \n",
      " 6   x               19604 non-null  float64\n",
      " 7   y               19604 non-null  float64\n",
      " 8   z               19604 non-null  float64\n",
      " 9   vx              19604 non-null  float64\n",
      " 10  xy              19604 non-null  float64\n",
      " 11  vz              19604 non-null  float64\n",
      " 12  width           19604 non-null  float64\n",
      " 13  height          19604 non-null  float64\n",
      " 14  length          19604 non-null  float64\n",
      "dtypes: float64(10), int64(3), object(2)\n",
      "memory usage: 2.4+ MB\n"
     ]
    }
   ],
   "source": [
    "data.info()"
   ],
   "metadata": {
    "collapsed": false,
    "ExecuteTime": {
     "end_time": "2024-01-14T15:33:06.861176700Z",
     "start_time": "2024-01-14T15:33:06.808274300Z"
    }
   },
   "id": "118feb75b37a904b",
   "execution_count": 37
  },
  {
   "cell_type": "code",
   "outputs": [],
   "source": [
    "data[\"object_id\"] = data[\"object_id\"].astype(\"category\")\n",
    "data[\"object\"] = data[\"object\"].astype(\"category\")"
   ],
   "metadata": {
    "collapsed": false,
    "ExecuteTime": {
     "end_time": "2024-01-14T15:33:07.194544800Z",
     "start_time": "2024-01-14T15:33:07.141028400Z"
    }
   },
   "id": "e61b8a3af73c47dd",
   "execution_count": 38
  },
  {
   "cell_type": "code",
   "outputs": [
    {
     "data": {
      "text/plain": "0"
     },
     "execution_count": 39,
     "metadata": {},
     "output_type": "execute_result"
    }
   ],
   "source": [
    "data.isna().sum().sum()"
   ],
   "metadata": {
    "collapsed": false,
    "ExecuteTime": {
     "end_time": "2024-01-14T15:33:07.642406200Z",
     "start_time": "2024-01-14T15:33:07.593352700Z"
    }
   },
   "id": "ca6a15913a942218",
   "execution_count": 39
  },
  {
   "cell_type": "code",
   "outputs": [
    {
     "data": {
      "text/plain": "0"
     },
     "execution_count": 40,
     "metadata": {},
     "output_type": "execute_result"
    }
   ],
   "source": [
    "data.duplicated().sum()"
   ],
   "metadata": {
    "collapsed": false,
    "ExecuteTime": {
     "end_time": "2024-01-14T15:33:08.147639900Z",
     "start_time": "2024-01-14T15:33:08.068569900Z"
    }
   },
   "id": "5639a9b4687cf1e3",
   "execution_count": 40
  },
  {
   "cell_type": "code",
   "outputs": [
    {
     "data": {
      "text/plain": "               frame   object  object_id object_label    confidence  \\\ncount   19604.000000  19604.0    19604.0        19604  19604.000000   \nunique           NaN      6.0        2.0            1           NaN   \ntop              NaN      0.0        6.0       Person           NaN   \nfreq             NaN   9910.0     9957.0        19604           NaN   \nmean     5020.228933      NaN        NaN          NaN     76.148306   \nstd      2920.071379      NaN        NaN          NaN     11.380958   \nmin         3.000000      NaN        NaN          NaN     20.239260   \n25%      2488.000000      NaN        NaN          NaN     70.166020   \n50%      4940.500000      NaN        NaN          NaN     80.029300   \n75%      7570.250000      NaN        NaN          NaN     84.521480   \nmax     10329.000000      NaN        NaN          NaN     94.970700   \n\n       tracking_state             x             y             z            vx  \\\ncount           19604  19604.000000  19604.000000  19604.000000  19604.000000   \nunique              1           NaN           NaN           NaN           NaN   \ntop                OK           NaN           NaN           NaN           NaN   \nfreq            19604           NaN           NaN           NaN           NaN   \nmean              NaN      0.621249     -1.399405      2.721578     -0.010686   \nstd               NaN      1.407933      0.201091      7.950672      0.603392   \nmin               NaN     -5.877019     -1.961219    -17.007993     -4.524640   \n25%               NaN      0.127560     -1.582142     -3.826245     -0.360165   \n50%               NaN      0.483242     -1.404639     -0.601747     -0.016670   \n75%               NaN      0.899212     -1.248651     10.998342      0.383798   \nmax               NaN      7.827466     -0.702808     14.836865      1.674440   \n\n                  xy            vz         width        height        length  \ncount   19604.000000  19604.000000  19604.000000  19604.000000  19604.000000  \nunique           NaN           NaN           NaN           NaN           NaN  \ntop              NaN           NaN           NaN           NaN           NaN  \nfreq             NaN           NaN           NaN           NaN           NaN  \nmean       -0.000150      0.003906      0.762388      1.717896      0.762388  \nstd         0.014805      0.651048      0.167280      0.145745      0.167280  \nmin        -0.104010    -10.442960      0.498400      0.308860      0.498400  \n25%        -0.009190     -0.399478      0.645540      1.706060      0.645540  \n50%         0.000610     -0.020135      0.723395      1.743255      0.723395  \n75%         0.008520      0.416310      0.835080      1.776080      0.835072  \nmax         0.208160      3.218870      1.671170      1.913040      1.671170  ",
      "text/html": "<div>\n<style scoped>\n    .dataframe tbody tr th:only-of-type {\n        vertical-align: middle;\n    }\n\n    .dataframe tbody tr th {\n        vertical-align: top;\n    }\n\n    .dataframe thead th {\n        text-align: right;\n    }\n</style>\n<table border=\"1\" class=\"dataframe\">\n  <thead>\n    <tr style=\"text-align: right;\">\n      <th></th>\n      <th>frame</th>\n      <th>object</th>\n      <th>object_id</th>\n      <th>object_label</th>\n      <th>confidence</th>\n      <th>tracking_state</th>\n      <th>x</th>\n      <th>y</th>\n      <th>z</th>\n      <th>vx</th>\n      <th>xy</th>\n      <th>vz</th>\n      <th>width</th>\n      <th>height</th>\n      <th>length</th>\n    </tr>\n  </thead>\n  <tbody>\n    <tr>\n      <th>count</th>\n      <td>19604.000000</td>\n      <td>19604.0</td>\n      <td>19604.0</td>\n      <td>19604</td>\n      <td>19604.000000</td>\n      <td>19604</td>\n      <td>19604.000000</td>\n      <td>19604.000000</td>\n      <td>19604.000000</td>\n      <td>19604.000000</td>\n      <td>19604.000000</td>\n      <td>19604.000000</td>\n      <td>19604.000000</td>\n      <td>19604.000000</td>\n      <td>19604.000000</td>\n    </tr>\n    <tr>\n      <th>unique</th>\n      <td>NaN</td>\n      <td>6.0</td>\n      <td>2.0</td>\n      <td>1</td>\n      <td>NaN</td>\n      <td>1</td>\n      <td>NaN</td>\n      <td>NaN</td>\n      <td>NaN</td>\n      <td>NaN</td>\n      <td>NaN</td>\n      <td>NaN</td>\n      <td>NaN</td>\n      <td>NaN</td>\n      <td>NaN</td>\n    </tr>\n    <tr>\n      <th>top</th>\n      <td>NaN</td>\n      <td>0.0</td>\n      <td>6.0</td>\n      <td>Person</td>\n      <td>NaN</td>\n      <td>OK</td>\n      <td>NaN</td>\n      <td>NaN</td>\n      <td>NaN</td>\n      <td>NaN</td>\n      <td>NaN</td>\n      <td>NaN</td>\n      <td>NaN</td>\n      <td>NaN</td>\n      <td>NaN</td>\n    </tr>\n    <tr>\n      <th>freq</th>\n      <td>NaN</td>\n      <td>9910.0</td>\n      <td>9957.0</td>\n      <td>19604</td>\n      <td>NaN</td>\n      <td>19604</td>\n      <td>NaN</td>\n      <td>NaN</td>\n      <td>NaN</td>\n      <td>NaN</td>\n      <td>NaN</td>\n      <td>NaN</td>\n      <td>NaN</td>\n      <td>NaN</td>\n      <td>NaN</td>\n    </tr>\n    <tr>\n      <th>mean</th>\n      <td>5020.228933</td>\n      <td>NaN</td>\n      <td>NaN</td>\n      <td>NaN</td>\n      <td>76.148306</td>\n      <td>NaN</td>\n      <td>0.621249</td>\n      <td>-1.399405</td>\n      <td>2.721578</td>\n      <td>-0.010686</td>\n      <td>-0.000150</td>\n      <td>0.003906</td>\n      <td>0.762388</td>\n      <td>1.717896</td>\n      <td>0.762388</td>\n    </tr>\n    <tr>\n      <th>std</th>\n      <td>2920.071379</td>\n      <td>NaN</td>\n      <td>NaN</td>\n      <td>NaN</td>\n      <td>11.380958</td>\n      <td>NaN</td>\n      <td>1.407933</td>\n      <td>0.201091</td>\n      <td>7.950672</td>\n      <td>0.603392</td>\n      <td>0.014805</td>\n      <td>0.651048</td>\n      <td>0.167280</td>\n      <td>0.145745</td>\n      <td>0.167280</td>\n    </tr>\n    <tr>\n      <th>min</th>\n      <td>3.000000</td>\n      <td>NaN</td>\n      <td>NaN</td>\n      <td>NaN</td>\n      <td>20.239260</td>\n      <td>NaN</td>\n      <td>-5.877019</td>\n      <td>-1.961219</td>\n      <td>-17.007993</td>\n      <td>-4.524640</td>\n      <td>-0.104010</td>\n      <td>-10.442960</td>\n      <td>0.498400</td>\n      <td>0.308860</td>\n      <td>0.498400</td>\n    </tr>\n    <tr>\n      <th>25%</th>\n      <td>2488.000000</td>\n      <td>NaN</td>\n      <td>NaN</td>\n      <td>NaN</td>\n      <td>70.166020</td>\n      <td>NaN</td>\n      <td>0.127560</td>\n      <td>-1.582142</td>\n      <td>-3.826245</td>\n      <td>-0.360165</td>\n      <td>-0.009190</td>\n      <td>-0.399478</td>\n      <td>0.645540</td>\n      <td>1.706060</td>\n      <td>0.645540</td>\n    </tr>\n    <tr>\n      <th>50%</th>\n      <td>4940.500000</td>\n      <td>NaN</td>\n      <td>NaN</td>\n      <td>NaN</td>\n      <td>80.029300</td>\n      <td>NaN</td>\n      <td>0.483242</td>\n      <td>-1.404639</td>\n      <td>-0.601747</td>\n      <td>-0.016670</td>\n      <td>0.000610</td>\n      <td>-0.020135</td>\n      <td>0.723395</td>\n      <td>1.743255</td>\n      <td>0.723395</td>\n    </tr>\n    <tr>\n      <th>75%</th>\n      <td>7570.250000</td>\n      <td>NaN</td>\n      <td>NaN</td>\n      <td>NaN</td>\n      <td>84.521480</td>\n      <td>NaN</td>\n      <td>0.899212</td>\n      <td>-1.248651</td>\n      <td>10.998342</td>\n      <td>0.383798</td>\n      <td>0.008520</td>\n      <td>0.416310</td>\n      <td>0.835080</td>\n      <td>1.776080</td>\n      <td>0.835072</td>\n    </tr>\n    <tr>\n      <th>max</th>\n      <td>10329.000000</td>\n      <td>NaN</td>\n      <td>NaN</td>\n      <td>NaN</td>\n      <td>94.970700</td>\n      <td>NaN</td>\n      <td>7.827466</td>\n      <td>-0.702808</td>\n      <td>14.836865</td>\n      <td>1.674440</td>\n      <td>0.208160</td>\n      <td>3.218870</td>\n      <td>1.671170</td>\n      <td>1.913040</td>\n      <td>1.671170</td>\n    </tr>\n  </tbody>\n</table>\n</div>"
     },
     "execution_count": 41,
     "metadata": {},
     "output_type": "execute_result"
    }
   ],
   "source": [
    "data.describe(include=\"all\")"
   ],
   "metadata": {
    "collapsed": false,
    "ExecuteTime": {
     "end_time": "2024-01-14T15:33:08.917227900Z",
     "start_time": "2024-01-14T15:33:08.821373700Z"
    }
   },
   "id": "d2e5727ba3682565",
   "execution_count": 41
  },
  {
   "cell_type": "markdown",
   "source": [
    "- Wir haben 19604 frames zur analyse.\n",
    "- \"objects\" werden bis zu 6 erkennt wobei mehrheitlich 0 vorkommt.\n",
    "- \"object_id\" ist die ID des Objekts. Es gibt 2 verschiedene IDs.\n",
    "- \"object_label\" ist die Bezeichnung des Objekts. Es scheint als wäre diese Spalte überflüssig, da sie nur \"Person\" enthält.\n",
    "- \"confidence\" ist die Wahrscheinlichkeit, dass das Objekt erkannt wurde. Der Median liegt bei 80% was ein gutes zeichen ist. Der Durchschnitt liegt bei 76% was unter dem Median liegt, dass zeigt uns das es ein paar Aufnahmen gibt, wo die Objekte nicht gut erkannt wurden. Mehrheitlich sind die Objekte gut erkannt worden.\n",
    "- \"tracking_state\" ist der Status des Objekts. Diese Spalte scheint auch überflüssigzu sein, da sie nur \"OK\" enthält.\n",
    "Die restlichen Spalten sind die Koordinaten der Spieler, da diese durchmischt sind werden sie erst bei der Visualisierung interessant."
   ],
   "metadata": {
    "collapsed": false
   },
   "id": "861a8eed65c07dbf"
  },
  {
   "cell_type": "markdown",
   "source": [
    "## Confidences analysieren \n",
    "Da die confidences ein paar tiefe Werte hat, schauen wir uns diese genauer an."
   ],
   "metadata": {
    "collapsed": false
   },
   "id": "f4992d9862fb3d38"
  },
  {
   "cell_type": "code",
   "outputs": [
    {
     "data": {
      "text/plain": "<Figure size 700x700 with 1 Axes>",
      "image/png": "[encoded data removed]"
     },
     "metadata": {},
     "output_type": "display_data"
    }
   ],
   "source": [
    "plt.figure(figsize=(7, 7))\n",
    "plt.hist(data[\"confidence\"], bins=100)\n",
    "plt.title(\"Verteilung wie sicher die Objekte erkannt wurden\")\n",
    "plt.xlabel(\"Confidence\")\n",
    "plt.ylabel(\"Häufigkeit\")\n",
    "plt.show()"
   ],
   "metadata": {
    "collapsed": false,
    "ExecuteTime": {
     "end_time": "2024-01-14T15:33:15.590991700Z",
     "start_time": "2024-01-14T15:33:15.265538200Z"
    }
   },
   "id": "7c8cbfd4b2aefaf",
   "execution_count": 42
  },
  {
   "cell_type": "markdown",
   "source": [
    "Wie man sieht die Zed-Kamera scheint sich bei den meisten erkennungen über 70% sicher zu sein. Meistens sogar über 80%. Wir analysieren aber vorallem noch die objekte zwischen 20% und 30%."
   ],
   "metadata": {
    "collapsed": false
   },
   "id": "7643130b07fdb6d7"
  },
  {
   "cell_type": "code",
   "outputs": [
    {
     "data": {
      "text/plain": "              frame  object  object_id object_label  confidence  \\\ncount     92.000000    92.0       92.0           92   92.000000   \nunique          NaN     4.0        2.0            1         NaN   \ntop             NaN     1.0        1.0       Person         NaN   \nfreq            NaN    63.0       88.0           92         NaN   \nmean    4184.728261     NaN        NaN          NaN   25.269219   \nstd     2797.739516     NaN        NaN          NaN    2.284746   \nmin      113.000000     NaN        NaN          NaN   20.239260   \n25%     1387.250000     NaN        NaN          NaN   23.776248   \n50%     4731.000000     NaN        NaN          NaN   25.134280   \n75%     6466.250000     NaN        NaN          NaN   26.995850   \nmax     9735.000000     NaN        NaN          NaN   29.736330   \n\n       tracking_state          x          y          z         vx         xy  \\\ncount              92  92.000000  92.000000  92.000000  92.000000  92.000000   \nunique              1        NaN        NaN        NaN        NaN        NaN   \ntop                OK        NaN        NaN        NaN        NaN        NaN   \nfreq               92        NaN        NaN        NaN        NaN        NaN   \nmean              NaN  -0.218814  -1.584936   9.283510  -0.028240  -0.004968   \nstd               NaN   2.256650   0.199315   4.786178   0.669088   0.014006   \nmin               NaN  -5.828517  -1.909414  -2.178091  -2.003810  -0.026910   \n25%               NaN  -0.869564  -1.656061   5.742151  -0.580740  -0.011987   \n50%               NaN   0.452100  -1.611304  10.886871  -0.009880  -0.009125   \n75%               NaN   0.654543  -1.553524  11.983759   0.391267   0.001835   \nmax               NaN   5.780373  -0.945932  14.482583   1.313560   0.032870   \n\n               vz      width     height     length  \ncount   92.000000  92.000000  92.000000  92.000000  \nunique        NaN        NaN        NaN        NaN  \ntop           NaN        NaN        NaN        NaN  \nfreq          NaN        NaN        NaN        NaN  \nmean     0.216523   0.723747   1.633381   0.723748  \nstd      0.655911   0.185178   0.123639   0.185178  \nmin     -1.625280   0.507490   1.338940   0.507490  \n25%     -0.009320   0.578240   1.517490   0.578240  \n50%      0.287275   0.693660   1.687020   0.693660  \n75%      0.639360   0.810865   1.728342   0.810865  \nmax      1.399860   1.433260   1.777250   1.433260  ",
      "text/html": "<div>\n<style scoped>\n    .dataframe tbody tr th:only-of-type {\n        vertical-align: middle;\n    }\n\n    .dataframe tbody tr th {\n        vertical-align: top;\n    }\n\n    .dataframe thead th {\n        text-align: right;\n    }\n</style>\n<table border=\"1\" class=\"dataframe\">\n  <thead>\n    <tr style=\"text-align: right;\">\n      <th></th>\n      <th>frame</th>\n      <th>object</th>\n      <th>object_id</th>\n      <th>object_label</th>\n      <th>confidence</th>\n      <th>tracking_state</th>\n      <th>x</th>\n      <th>y</th>\n      <th>z</th>\n      <th>vx</th>\n      <th>xy</th>\n      <th>vz</th>\n      <th>width</th>\n      <th>height</th>\n      <th>length</th>\n    </tr>\n  </thead>\n  <tbody>\n    <tr>\n      <th>count</th>\n      <td>92.000000</td>\n      <td>92.0</td>\n      <td>92.0</td>\n      <td>92</td>\n      <td>92.000000</td>\n      <td>92</td>\n      <td>92.000000</td>\n      <td>92.000000</td>\n      <td>92.000000</td>\n      <td>92.000000</td>\n      <td>92.000000</td>\n      <td>92.000000</td>\n      <td>92.000000</td>\n      <td>92.000000</td>\n      <td>92.000000</td>\n    </tr>\n    <tr>\n      <th>unique</th>\n      <td>NaN</td>\n      <td>4.0</td>\n      <td>2.0</td>\n      <td>1</td>\n      <td>NaN</td>\n      <td>1</td>\n      <td>NaN</td>\n      <td>NaN</td>\n      <td>NaN</td>\n      <td>NaN</td>\n      <td>NaN</td>\n      <td>NaN</td>\n      <td>NaN</td>\n      <td>NaN</td>\n      <td>NaN</td>\n    </tr>\n    <tr>\n      <th>top</th>\n      <td>NaN</td>\n      <td>1.0</td>\n      <td>1.0</td>\n      <td>Person</td>\n      <td>NaN</td>\n      <td>OK</td>\n      <td>NaN</td>\n      <td>NaN</td>\n      <td>NaN</td>\n      <td>NaN</td>\n      <td>NaN</td>\n      <td>NaN</td>\n      <td>NaN</td>\n      <td>NaN</td>\n      <td>NaN</td>\n    </tr>\n    <tr>\n      <th>freq</th>\n      <td>NaN</td>\n      <td>63.0</td>\n      <td>88.0</td>\n      <td>92</td>\n      <td>NaN</td>\n      <td>92</td>\n      <td>NaN</td>\n      <td>NaN</td>\n      <td>NaN</td>\n      <td>NaN</td>\n      <td>NaN</td>\n      <td>NaN</td>\n      <td>NaN</td>\n      <td>NaN</td>\n      <td>NaN</td>\n    </tr>\n    <tr>\n      <th>mean</th>\n      <td>4184.728261</td>\n      <td>NaN</td>\n      <td>NaN</td>\n      <td>NaN</td>\n      <td>25.269219</td>\n      <td>NaN</td>\n      <td>-0.218814</td>\n      <td>-1.584936</td>\n      <td>9.283510</td>\n      <td>-0.028240</td>\n      <td>-0.004968</td>\n      <td>0.216523</td>\n      <td>0.723747</td>\n      <td>1.633381</td>\n      <td>0.723748</td>\n    </tr>\n    <tr>\n      <th>std</th>\n      <td>2797.739516</td>\n      <td>NaN</td>\n      <td>NaN</td>\n      <td>NaN</td>\n      <td>2.284746</td>\n      <td>NaN</td>\n      <td>2.256650</td>\n      <td>0.199315</td>\n      <td>4.786178</td>\n      <td>0.669088</td>\n      <td>0.014006</td>\n      <td>0.655911</td>\n      <td>0.185178</td>\n      <td>0.123639</td>\n      <td>0.185178</td>\n    </tr>\n    <tr>\n      <th>min</th>\n      <td>113.000000</td>\n      <td>NaN</td>\n      <td>NaN</td>\n      <td>NaN</td>\n      <td>20.239260</td>\n      <td>NaN</td>\n      <td>-5.828517</td>\n      <td>-1.909414</td>\n      <td>-2.178091</td>\n      <td>-2.003810</td>\n      <td>-0.026910</td>\n      <td>-1.625280</td>\n      <td>0.507490</td>\n      <td>1.338940</td>\n      <td>0.507490</td>\n    </tr>\n    <tr>\n      <th>25%</th>\n      <td>1387.250000</td>\n      <td>NaN</td>\n      <td>NaN</td>\n      <td>NaN</td>\n      <td>23.776248</td>\n      <td>NaN</td>\n      <td>-0.869564</td>\n      <td>-1.656061</td>\n      <td>5.742151</td>\n      <td>-0.580740</td>\n      <td>-0.011987</td>\n      <td>-0.009320</td>\n      <td>0.578240</td>\n      <td>1.517490</td>\n      <td>0.578240</td>\n    </tr>\n    <tr>\n      <th>50%</th>\n      <td>4731.000000</td>\n      <td>NaN</td>\n      <td>NaN</td>\n      <td>NaN</td>\n      <td>25.134280</td>\n      <td>NaN</td>\n      <td>0.452100</td>\n      <td>-1.611304</td>\n      <td>10.886871</td>\n      <td>-0.009880</td>\n      <td>-0.009125</td>\n      <td>0.287275</td>\n      <td>0.693660</td>\n      <td>1.687020</td>\n      <td>0.693660</td>\n    </tr>\n    <tr>\n      <th>75%</th>\n      <td>6466.250000</td>\n      <td>NaN</td>\n      <td>NaN</td>\n      <td>NaN</td>\n      <td>26.995850</td>\n      <td>NaN</td>\n      <td>0.654543</td>\n      <td>-1.553524</td>\n      <td>11.983759</td>\n      <td>0.391267</td>\n      <td>0.001835</td>\n      <td>0.639360</td>\n      <td>0.810865</td>\n      <td>1.728342</td>\n      <td>0.810865</td>\n    </tr>\n    <tr>\n      <th>max</th>\n      <td>9735.000000</td>\n      <td>NaN</td>\n      <td>NaN</td>\n      <td>NaN</td>\n      <td>29.736330</td>\n      <td>NaN</td>\n      <td>5.780373</td>\n      <td>-0.945932</td>\n      <td>14.482583</td>\n      <td>1.313560</td>\n      <td>0.032870</td>\n      <td>1.399860</td>\n      <td>1.433260</td>\n      <td>1.777250</td>\n      <td>1.433260</td>\n    </tr>\n  </tbody>\n</table>\n</div>"
     },
     "execution_count": 43,
     "metadata": {},
     "output_type": "execute_result"
    }
   ],
   "source": [
    "data.loc[data[\"confidence\"] < 30].describe(include=\"all\")"
   ],
   "metadata": {
    "collapsed": false,
    "ExecuteTime": {
     "end_time": "2024-01-14T15:33:18.295964600Z",
     "start_time": "2024-01-14T15:33:18.230378100Z"
    }
   },
   "id": "43f969f0774fdbfa",
   "execution_count": 43
  },
  {
   "cell_type": "markdown",
   "source": [
    "Glücklicherweise sind nur 92 frames betroffen. Wir schauen uns diese genauer an.\n",
    "- Objects werden nur noch 4 erkannt. ????\n",
    "- object_id sind immer noch 2, wobei die id 1 88 Mal vorkommt und die id 2 nur 4 Mal.\n",
    "Die Frage die sich mir nun stellt ist, was sind diese Objekte und kommen bei mehr confidence auch mehr Objekte vor?"
   ],
   "metadata": {
    "collapsed": false
   },
   "id": "bd0c6c14fb8f9e1b"
  },
  {
   "cell_type": "code",
   "outputs": [
    {
     "data": {
      "text/plain": "              frame  object  object_id object_label  confidence  \\\ncount    645.000000   645.0      645.0          645  645.000000   \nunique          NaN     6.0        2.0            1         NaN   \ntop             NaN     1.0        1.0       Person         NaN   \nfreq            NaN   325.0      629.0          645         NaN   \nmean    4486.782946     NaN        NaN          NaN   39.910539   \nstd     3325.146913     NaN        NaN          NaN    7.871866   \nmin        7.000000     NaN        NaN          NaN   20.239260   \n25%     1424.000000     NaN        NaN          NaN   34.863280   \n50%     3928.000000     NaN        NaN          NaN   41.870120   \n75%     7426.000000     NaN        NaN          NaN   46.484380   \nmax     9735.000000     NaN        NaN          NaN   49.902340   \n\n       tracking_state           x           y           z          vx  \\\ncount             645  645.000000  645.000000  645.000000  645.000000   \nunique              1         NaN         NaN         NaN         NaN   \ntop                OK         NaN         NaN         NaN         NaN   \nfreq              645         NaN         NaN         NaN         NaN   \nmean              NaN    0.070377   -1.628093   11.432772   -0.019717   \nstd               NaN    1.581315    0.138820    3.424508    0.712061   \nmin               NaN   -5.857681   -1.949037   -3.893990   -4.444040   \n25%               NaN    0.279184   -1.689653   10.895991   -0.326650   \n50%               NaN    0.463917   -1.632902   11.732230    0.031310   \n75%               NaN    0.667017   -1.569864   13.752093    0.359440   \nmax               NaN    5.780373   -0.945932   14.544777    1.323060   \n\n                xy          vz       width      height      length  \ncount   645.000000  645.000000  645.000000  645.000000  645.000000  \nunique         NaN         NaN         NaN         NaN         NaN  \ntop            NaN         NaN         NaN         NaN         NaN  \nfreq           NaN         NaN         NaN         NaN         NaN  \nmean     -0.003743    0.164482    0.757895    1.621679    0.757895  \nstd       0.013502    0.603968    0.159379    0.111011    0.159379  \nmin      -0.064910   -2.571660    0.500010    1.338940    0.500010  \n25%      -0.010900   -0.193360    0.650250    1.526760    0.650250  \n50%      -0.002870    0.148440    0.733920    1.642650    0.733920  \n75%       0.003770    0.540140    0.821300    1.722670    0.821300  \nmax       0.057010    1.967200    1.450260    1.875650    1.450260  ",
      "text/html": "<div>\n<style scoped>\n    .dataframe tbody tr th:only-of-type {\n        vertical-align: middle;\n    }\n\n    .dataframe tbody tr th {\n        vertical-align: top;\n    }\n\n    .dataframe thead th {\n        text-align: right;\n    }\n</style>\n<table border=\"1\" class=\"dataframe\">\n  <thead>\n    <tr style=\"text-align: right;\">\n      <th></th>\n      <th>frame</th>\n      <th>object</th>\n      <th>object_id</th>\n      <th>object_label</th>\n      <th>confidence</th>\n      <th>tracking_state</th>\n      <th>x</th>\n      <th>y</th>\n      <th>z</th>\n      <th>vx</th>\n      <th>xy</th>\n      <th>vz</th>\n      <th>width</th>\n      <th>height</th>\n      <th>length</th>\n    </tr>\n  </thead>\n  <tbody>\n    <tr>\n      <th>count</th>\n      <td>645.000000</td>\n      <td>645.0</td>\n      <td>645.0</td>\n      <td>645</td>\n      <td>645.000000</td>\n      <td>645</td>\n      <td>645.000000</td>\n      <td>645.000000</td>\n      <td>645.000000</td>\n      <td>645.000000</td>\n      <td>645.000000</td>\n      <td>645.000000</td>\n      <td>645.000000</td>\n      <td>645.000000</td>\n      <td>645.000000</td>\n    </tr>\n    <tr>\n      <th>unique</th>\n      <td>NaN</td>\n      <td>6.0</td>\n      <td>2.0</td>\n      <td>1</td>\n      <td>NaN</td>\n      <td>1</td>\n      <td>NaN</td>\n      <td>NaN</td>\n      <td>NaN</td>\n      <td>NaN</td>\n      <td>NaN</td>\n      <td>NaN</td>\n      <td>NaN</td>\n      <td>NaN</td>\n      <td>NaN</td>\n    </tr>\n    <tr>\n      <th>top</th>\n      <td>NaN</td>\n      <td>1.0</td>\n      <td>1.0</td>\n      <td>Person</td>\n      <td>NaN</td>\n      <td>OK</td>\n      <td>NaN</td>\n      <td>NaN</td>\n      <td>NaN</td>\n      <td>NaN</td>\n      <td>NaN</td>\n      <td>NaN</td>\n      <td>NaN</td>\n      <td>NaN</td>\n      <td>NaN</td>\n    </tr>\n    <tr>\n      <th>freq</th>\n      <td>NaN</td>\n      <td>325.0</td>\n      <td>629.0</td>\n      <td>645</td>\n      <td>NaN</td>\n      <td>645</td>\n      <td>NaN</td>\n      <td>NaN</td>\n      <td>NaN</td>\n      <td>NaN</td>\n      <td>NaN</td>\n      <td>NaN</td>\n      <td>NaN</td>\n      <td>NaN</td>\n      <td>NaN</td>\n    </tr>\n    <tr>\n      <th>mean</th>\n      <td>4486.782946</td>\n      <td>NaN</td>\n      <td>NaN</td>\n      <td>NaN</td>\n      <td>39.910539</td>\n      <td>NaN</td>\n      <td>0.070377</td>\n      <td>-1.628093</td>\n      <td>11.432772</td>\n      <td>-0.019717</td>\n      <td>-0.003743</td>\n      <td>0.164482</td>\n      <td>0.757895</td>\n      <td>1.621679</td>\n      <td>0.757895</td>\n    </tr>\n    <tr>\n      <th>std</th>\n      <td>3325.146913</td>\n      <td>NaN</td>\n      <td>NaN</td>\n      <td>NaN</td>\n      <td>7.871866</td>\n      <td>NaN</td>\n      <td>1.581315</td>\n      <td>0.138820</td>\n      <td>3.424508</td>\n      <td>0.712061</td>\n      <td>0.013502</td>\n      <td>0.603968</td>\n      <td>0.159379</td>\n      <td>0.111011</td>\n      <td>0.159379</td>\n    </tr>\n    <tr>\n      <th>min</th>\n      <td>7.000000</td>\n      <td>NaN</td>\n      <td>NaN</td>\n      <td>NaN</td>\n      <td>20.239260</td>\n      <td>NaN</td>\n      <td>-5.857681</td>\n      <td>-1.949037</td>\n      <td>-3.893990</td>\n      <td>-4.444040</td>\n      <td>-0.064910</td>\n      <td>-2.571660</td>\n      <td>0.500010</td>\n      <td>1.338940</td>\n      <td>0.500010</td>\n    </tr>\n    <tr>\n      <th>25%</th>\n      <td>1424.000000</td>\n      <td>NaN</td>\n      <td>NaN</td>\n      <td>NaN</td>\n      <td>34.863280</td>\n      <td>NaN</td>\n      <td>0.279184</td>\n      <td>-1.689653</td>\n      <td>10.895991</td>\n      <td>-0.326650</td>\n      <td>-0.010900</td>\n      <td>-0.193360</td>\n      <td>0.650250</td>\n      <td>1.526760</td>\n      <td>0.650250</td>\n    </tr>\n    <tr>\n      <th>50%</th>\n      <td>3928.000000</td>\n      <td>NaN</td>\n      <td>NaN</td>\n      <td>NaN</td>\n      <td>41.870120</td>\n      <td>NaN</td>\n      <td>0.463917</td>\n      <td>-1.632902</td>\n      <td>11.732230</td>\n      <td>0.031310</td>\n      <td>-0.002870</td>\n      <td>0.148440</td>\n      <td>0.733920</td>\n      <td>1.642650</td>\n      <td>0.733920</td>\n    </tr>\n    <tr>\n      <th>75%</th>\n      <td>7426.000000</td>\n      <td>NaN</td>\n      <td>NaN</td>\n      <td>NaN</td>\n      <td>46.484380</td>\n      <td>NaN</td>\n      <td>0.667017</td>\n      <td>-1.569864</td>\n      <td>13.752093</td>\n      <td>0.359440</td>\n      <td>0.003770</td>\n      <td>0.540140</td>\n      <td>0.821300</td>\n      <td>1.722670</td>\n      <td>0.821300</td>\n    </tr>\n    <tr>\n      <th>max</th>\n      <td>9735.000000</td>\n      <td>NaN</td>\n      <td>NaN</td>\n      <td>NaN</td>\n      <td>49.902340</td>\n      <td>NaN</td>\n      <td>5.780373</td>\n      <td>-0.945932</td>\n      <td>14.544777</td>\n      <td>1.323060</td>\n      <td>0.057010</td>\n      <td>1.967200</td>\n      <td>1.450260</td>\n      <td>1.875650</td>\n      <td>1.450260</td>\n    </tr>\n  </tbody>\n</table>\n</div>"
     },
     "execution_count": 44,
     "metadata": {},
     "output_type": "execute_result"
    }
   ],
   "source": [
    "data.loc[data[\"confidence\"] < 50].describe(include=\"all\")"
   ],
   "metadata": {
    "collapsed": false,
    "ExecuteTime": {
     "end_time": "2024-01-14T15:33:20.391094200Z",
     "start_time": "2024-01-14T15:33:20.346961300Z"
    }
   },
   "id": "8031785d1bebca8b",
   "execution_count": 44
  },
  {
   "cell_type": "markdown",
   "source": [
    "Bei 50% confidence sind wir nur bei 645 frames. Aber einzigartige \"objects sind wieder 6 vorhanden."
   ],
   "metadata": {
    "collapsed": false
   },
   "id": "6bc69b56e98c7bca"
  },
  {
   "cell_type": "markdown",
   "source": [
    "# Generieren von mehr Features "
   ],
   "metadata": {
    "collapsed": false
   },
   "id": "62d62d37ac49ab8e"
  },
  {
   "cell_type": "markdown",
   "source": [
    "### Berechnung der Geschwindigkeit"
   ],
   "metadata": {
    "collapsed": false
   },
   "id": "2324ea7159e3392c"
  },
  {
   "cell_type": "code",
   "outputs": [],
   "source": [
    "# Geschwindigkeit berechnen mit den drei Achsen\n",
    "data[\"geschwindigkeit\"] = np.sqrt(data[\"vx\"]**2 + data[\"xy\"]**2 + data[\"vz\"]**2)"
   ],
   "metadata": {
    "collapsed": false,
    "ExecuteTime": {
     "end_time": "2024-01-14T15:33:22.971665200Z",
     "start_time": "2024-01-14T15:33:22.941694100Z"
    }
   },
   "id": "3f36491efa49d9eb",
   "execution_count": 45
  },
  {
   "cell_type": "markdown",
   "source": [
    "### Berechnung der Beschleunigung"
   ],
   "metadata": {
    "collapsed": false
   },
   "id": "9ec0577cbc6a43c3"
  },
  {
   "cell_type": "code",
   "outputs": [
    {
     "name": "stderr",
     "output_type": "stream",
     "text": [
      "C:\\Users\\wartm\\AppData\\Local\\Temp\\ipykernel_2084\\4206707586.py:3: FutureWarning: The default of observed=False is deprecated and will be changed to True in a future version of pandas. Pass observed=False to retain current behavior or observed=True to adopt the future default and silence this warning.\n",
      "  data[\"beschleunigung\"] = data.groupby(\"object_id\")[\"geschwindigkeit\"].diff().fillna(0)\n"
     ]
    }
   ],
   "source": [
    "# Sicherstellen das die Daten sortiert sind um die Beschleunigung zu berechnen mit der Differenz des vorherigen Frames\n",
    "data = data.sort_values(by=[\"object_id\", \"frame\"])\n",
    "data[\"beschleunigung\"] = data.groupby(\"object_id\")[\"geschwindigkeit\"].diff().fillna(0)"
   ],
   "metadata": {
    "collapsed": false,
    "ExecuteTime": {
     "end_time": "2024-01-14T15:33:23.950806900Z",
     "start_time": "2024-01-14T15:33:23.913752900Z"
    }
   },
   "id": "af4a3d243b671433",
   "execution_count": 46
  },
  {
   "cell_type": "code",
   "outputs": [],
   "source": [
    "#Reihenfolge wieder herstellen\n",
    "data = data.sort_values(by=[\"frame\"])"
   ],
   "metadata": {
    "collapsed": false,
    "ExecuteTime": {
     "end_time": "2024-01-14T15:33:24.618387Z",
     "start_time": "2024-01-14T15:33:24.586800200Z"
    }
   },
   "id": "370c0b2d144d3cd6",
   "execution_count": 47
  },
  {
   "cell_type": "markdown",
   "source": [
    "### Feldzonen berechnen"
   ],
   "metadata": {
    "collapsed": false
   },
   "id": "47ebe98fd6a7ae48"
  },
  {
   "cell_type": "code",
   "outputs": [],
   "source": [
    "def zonen(y):\n",
    "    abs_y = abs(y)\n",
    "    if  6.4 > abs_y: # Vom Netz bis zur Aufschlaglinie\n",
    "        return \"Sehr Offensiv\"\n",
    "    elif 11 > abs_y: #Bis fast zur Grundlinie\n",
    "        return \"Offensiv\"\n",
    "    elif 12.1 > abs_y: # Etwas hinter der Grundlinie\n",
    "        return \"Neutral\"\n",
    "    else:  # Deutlich hinter der Grundlinie\n",
    "        return \"Defensiv\""
   ],
   "metadata": {
    "collapsed": false,
    "ExecuteTime": {
     "end_time": "2024-01-14T15:33:25.550091800Z",
     "start_time": "2024-01-14T15:33:25.518314600Z"
    }
   },
   "id": "5a64024d017572d9",
   "execution_count": 48
  },
  {
   "cell_type": "code",
   "outputs": [],
   "source": [
    "def position(x, player_id):\n",
    "    def_grenze = 2.74\n",
    "    if player_id == 1:\n",
    "        if x > def_grenze:\n",
    "            return \"Rechts\"\n",
    "        elif x < -def_grenze:\n",
    "            return \"Links\"\n",
    "        else:\n",
    "            return \"Mitte\"\n",
    "    else:  # Für Spieler 2 ist die Logik umgekehrt\n",
    "        if x > def_grenze:\n",
    "            return \"Links\"\n",
    "        elif x < -def_grenze:\n",
    "            return \"Rechts\"\n",
    "        else:\n",
    "            return \"Mitte\""
   ],
   "metadata": {
    "collapsed": false,
    "ExecuteTime": {
     "end_time": "2024-01-14T15:33:25.867323400Z",
     "start_time": "2024-01-14T15:33:25.824008Z"
    }
   },
   "id": "3401e861b42cf2cb",
   "execution_count": 49
  },
  {
   "cell_type": "code",
   "outputs": [],
   "source": [
    "data[\"zone\"] = data[\"z\"].apply(zonen)\n",
    "data[\"position\"] = data.apply(lambda row: position(row['x'], row['object_id']), axis=1)"
   ],
   "metadata": {
    "collapsed": false,
    "ExecuteTime": {
     "end_time": "2024-01-14T15:33:26.451570300Z",
     "start_time": "2024-01-14T15:33:26.138210900Z"
    }
   },
   "id": "66b2802d74495da4",
   "execution_count": 50
  },
  {
   "cell_type": "markdown",
   "source": [
    "## Vertiefte Analyse"
   ],
   "metadata": {
    "collapsed": false
   },
   "id": "98f18d136e3ca25e"
  },
  {
   "cell_type": "code",
   "outputs": [
    {
     "data": {
      "text/plain": "               frame   object  object_id object_label    confidence  \\\ncount   19604.000000  19604.0    19604.0        19604  19604.000000   \nunique           NaN      6.0        2.0            1           NaN   \ntop              NaN      0.0        6.0       Person           NaN   \nfreq             NaN   9910.0     9957.0        19604           NaN   \nmean     5020.228933      NaN        NaN          NaN     76.148306   \nstd      2920.071379      NaN        NaN          NaN     11.380958   \nmin         3.000000      NaN        NaN          NaN     20.239260   \n25%      2488.000000      NaN        NaN          NaN     70.166020   \n50%      4940.500000      NaN        NaN          NaN     80.029300   \n75%      7570.250000      NaN        NaN          NaN     84.521480   \nmax     10329.000000      NaN        NaN          NaN     94.970700   \n\n       tracking_state             x             y             z            vx  \\\ncount           19604  19604.000000  19604.000000  19604.000000  19604.000000   \nunique              1           NaN           NaN           NaN           NaN   \ntop                OK           NaN           NaN           NaN           NaN   \nfreq            19604           NaN           NaN           NaN           NaN   \nmean              NaN      0.621249     -1.399405      2.721578     -0.010686   \nstd               NaN      1.407933      0.201091      7.950672      0.603392   \nmin               NaN     -5.877019     -1.961219    -17.007993     -4.524640   \n25%               NaN      0.127560     -1.582142     -3.826245     -0.360165   \n50%               NaN      0.483242     -1.404639     -0.601747     -0.016670   \n75%               NaN      0.899212     -1.248651     10.998342      0.383798   \nmax               NaN      7.827466     -0.702808     14.836865      1.674440   \n\n                  xy            vz         width        height        length  \\\ncount   19604.000000  19604.000000  19604.000000  19604.000000  19604.000000   \nunique           NaN           NaN           NaN           NaN           NaN   \ntop              NaN           NaN           NaN           NaN           NaN   \nfreq             NaN           NaN           NaN           NaN           NaN   \nmean       -0.000150      0.003906      0.762388      1.717896      0.762388   \nstd         0.014805      0.651048      0.167280      0.145745      0.167280   \nmin        -0.104010    -10.442960      0.498400      0.308860      0.498400   \n25%        -0.009190     -0.399478      0.645540      1.706060      0.645540   \n50%         0.000610     -0.020135      0.723395      1.743255      0.723395   \n75%         0.008520      0.416310      0.835080      1.776080      0.835072   \nmax         0.208160      3.218870      1.671170      1.913040      1.671170   \n\n        geschwindigkeit  beschleunigung           zone position  \ncount      19604.000000    19604.000000          19604    19604  \nunique              NaN             NaN              4        3  \ntop                 NaN             NaN  Sehr Offensiv    Mitte  \nfreq                NaN             NaN           9254    18421  \nmean           0.752160       -0.000489            NaN      NaN  \nstd            0.471722        0.063683            NaN      NaN  \nmin            0.002309       -3.310628            NaN      NaN  \n25%            0.410260       -0.028301            NaN      NaN  \n50%            0.692182       -0.000146            NaN      NaN  \n75%            1.026508        0.028368            NaN      NaN  \nmax           11.106684        2.321667            NaN      NaN  ",
      "text/html": "<div>\n<style scoped>\n    .dataframe tbody tr th:only-of-type {\n        vertical-align: middle;\n    }\n\n    .dataframe tbody tr th {\n        vertical-align: top;\n    }\n\n    .dataframe thead th {\n        text-align: right;\n    }\n</style>\n<table border=\"1\" class=\"dataframe\">\n  <thead>\n    <tr style=\"text-align: right;\">\n      <th></th>\n      <th>frame</th>\n      <th>object</th>\n      <th>object_id</th>\n      <th>object_label</th>\n      <th>confidence</th>\n      <th>tracking_state</th>\n      <th>x</th>\n      <th>y</th>\n      <th>z</th>\n      <th>vx</th>\n      <th>xy</th>\n      <th>vz</th>\n      <th>width</th>\n      <th>height</th>\n      <th>length</th>\n      <th>geschwindigkeit</th>\n      <th>beschleunigung</th>\n      <th>zone</th>\n      <th>position</th>\n    </tr>\n  </thead>\n  <tbody>\n    <tr>\n      <th>count</th>\n      <td>19604.000000</td>\n      <td>19604.0</td>\n      <td>19604.0</td>\n      <td>19604</td>\n      <td>19604.000000</td>\n      <td>19604</td>\n      <td>19604.000000</td>\n      <td>19604.000000</td>\n      <td>19604.000000</td>\n      <td>19604.000000</td>\n      <td>19604.000000</td>\n      <td>19604.000000</td>\n      <td>19604.000000</td>\n      <td>19604.000000</td>\n      <td>19604.000000</td>\n      <td>19604.000000</td>\n      <td>19604.000000</td>\n      <td>19604</td>\n      <td>19604</td>\n    </tr>\n    <tr>\n      <th>unique</th>\n      <td>NaN</td>\n      <td>6.0</td>\n      <td>2.0</td>\n      <td>1</td>\n      <td>NaN</td>\n      <td>1</td>\n      <td>NaN</td>\n      <td>NaN</td>\n      <td>NaN</td>\n      <td>NaN</td>\n      <td>NaN</td>\n      <td>NaN</td>\n      <td>NaN</td>\n      <td>NaN</td>\n      <td>NaN</td>\n      <td>NaN</td>\n      <td>NaN</td>\n      <td>4</td>\n      <td>3</td>\n    </tr>\n    <tr>\n      <th>top</th>\n      <td>NaN</td>\n      <td>0.0</td>\n      <td>6.0</td>\n      <td>Person</td>\n      <td>NaN</td>\n      <td>OK</td>\n      <td>NaN</td>\n      <td>NaN</td>\n      <td>NaN</td>\n      <td>NaN</td>\n      <td>NaN</td>\n      <td>NaN</td>\n      <td>NaN</td>\n      <td>NaN</td>\n      <td>NaN</td>\n      <td>NaN</td>\n      <td>NaN</td>\n      <td>Sehr Offensiv</td>\n      <td>Mitte</td>\n    </tr>\n    <tr>\n      <th>freq</th>\n      <td>NaN</td>\n      <td>9910.0</td>\n      <td>9957.0</td>\n      <td>19604</td>\n      <td>NaN</td>\n      <td>19604</td>\n      <td>NaN</td>\n      <td>NaN</td>\n      <td>NaN</td>\n      <td>NaN</td>\n      <td>NaN</td>\n      <td>NaN</td>\n      <td>NaN</td>\n      <td>NaN</td>\n      <td>NaN</td>\n      <td>NaN</td>\n      <td>NaN</td>\n      <td>9254</td>\n      <td>18421</td>\n    </tr>\n    <tr>\n      <th>mean</th>\n      <td>5020.228933</td>\n      <td>NaN</td>\n      <td>NaN</td>\n      <td>NaN</td>\n      <td>76.148306</td>\n      <td>NaN</td>\n      <td>0.621249</td>\n      <td>-1.399405</td>\n      <td>2.721578</td>\n      <td>-0.010686</td>\n      <td>-0.000150</td>\n      <td>0.003906</td>\n      <td>0.762388</td>\n      <td>1.717896</td>\n      <td>0.762388</td>\n      <td>0.752160</td>\n      <td>-0.000489</td>\n      <td>NaN</td>\n      <td>NaN</td>\n    </tr>\n    <tr>\n      <th>std</th>\n      <td>2920.071379</td>\n      <td>NaN</td>\n      <td>NaN</td>\n      <td>NaN</td>\n      <td>11.380958</td>\n      <td>NaN</td>\n      <td>1.407933</td>\n      <td>0.201091</td>\n      <td>7.950672</td>\n      <td>0.603392</td>\n      <td>0.014805</td>\n      <td>0.651048</td>\n      <td>0.167280</td>\n      <td>0.145745</td>\n      <td>0.167280</td>\n      <td>0.471722</td>\n      <td>0.063683</td>\n      <td>NaN</td>\n      <td>NaN</td>\n    </tr>\n    <tr>\n      <th>min</th>\n      <td>3.000000</td>\n      <td>NaN</td>\n      <td>NaN</td>\n      <td>NaN</td>\n      <td>20.239260</td>\n      <td>NaN</td>\n      <td>-5.877019</td>\n      <td>-1.961219</td>\n      <td>-17.007993</td>\n      <td>-4.524640</td>\n      <td>-0.104010</td>\n      <td>-10.442960</td>\n      <td>0.498400</td>\n      <td>0.308860</td>\n      <td>0.498400</td>\n      <td>0.002309</td>\n      <td>-3.310628</td>\n      <td>NaN</td>\n      <td>NaN</td>\n    </tr>\n    <tr>\n      <th>25%</th>\n      <td>2488.000000</td>\n      <td>NaN</td>\n      <td>NaN</td>\n      <td>NaN</td>\n      <td>70.166020</td>\n      <td>NaN</td>\n      <td>0.127560</td>\n      <td>-1.582142</td>\n      <td>-3.826245</td>\n      <td>-0.360165</td>\n      <td>-0.009190</td>\n      <td>-0.399478</td>\n      <td>0.645540</td>\n      <td>1.706060</td>\n      <td>0.645540</td>\n      <td>0.410260</td>\n      <td>-0.028301</td>\n      <td>NaN</td>\n      <td>NaN</td>\n    </tr>\n    <tr>\n      <th>50%</th>\n      <td>4940.500000</td>\n      <td>NaN</td>\n      <td>NaN</td>\n      <td>NaN</td>\n      <td>80.029300</td>\n      <td>NaN</td>\n      <td>0.483242</td>\n      <td>-1.404639</td>\n      <td>-0.601747</td>\n      <td>-0.016670</td>\n      <td>0.000610</td>\n      <td>-0.020135</td>\n      <td>0.723395</td>\n      <td>1.743255</td>\n      <td>0.723395</td>\n      <td>0.692182</td>\n      <td>-0.000146</td>\n      <td>NaN</td>\n      <td>NaN</td>\n    </tr>\n    <tr>\n      <th>75%</th>\n      <td>7570.250000</td>\n      <td>NaN</td>\n      <td>NaN</td>\n      <td>NaN</td>\n      <td>84.521480</td>\n      <td>NaN</td>\n      <td>0.899212</td>\n      <td>-1.248651</td>\n      <td>10.998342</td>\n      <td>0.383798</td>\n      <td>0.008520</td>\n      <td>0.416310</td>\n      <td>0.835080</td>\n      <td>1.776080</td>\n      <td>0.835072</td>\n      <td>1.026508</td>\n      <td>0.028368</td>\n      <td>NaN</td>\n      <td>NaN</td>\n    </tr>\n    <tr>\n      <th>max</th>\n      <td>10329.000000</td>\n      <td>NaN</td>\n      <td>NaN</td>\n      <td>NaN</td>\n      <td>94.970700</td>\n      <td>NaN</td>\n      <td>7.827466</td>\n      <td>-0.702808</td>\n      <td>14.836865</td>\n      <td>1.674440</td>\n      <td>0.208160</td>\n      <td>3.218870</td>\n      <td>1.671170</td>\n      <td>1.913040</td>\n      <td>1.671170</td>\n      <td>11.106684</td>\n      <td>2.321667</td>\n      <td>NaN</td>\n      <td>NaN</td>\n    </tr>\n  </tbody>\n</table>\n</div>"
     },
     "execution_count": 51,
     "metadata": {},
     "output_type": "execute_result"
    }
   ],
   "source": [
    "data.describe(include=\"all\")"
   ],
   "metadata": {
    "collapsed": false,
    "ExecuteTime": {
     "end_time": "2024-01-14T15:33:27.347021300Z",
     "start_time": "2024-01-14T15:33:27.236766300Z"
    }
   },
   "id": "a14946123bae5f64",
   "execution_count": 51
  },
  {
   "cell_type": "markdown",
   "source": [
    "### Vergleich der beiden Spieler"
   ],
   "metadata": {
    "collapsed": false
   },
   "id": "e21e4eca52810bcd"
  },
  {
   "cell_type": "code",
   "outputs": [
    {
     "name": "stderr",
     "output_type": "stream",
     "text": [
      "C:\\Users\\wartm\\AppData\\Local\\Programs\\Python\\Python310\\lib\\site-packages\\seaborn\\_oldcore.py:1498: FutureWarning: is_categorical_dtype is deprecated and will be removed in a future version. Use isinstance(dtype, CategoricalDtype) instead\n",
      "  if pd.api.types.is_categorical_dtype(vector):\n",
      "C:\\Users\\wartm\\AppData\\Local\\Programs\\Python\\Python310\\lib\\site-packages\\seaborn\\categorical.py:641: FutureWarning: The default of observed=False is deprecated and will be changed to True in a future version of pandas. Pass observed=False to retain current behavior or observed=True to adopt the future default and silence this warning.\n",
      "  grouped_vals = vals.groupby(grouper)\n"
     ]
    },
    {
     "data": {
      "text/plain": "<Axes: xlabel='object_id', ylabel='z'>"
     },
     "execution_count": 54,
     "metadata": {},
     "output_type": "execute_result"
    },
    {
     "data": {
      "text/plain": "<Figure size 700x700 with 1 Axes>",
      "image/png": "[encoded data removed]"
     },
     "metadata": {},
     "output_type": "display_data"
    }
   ],
   "source": [
    "plt.figure(figsize=(7, 7))\n",
    "sns.boxplot(y=\"z\", x=\"object_id\", data=data)"
   ],
   "metadata": {
    "collapsed": false,
    "ExecuteTime": {
     "end_time": "2024-01-14T15:33:41.853939700Z",
     "start_time": "2024-01-14T15:33:41.509432700Z"
    }
   },
   "id": "8141b2aaa1bf7d5",
   "execution_count": 54
  },
  {
   "cell_type": "code",
   "outputs": [
    {
     "name": "stderr",
     "output_type": "stream",
     "text": [
      "C:\\Users\\wartm\\AppData\\Local\\Programs\\Python\\Python310\\lib\\site-packages\\seaborn\\_oldcore.py:1498: FutureWarning: is_categorical_dtype is deprecated and will be removed in a future version. Use isinstance(dtype, CategoricalDtype) instead\n",
      "  if pd.api.types.is_categorical_dtype(vector):\n",
      "C:\\Users\\wartm\\AppData\\Local\\Programs\\Python\\Python310\\lib\\site-packages\\seaborn\\categorical.py:641: FutureWarning: The default of observed=False is deprecated and will be changed to True in a future version of pandas. Pass observed=False to retain current behavior or observed=True to adopt the future default and silence this warning.\n",
      "  grouped_vals = vals.groupby(grouper)\n"
     ]
    },
    {
     "data": {
      "text/plain": "<Figure size 640x480 with 1 Axes>",
      "image/png": "[encoded data removed]"
     },
     "metadata": {},
     "output_type": "display_data"
    }
   ],
   "source": [
    "ax = sns.countplot(x=\"object_id\", data=data)\n",
    "for label in ax.containers:\n",
    "    ax.bar_label(label)\n",
    "plt.title(\"Anzahl Frames pro Spieler\")\n",
    "plt.xlabel(\"Spieler\")\n",
    "plt.ylabel(\"Anzahl\")\n",
    "plt.show()"
   ],
   "metadata": {
    "collapsed": false,
    "ExecuteTime": {
     "end_time": "2024-01-14T15:33:30.064333900Z",
     "start_time": "2024-01-14T15:33:29.536972100Z"
    }
   },
   "id": "327d2fed6fa13fd7",
   "execution_count": 53
  },
  {
   "cell_type": "markdown",
   "source": [
    "Spieler 2 scheint 300 Frames mehr zu haben als Spieler 1.  "
   ],
   "metadata": {
    "collapsed": false
   },
   "id": "55a1dddd772a9435"
  },
  {
   "cell_type": "code",
   "outputs": [
    {
     "ename": "NameError",
     "evalue": "name 'data' is not defined",
     "output_type": "error",
     "traceback": [
      "\u001B[1;31m---------------------------------------------------------------------------\u001B[0m",
      "\u001B[1;31mNameError\u001B[0m                                 Traceback (most recent call last)",
      "Cell \u001B[1;32mIn[19], line 1\u001B[0m\n\u001B[1;32m----> 1\u001B[0m sns\u001B[38;5;241m.\u001B[39mboxplot(y\u001B[38;5;241m=\u001B[39m\u001B[38;5;124m\"\u001B[39m\u001B[38;5;124mgeschwindigkeit\u001B[39m\u001B[38;5;124m\"\u001B[39m, x\u001B[38;5;241m=\u001B[39m\u001B[38;5;124m\"\u001B[39m\u001B[38;5;124mobject_id\u001B[39m\u001B[38;5;124m\"\u001B[39m, data\u001B[38;5;241m=\u001B[39m\u001B[43mdata\u001B[49m)\n\u001B[0;32m      2\u001B[0m plt\u001B[38;5;241m.\u001B[39mtitle(\u001B[38;5;124m\"\u001B[39m\u001B[38;5;124mGeschwindigkeit pro Spieler\u001B[39m\u001B[38;5;124m\"\u001B[39m)\n\u001B[0;32m      3\u001B[0m plt\u001B[38;5;241m.\u001B[39mxlabel(\u001B[38;5;124m\"\u001B[39m\u001B[38;5;124mSpieler\u001B[39m\u001B[38;5;124m\"\u001B[39m)\n",
      "\u001B[1;31mNameError\u001B[0m: name 'data' is not defined"
     ]
    }
   ],
   "source": [
    "sns.boxplot(y=\"geschwindigkeit\", x=\"object_id\", data=data)\n",
    "plt.title(\"Geschwindigkeit pro Spieler\")\n",
    "plt.xlabel(\"Spieler\")\n",
    "plt.ylabel(\"Geschwindigkeit\")\n",
    "plt.show()"
   ],
   "metadata": {
    "collapsed": false,
    "ExecuteTime": {
     "end_time": "2024-01-14T15:32:06.888929600Z",
     "start_time": "2024-01-14T15:32:06.814060Z"
    }
   },
   "id": "d4cb21b7b2e19b69",
   "execution_count": 19
  },
  {
   "cell_type": "code",
   "outputs": [
    {
     "ename": "NameError",
     "evalue": "name 'data' is not defined",
     "output_type": "error",
     "traceback": [
      "\u001B[1;31m---------------------------------------------------------------------------\u001B[0m",
      "\u001B[1;31mNameError\u001B[0m                                 Traceback (most recent call last)",
      "Cell \u001B[1;32mIn[20], line 1\u001B[0m\n\u001B[1;32m----> 1\u001B[0m sns\u001B[38;5;241m.\u001B[39mboxplot(y\u001B[38;5;241m=\u001B[39m\u001B[38;5;124m\"\u001B[39m\u001B[38;5;124mbeschleunigung\u001B[39m\u001B[38;5;124m\"\u001B[39m, x\u001B[38;5;241m=\u001B[39m\u001B[38;5;124m\"\u001B[39m\u001B[38;5;124mobject_id\u001B[39m\u001B[38;5;124m\"\u001B[39m, data\u001B[38;5;241m=\u001B[39m\u001B[43mdata\u001B[49m)\n\u001B[0;32m      2\u001B[0m plt\u001B[38;5;241m.\u001B[39mtitle(\u001B[38;5;124m\"\u001B[39m\u001B[38;5;124mBeschleunigung pro Spieler\u001B[39m\u001B[38;5;124m\"\u001B[39m)\n\u001B[0;32m      3\u001B[0m plt\u001B[38;5;241m.\u001B[39mxlabel(\u001B[38;5;124m\"\u001B[39m\u001B[38;5;124mSpieler\u001B[39m\u001B[38;5;124m\"\u001B[39m)\n",
      "\u001B[1;31mNameError\u001B[0m: name 'data' is not defined"
     ]
    }
   ],
   "source": [
    "sns.boxplot(y=\"beschleunigung\", x=\"object_id\", data=data)\n",
    "plt.title(\"Beschleunigung pro Spieler\")\n",
    "plt.xlabel(\"Spieler\")\n",
    "plt.ylabel(\"Beschleunigung\")\n",
    "plt.show()"
   ],
   "metadata": {
    "collapsed": false,
    "ExecuteTime": {
     "start_time": "2024-01-14T15:32:06.877490100Z"
    }
   },
   "id": "c123853c1cece78a",
   "execution_count": 20
  },
  {
   "cell_type": "code",
   "outputs": [
    {
     "ename": "NameError",
     "evalue": "name 'data' is not defined",
     "output_type": "error",
     "traceback": [
      "\u001B[1;31m---------------------------------------------------------------------------\u001B[0m",
      "\u001B[1;31mNameError\u001B[0m                                 Traceback (most recent call last)",
      "Cell \u001B[1;32mIn[21], line 1\u001B[0m\n\u001B[1;32m----> 1\u001B[0m sns\u001B[38;5;241m.\u001B[39mcountplot(x\u001B[38;5;241m=\u001B[39m\u001B[38;5;124m\"\u001B[39m\u001B[38;5;124mzone\u001B[39m\u001B[38;5;124m\"\u001B[39m, hue\u001B[38;5;241m=\u001B[39m\u001B[38;5;124m\"\u001B[39m\u001B[38;5;124mobject_id\u001B[39m\u001B[38;5;124m\"\u001B[39m, data\u001B[38;5;241m=\u001B[39m\u001B[43mdata\u001B[49m)\n\u001B[0;32m      2\u001B[0m plt\u001B[38;5;241m.\u001B[39mtitle(\u001B[38;5;124m\"\u001B[39m\u001B[38;5;124mZonen pro Spieler\u001B[39m\u001B[38;5;124m\"\u001B[39m)\n\u001B[0;32m      3\u001B[0m plt\u001B[38;5;241m.\u001B[39mxlabel(\u001B[38;5;124m\"\u001B[39m\u001B[38;5;124mZone\u001B[39m\u001B[38;5;124m\"\u001B[39m)\n",
      "\u001B[1;31mNameError\u001B[0m: name 'data' is not defined"
     ]
    }
   ],
   "source": [
    "sns.countplot(x=\"zone\", hue=\"object_id\", data=data)\n",
    "plt.title(\"Zonen pro Spieler\")\n",
    "plt.xlabel(\"Zone\")\n",
    "plt.ylabel(\"Anzahl\")\n",
    "plt.show()"
   ],
   "metadata": {
    "collapsed": false,
    "ExecuteTime": {
     "end_time": "2024-01-14T15:32:06.989514800Z",
     "start_time": "2024-01-14T15:32:06.914028300Z"
    }
   },
   "id": "31e440a3524e4279",
   "execution_count": 21
  },
  {
   "cell_type": "code",
   "outputs": [
    {
     "ename": "NameError",
     "evalue": "name 'data' is not defined",
     "output_type": "error",
     "traceback": [
      "\u001B[1;31m---------------------------------------------------------------------------\u001B[0m",
      "\u001B[1;31mNameError\u001B[0m                                 Traceback (most recent call last)",
      "Cell \u001B[1;32mIn[22], line 1\u001B[0m\n\u001B[1;32m----> 1\u001B[0m sns\u001B[38;5;241m.\u001B[39mcountplot(x\u001B[38;5;241m=\u001B[39m\u001B[38;5;124m\"\u001B[39m\u001B[38;5;124mposition\u001B[39m\u001B[38;5;124m\"\u001B[39m, hue\u001B[38;5;241m=\u001B[39m\u001B[38;5;124m\"\u001B[39m\u001B[38;5;124mobject_id\u001B[39m\u001B[38;5;124m\"\u001B[39m, data\u001B[38;5;241m=\u001B[39m\u001B[43mdata\u001B[49m)\n\u001B[0;32m      2\u001B[0m plt\u001B[38;5;241m.\u001B[39mtitle(\u001B[38;5;124m\"\u001B[39m\u001B[38;5;124mPosition pro Spieler\u001B[39m\u001B[38;5;124m\"\u001B[39m)\n\u001B[0;32m      3\u001B[0m plt\u001B[38;5;241m.\u001B[39mxlabel(\u001B[38;5;124m\"\u001B[39m\u001B[38;5;124mPosition\u001B[39m\u001B[38;5;124m\"\u001B[39m)\n",
      "\u001B[1;31mNameError\u001B[0m: name 'data' is not defined"
     ]
    }
   ],
   "source": [
    "sns.countplot(x=\"position\", hue=\"object_id\", data=data)\n",
    "plt.title(\"Position pro Spieler\")\n",
    "plt.xlabel(\"Position\")\n",
    "plt.ylabel(\"Anzahl\")\n",
    "plt.show()"
   ],
   "metadata": {
    "collapsed": false,
    "ExecuteTime": {
     "start_time": "2024-01-14T15:32:06.974933200Z"
    }
   },
   "id": "f33e84915e46cb17",
   "execution_count": 22
  },
  {
   "cell_type": "code",
   "outputs": [
    {
     "ename": "NameError",
     "evalue": "name 'data' is not defined",
     "output_type": "error",
     "traceback": [
      "\u001B[1;31m---------------------------------------------------------------------------\u001B[0m",
      "\u001B[1;31mNameError\u001B[0m                                 Traceback (most recent call last)",
      "Cell \u001B[1;32mIn[23], line 1\u001B[0m\n\u001B[1;32m----> 1\u001B[0m sns\u001B[38;5;241m.\u001B[39mboxplot(y\u001B[38;5;241m=\u001B[39m\u001B[38;5;124m\"\u001B[39m\u001B[38;5;124mx\u001B[39m\u001B[38;5;124m\"\u001B[39m, x\u001B[38;5;241m=\u001B[39m\u001B[38;5;124m\"\u001B[39m\u001B[38;5;124mobject_id\u001B[39m\u001B[38;5;124m\"\u001B[39m, data\u001B[38;5;241m=\u001B[39m\u001B[43mdata\u001B[49m)\n\u001B[0;32m      2\u001B[0m plt\u001B[38;5;241m.\u001B[39mtitle(\u001B[38;5;124m\"\u001B[39m\u001B[38;5;124mX-Koordinate pro Spieler\u001B[39m\u001B[38;5;124m\"\u001B[39m)\n\u001B[0;32m      3\u001B[0m plt\u001B[38;5;241m.\u001B[39mxlabel(\u001B[38;5;124m\"\u001B[39m\u001B[38;5;124mSpieler\u001B[39m\u001B[38;5;124m\"\u001B[39m)\n",
      "\u001B[1;31mNameError\u001B[0m: name 'data' is not defined"
     ]
    }
   ],
   "source": [
    "sns.boxplot(y=\"x\", x=\"object_id\", data=data)\n",
    "plt.title(\"X-Koordinate pro Spieler\")\n",
    "plt.xlabel(\"Spieler\")\n",
    "plt.ylabel(\"X-Koordinate\")\n",
    "plt.show()"
   ],
   "metadata": {
    "collapsed": false,
    "ExecuteTime": {
     "end_time": "2024-01-14T15:32:07.099156500Z",
     "start_time": "2024-01-14T15:32:07.014623700Z"
    }
   },
   "id": "e173d150e03e7827",
   "execution_count": 23
  },
  {
   "cell_type": "code",
   "outputs": [
    {
     "ename": "NameError",
     "evalue": "name 'data' is not defined",
     "output_type": "error",
     "traceback": [
      "\u001B[1;31m---------------------------------------------------------------------------\u001B[0m",
      "\u001B[1;31mNameError\u001B[0m                                 Traceback (most recent call last)",
      "Cell \u001B[1;32mIn[24], line 1\u001B[0m\n\u001B[1;32m----> 1\u001B[0m sns\u001B[38;5;241m.\u001B[39mboxplot(y\u001B[38;5;241m=\u001B[39m\u001B[38;5;124m\"\u001B[39m\u001B[38;5;124mz\u001B[39m\u001B[38;5;124m\"\u001B[39m, x\u001B[38;5;241m=\u001B[39m\u001B[38;5;124m\"\u001B[39m\u001B[38;5;124mobject_id\u001B[39m\u001B[38;5;124m\"\u001B[39m, data\u001B[38;5;241m=\u001B[39m\u001B[43mdata\u001B[49m)\n\u001B[0;32m      2\u001B[0m plt\u001B[38;5;241m.\u001B[39mtitle(\u001B[38;5;124m\"\u001B[39m\u001B[38;5;124mY-Koordinate pro Spieler\u001B[39m\u001B[38;5;124m\"\u001B[39m)\n\u001B[0;32m      3\u001B[0m plt\u001B[38;5;241m.\u001B[39mxlabel(\u001B[38;5;124m\"\u001B[39m\u001B[38;5;124mSpieler\u001B[39m\u001B[38;5;124m\"\u001B[39m)\n",
      "\u001B[1;31mNameError\u001B[0m: name 'data' is not defined"
     ]
    }
   ],
   "source": [
    "sns.boxplot(y=\"z\", x=\"object_id\", data=data)\n",
    "plt.title(\"Y-Koordinate pro Spieler\")\n",
    "plt.xlabel(\"Spieler\")\n",
    "plt.ylabel(\"Y-Koordinate\")\n",
    "plt.show()"
   ],
   "metadata": {
    "collapsed": false,
    "ExecuteTime": {
     "start_time": "2024-01-14T15:32:07.090113400Z"
    }
   },
   "id": "8abfa77e009a1670",
   "execution_count": 24
  },
  {
   "cell_type": "code",
   "outputs": [],
   "source": [
    "sns.lineplot(x=\"frame\", y=\"geschwindigkeit\", hue=\"object_id\", data=data)\n",
    "plt.title(\"Geschwindigkeit pro Frame\")\n",
    "plt.xlabel(\"Frame\")\n",
    "plt.ylabel(\"Geschwindigkeit\")\n",
    "plt.show()"
   ],
   "metadata": {
    "collapsed": false,
    "ExecuteTime": {
     "end_time": "2024-01-14T15:32:07.185335Z",
     "start_time": "2024-01-14T15:32:07.125381600Z"
    }
   },
   "id": "c8a0ce78dd937073",
   "execution_count": null
  },
  {
   "cell_type": "markdown",
   "source": [
    "### Wie verhält sich der Gegner?"
   ],
   "metadata": {
    "collapsed": false
   },
   "id": "993d4c9e96facda2"
  },
  {
   "cell_type": "code",
   "outputs": [
    {
     "ename": "NameError",
     "evalue": "name 'data' is not defined",
     "output_type": "error",
     "traceback": [
      "\u001B[1;31m---------------------------------------------------------------------------\u001B[0m",
      "\u001B[1;31mNameError\u001B[0m                                 Traceback (most recent call last)",
      "Cell \u001B[1;32mIn[25], line 1\u001B[0m\n\u001B[1;32m----> 1\u001B[0m pos_player \u001B[38;5;241m=\u001B[39m \u001B[43mdata\u001B[49m\u001B[38;5;241m.\u001B[39mloc[data[\u001B[38;5;124m\"\u001B[39m\u001B[38;5;124mposition\u001B[39m\u001B[38;5;124m\"\u001B[39m] \u001B[38;5;241m!=\u001B[39m \u001B[38;5;124m\"\u001B[39m\u001B[38;5;124mMitte\u001B[39m\u001B[38;5;124m\"\u001B[39m]\n",
      "\u001B[1;31mNameError\u001B[0m: name 'data' is not defined"
     ]
    }
   ],
   "source": [
    "pos_player = data.loc[data[\"position\"] != \"Mitte\"]"
   ],
   "metadata": {
    "collapsed": false,
    "ExecuteTime": {
     "start_time": "2024-01-14T15:32:07.178335600Z"
    }
   },
   "id": "8b8fd24ef7a34f2a",
   "execution_count": 25
  },
  {
   "cell_type": "code",
   "outputs": [],
   "source": [
    "# Erstellen eines Streudiagramms\n",
    "sns.scatterplot(x=\"x\", y=\"z\", hue=\"object_id\", data=pos_player)\n",
    "drawTennisField()\n",
    "plt.xlabel('X-Position')\n",
    "plt.ylabel('Y-Position')\n",
    "plt.title('Position von Spieler 2, wenn Spieler 1 links steht')\n",
    "plt.grid(True)\n",
    "plt.show()"
   ],
   "metadata": {
    "collapsed": false,
    "ExecuteTime": {
     "end_time": "2024-01-14T15:32:07.282459600Z",
     "start_time": "2024-01-14T15:32:07.218986300Z"
    }
   },
   "id": "15b0a051f3a2cb46",
   "execution_count": null
  },
  {
   "cell_type": "code",
   "outputs": [
    {
     "ename": "NameError",
     "evalue": "name 'data' is not defined",
     "output_type": "error",
     "traceback": [
      "\u001B[1;31m---------------------------------------------------------------------------\u001B[0m",
      "\u001B[1;31mNameError\u001B[0m                                 Traceback (most recent call last)",
      "Cell \u001B[1;32mIn[26], line 1\u001B[0m\n\u001B[1;32m----> 1\u001B[0m \u001B[43mdata\u001B[49m\u001B[38;5;241m.\u001B[39mcolumns\n",
      "\u001B[1;31mNameError\u001B[0m: name 'data' is not defined"
     ]
    }
   ],
   "source": [
    "data.columns"
   ],
   "metadata": {
    "collapsed": false,
    "ExecuteTime": {
     "start_time": "2024-01-14T15:32:07.271561200Z"
    }
   },
   "id": "ca1edee4c1d7450e",
   "execution_count": 26
  }
 ],
 "metadata": {
  "kernelspec": {
   "display_name": "Python 3",
   "language": "python",
   "name": "python3"
  },
  "language_info": {
   "codemirror_mode": {
    "name": "ipython",
    "version": 2
   },
   "file_extension": ".py",
   "mimetype": "text/x-python",
   "name": "python",
   "nbconvert_exporter": "python",
   "pygments_lexer": "ipython2",
   "version": "2.7.6"
  }
 },
 "nbformat": 4,
 "nbformat_minor": 5
}
