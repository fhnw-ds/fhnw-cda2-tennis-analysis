{
 "cells": [
  {
   "cell_type": "code",
   "execution_count": 1,
   "id": "initial_id",
   "metadata": {
    "collapsed": true,
    "ExecuteTime": {
     "end_time": "2024-01-19T17:33:02.754313200Z",
     "start_time": "2024-01-19T17:32:59.102246600Z"
    }
   },
   "outputs": [],
   "source": [
    "import torch\n",
    "import numpy as np\n",
    "import matplotlib.pyplot as plt\n",
    "from helperClasses.tennis_ball_detection_pytorch import BallDetectionPytorch\n",
    "import pyzed.sl as sl\n",
    "import cv2\n",
    "import os\n",
    "device = torch.device(\"cuda:0\" if torch.cuda.is_available() else \"cpu\")"
   ]
  },
  {
   "cell_type": "code",
   "execution_count": 2,
   "outputs": [],
   "source": [
    "svo_path =\"C:\\\\FHNW_Programmiersachen\\\\3_Sem\\\\fhnw-cda2-tennis-analysis\\\\data\\\\HD1080_SN35520970_11-03-24.svo\""
   ],
   "metadata": {
    "collapsed": false,
    "ExecuteTime": {
     "end_time": "2024-01-19T17:33:02.767312900Z",
     "start_time": "2024-01-19T17:33:02.758171800Z"
    }
   },
   "id": "380873f023f8fd46"
  },
  {
   "cell_type": "code",
   "outputs": [],
   "source": [
    "ballDetection = BallDetectionPytorch(svo_path)"
   ],
   "metadata": {
    "collapsed": false,
    "ExecuteTime": {
     "end_time": "2024-01-19T17:33:02.864453100Z",
     "start_time": "2024-01-19T17:33:02.761231300Z"
    }
   },
   "id": "4c7cd19f937d068e",
   "execution_count": 3
  },
  {
   "cell_type": "code",
   "outputs": [
    {
     "name": "stderr",
     "output_type": "stream",
     "text": [
      "100%|██████████| 3000/3000 [00:55<00:00, 54.18it/s]\n"
     ]
    },
    {
     "data": {
      "text/plain": "tensor([[[ 73.,  99., 122.],\n         [ 73.,  99., 122.],\n         [ 73., 100., 122.],\n         ...,\n         [146., 156., 157.],\n         [145., 156., 156.],\n         [145., 157., 157.]],\n\n        [[ 72.,  99., 123.],\n         [ 72.,  99., 122.],\n         [ 70.,  98., 122.],\n         ...,\n         [145., 155., 155.],\n         [145., 155., 156.],\n         [144., 156., 156.]],\n\n        [[ 72., 100., 123.],\n         [ 72.,  99., 122.],\n         [ 71.,  98., 121.],\n         ...,\n         [143., 154., 155.],\n         [143., 154., 155.],\n         [143., 154., 155.]],\n\n        ...,\n\n        [[125., 128., 103.],\n         [124., 128., 103.],\n         [124., 127., 102.],\n         ...,\n         [156., 153., 132.],\n         [156., 152., 132.],\n         [156., 152., 132.]],\n\n        [[124., 127., 102.],\n         [123., 127., 102.],\n         [123., 126., 101.],\n         ...,\n         [157., 153., 133.],\n         [156., 153., 132.],\n         [156., 153., 132.]],\n\n        [[122., 126., 101.],\n         [122., 125., 100.],\n         [121., 125., 100.],\n         ...,\n         [157., 154., 133.],\n         [157., 153., 133.],\n         [156., 153., 133.]]], device='cuda:0')"
     },
     "execution_count": 4,
     "metadata": {},
     "output_type": "execute_result"
    }
   ],
   "source": [
    "ballDetection.calculate_background(svo_path, 'left', 100, 30)\n"
   ],
   "metadata": {
    "collapsed": false,
    "ExecuteTime": {
     "end_time": "2024-01-19T15:53:20.955887500Z",
     "start_time": "2024-01-19T15:52:23.322442300Z"
    }
   },
   "id": "7b5588f95f6ecd6",
   "execution_count": 4
  },
  {
   "cell_type": "code",
   "outputs": [],
   "source": [
    "ballDetection.save_background('left')"
   ],
   "metadata": {
    "collapsed": false,
    "ExecuteTime": {
     "end_time": "2024-01-19T15:53:21.082597900Z",
     "start_time": "2024-01-19T15:53:20.947890100Z"
    }
   },
   "id": "d3d1ff0d3fa76125",
   "execution_count": 5
  },
  {
   "cell_type": "code",
   "outputs": [
    {
     "name": "stderr",
     "output_type": "stream",
     "text": [
      "100%|██████████| 3000/3000 [00:56<00:00, 52.77it/s]\n"
     ]
    },
    {
     "data": {
      "text/plain": "tensor([[[ 74., 100., 122.],\n         [ 74., 101., 123.],\n         [ 75., 101., 123.],\n         ...,\n         [143., 155., 156.],\n         [144., 156., 156.],\n         [144., 157., 157.]],\n\n        [[ 76., 102., 124.],\n         [ 76., 103., 124.],\n         [ 77., 103., 125.],\n         ...,\n         [140., 153., 153.],\n         [141., 153., 153.],\n         [142., 153., 154.]],\n\n        [[ 75., 103., 125.],\n         [ 75., 102., 125.],\n         [ 75., 103., 126.],\n         ...,\n         [137., 150., 152.],\n         [137., 151., 153.],\n         [138., 152., 153.]],\n\n        ...,\n\n        [[125., 127., 102.],\n         [124., 126., 101.],\n         [123., 125., 101.],\n         ...,\n         [153., 152., 132.],\n         [153., 151., 132.],\n         [153., 151., 132.]],\n\n        [[124., 126., 101.],\n         [123., 126., 101.],\n         [122., 125., 100.],\n         ...,\n         [151., 150., 130.],\n         [151., 150., 130.],\n         [152., 150., 131.]],\n\n        [[123., 125., 100.],\n         [122., 124., 100.],\n         [122., 124.,  99.],\n         ...,\n         [148., 147., 127.],\n         [149., 147., 128.],\n         [150., 148., 129.]]], device='cuda:0')"
     },
     "execution_count": 4,
     "metadata": {},
     "output_type": "execute_result"
    }
   ],
   "source": [
    "ballDetection.calculate_background(svo_path, 'right', 100, 30)"
   ],
   "metadata": {
    "collapsed": false,
    "ExecuteTime": {
     "end_time": "2024-01-19T15:56:31.473793900Z",
     "start_time": "2024-01-19T15:55:30.572772100Z"
    }
   },
   "id": "dffc3b71952b1be4",
   "execution_count": 4
  },
  {
   "cell_type": "code",
   "outputs": [],
   "source": [
    "ballDetection.save_background('right')"
   ],
   "metadata": {
    "collapsed": false,
    "ExecuteTime": {
     "end_time": "2024-01-19T15:56:31.550415400Z",
     "start_time": "2024-01-19T15:56:31.462794500Z"
    }
   },
   "id": "134ab92a3c36b4fe",
   "execution_count": 5
  },
  {
   "cell_type": "code",
   "outputs": [
    {
     "name": "stderr",
     "output_type": "stream",
     "text": [
      "100%|██████████| 600/600 [00:54<00:00, 11.08it/s]\n"
     ]
    }
   ],
   "source": [
    "result_left = ballDetection.get_ball_by_frame(500, 1100, 'left', return_video=False)"
   ],
   "metadata": {
    "collapsed": false,
    "ExecuteTime": {
     "end_time": "2024-01-19T17:34:02.343092500Z",
     "start_time": "2024-01-19T17:33:02.865453100Z"
    }
   },
   "id": "c1343ddc0cc58fd0",
   "execution_count": 4
  },
  {
   "cell_type": "code",
   "outputs": [
    {
     "data": {
      "text/plain": "array([[  500.        , -1070.85375977,  3599.26782227,  3774.07983398],\n       [  501.        ,   958.83673096, -2367.07910156, -2710.36474609],\n       [  502.        ,   924.40869141, -2340.32617188, -2658.08935547],\n       ...,\n       [ 1097.        ,  1022.31451416, -2131.11181641, -2566.05297852],\n       [ 1098.        ,  1027.72924805, -2192.51513672, -2613.50244141],\n       [ 1099.        ,  1014.04864502, -2209.65771484, -2612.9831543 ]])"
     },
     "execution_count": 17,
     "metadata": {},
     "output_type": "execute_result"
    }
   ],
   "source": [
    "balldata = ballDetection.ball_positions.copy()\n",
    "balldata"
   ],
   "metadata": {
    "collapsed": false,
    "ExecuteTime": {
     "end_time": "2024-01-19T17:37:50.362568100Z",
     "start_time": "2024-01-19T17:37:50.348737700Z"
    }
   },
   "id": "bf98e417edb969b3",
   "execution_count": 17
  },
  {
   "cell_type": "code",
   "outputs": [
    {
     "data": {
      "text/plain": "      frame         x         y          z\n0     500.0  5.311961  2.444996 -15.441795\n1     501.0  7.833469 -3.401442 -14.885382\n2     502.0  7.840798 -3.374445 -14.947440\n3     503.0  7.801322 -3.171141 -15.200540\n4     504.0  8.030857 -2.674999 -15.681263\n..      ...       ...       ...        ...\n595  1095.0  7.961785 -3.155554 -14.889153\n596  1096.0  7.922075 -3.262032 -14.792848\n597  1097.0  7.964491 -3.158801 -14.952425\n598  1098.0  7.940317 -3.221391 -14.913064\n599  1099.0  7.931255 -3.239031 -14.922445\n\n[600 rows x 4 columns]",
      "text/html": "<div>\n<style scoped>\n    .dataframe tbody tr th:only-of-type {\n        vertical-align: middle;\n    }\n\n    .dataframe tbody tr th {\n        vertical-align: top;\n    }\n\n    .dataframe thead th {\n        text-align: right;\n    }\n</style>\n<table border=\"1\" class=\"dataframe\">\n  <thead>\n    <tr style=\"text-align: right;\">\n      <th></th>\n      <th>frame</th>\n      <th>x</th>\n      <th>y</th>\n      <th>z</th>\n    </tr>\n  </thead>\n  <tbody>\n    <tr>\n      <th>0</th>\n      <td>500.0</td>\n      <td>5.311961</td>\n      <td>2.444996</td>\n      <td>-15.441795</td>\n    </tr>\n    <tr>\n      <th>1</th>\n      <td>501.0</td>\n      <td>7.833469</td>\n      <td>-3.401442</td>\n      <td>-14.885382</td>\n    </tr>\n    <tr>\n      <th>2</th>\n      <td>502.0</td>\n      <td>7.840798</td>\n      <td>-3.374445</td>\n      <td>-14.947440</td>\n    </tr>\n    <tr>\n      <th>3</th>\n      <td>503.0</td>\n      <td>7.801322</td>\n      <td>-3.171141</td>\n      <td>-15.200540</td>\n    </tr>\n    <tr>\n      <th>4</th>\n      <td>504.0</td>\n      <td>8.030857</td>\n      <td>-2.674999</td>\n      <td>-15.681263</td>\n    </tr>\n    <tr>\n      <th>...</th>\n      <td>...</td>\n      <td>...</td>\n      <td>...</td>\n      <td>...</td>\n    </tr>\n    <tr>\n      <th>595</th>\n      <td>1095.0</td>\n      <td>7.961785</td>\n      <td>-3.155554</td>\n      <td>-14.889153</td>\n    </tr>\n    <tr>\n      <th>596</th>\n      <td>1096.0</td>\n      <td>7.922075</td>\n      <td>-3.262032</td>\n      <td>-14.792848</td>\n    </tr>\n    <tr>\n      <th>597</th>\n      <td>1097.0</td>\n      <td>7.964491</td>\n      <td>-3.158801</td>\n      <td>-14.952425</td>\n    </tr>\n    <tr>\n      <th>598</th>\n      <td>1098.0</td>\n      <td>7.940317</td>\n      <td>-3.221391</td>\n      <td>-14.913064</td>\n    </tr>\n    <tr>\n      <th>599</th>\n      <td>1099.0</td>\n      <td>7.931255</td>\n      <td>-3.239031</td>\n      <td>-14.922445</td>\n    </tr>\n  </tbody>\n</table>\n<p>600 rows × 4 columns</p>\n</div>"
     },
     "execution_count": 18,
     "metadata": {},
     "output_type": "execute_result"
    }
   ],
   "source": [
    "from helperClasses.BaseTransformation import BaseTransformation\n",
    "import pandas as pd\n",
    "\n",
    "ball_points = balldata.copy()\n",
    "ball_points[:,1]= ball_points[:,1] /1000\n",
    "ball_points[:,2]= ball_points[:,2] /1000\n",
    "ball_points[:,3]= np.abs(ball_points[:,3] /1000)\n",
    "\n",
    "calibration_points = np.array([\n",
    "    [0.5037602186203003, -1.451180100440979, -14.78443717956543], # service line center\n",
    "    [3.287168502807617, -1.302998423576355, -11.139520645141602], # service x singles sideline\n",
    "    [0.4447464346885681, -1.4366605281829834, -7.802434921264648] # baseline x singles sideline\n",
    "])\n",
    "\n",
    "baseTransformation = BaseTransformation(calibration_points)\n",
    "\n",
    "data = pd.DataFrame(ball_points, columns=['frame','x', 'y', 'z'])\n",
    "transformed_data = baseTransformation.transformData(data , [-2.5, 0, -18.28])\n",
    "\n",
    "transformed_data"
   ],
   "metadata": {
    "collapsed": false,
    "ExecuteTime": {
     "end_time": "2024-01-19T17:37:52.090543400Z",
     "start_time": "2024-01-19T17:37:52.062119100Z"
    }
   },
   "id": "479e85762cfe5ff0",
   "execution_count": 18
  },
  {
   "cell_type": "code",
   "outputs": [],
   "source": [
    "def drawTennisField():\n",
    "    plt.plot([4.11, 4.11], [-11.89, 11.89], 'k', lw=2) # Single sideline rechts\n",
    "    plt.plot([5.48, 5.48], [-11.89, 11.89], 'k', lw=2) # Double sideline rechts\n",
    "    plt.plot([-4.11, -4.11], [-11.89, 11.89], 'k', lw=2) # Single sideline links\n",
    "    plt.plot([-5.48, -5.48], [-11.89, 11.89], 'k', lw=2) # Double sideline links\n",
    "    plt.plot([0, 0], [-6.41, 6.39], 'k', lw=2) # Center Service Line\n",
    "    plt.plot([-5.48, 5.48], [0, 0], 'k', lw=2) # Net\n",
    "    plt.plot([-5.48, 5.48], [11.89, 11.89], 'k', lw=2) # Baseline oben\n",
    "    plt.plot([-5.48, 5.48], [-11.89, -11.89], 'k', lw=2) # Baseline unten\n",
    "    plt.plot([-4.11, 4.11], [-6.40, -6.40], 'k', lw=2) # Service Line unten\n",
    "    plt.plot([-4.11, 4.11], [6.40, 6.40], 'k', lw=2) # Service Line oben"
   ],
   "metadata": {
    "collapsed": false,
    "ExecuteTime": {
     "end_time": "2024-01-19T17:37:53.501183900Z",
     "start_time": "2024-01-19T17:37:53.491043500Z"
    }
   },
   "id": "3e672eb5def161a1",
   "execution_count": 19
  },
  {
   "cell_type": "code",
   "outputs": [
    {
     "data": {
      "text/plain": "<Figure size 640x480 with 1 Axes>",
      "image/png": "[encoded data removed]"
     },
     "metadata": {},
     "output_type": "display_data"
    }
   ],
   "source": [
    "drawTennisField()\n",
    "plt.scatter(transformed_data['x'], transformed_data['z'])\n",
    "plt.xlim(-15, 15)\n",
    "plt.ylim(-30,20)\n",
    "plt.show()"
   ],
   "metadata": {
    "collapsed": false,
    "ExecuteTime": {
     "end_time": "2024-01-19T17:37:54.089841600Z",
     "start_time": "2024-01-19T17:37:54.014289700Z"
    }
   },
   "id": "70f6d9cb8c34e089",
   "execution_count": 20
  },
  {
   "cell_type": "markdown",
   "source": [
    "\n",
    "\n",
    "\n",
    "\n",
    "\n",
    "\n",
    "\n",
    "\n",
    "\n"
   ],
   "metadata": {
    "collapsed": false
   },
   "id": "beed946a137978a6"
  },
  {
   "cell_type": "code",
   "outputs": [
    {
     "ename": "error",
     "evalue": "OpenCV(4.7.0) D:\\a\\opencv-python\\opencv-python\\opencv\\modules\\highgui\\src\\window.cpp:971: error: (-215:Assertion failed) size.width>0 && size.height>0 in function 'cv::imshow'\n",
     "output_type": "error",
     "traceback": [
      "\u001B[1;31m---------------------------------------------------------------------------\u001B[0m",
      "\u001B[1;31merror\u001B[0m                                     Traceback (most recent call last)",
      "Cell \u001B[1;32mIn[5], line 23\u001B[0m\n\u001B[0;32m     19\u001B[0m zed\u001B[38;5;241m.\u001B[39mretrieve_measure(cloud, sl\u001B[38;5;241m.\u001B[39mMEASURE\u001B[38;5;241m.\u001B[39mXYZRGBA)\n\u001B[0;32m     21\u001B[0m point_cloud \u001B[38;5;241m=\u001B[39m cloud\u001B[38;5;241m.\u001B[39mget_data()\n\u001B[1;32m---> 23\u001B[0m \u001B[43mcv2\u001B[49m\u001B[38;5;241;43m.\u001B[39;49m\u001B[43mimshow\u001B[49m\u001B[43m(\u001B[49m\u001B[38;5;124;43m\"\u001B[39;49m\u001B[38;5;124;43mZED\u001B[39;49m\u001B[38;5;124;43m\"\u001B[39;49m\u001B[43m,\u001B[49m\u001B[43m \u001B[49m\u001B[43mpoint_cloud\u001B[49m\u001B[43m)\u001B[49m\n",
      "\u001B[1;31merror\u001B[0m: OpenCV(4.7.0) D:\\a\\opencv-python\\opencv-python\\opencv\\modules\\highgui\\src\\window.cpp:971: error: (-215:Assertion failed) size.width>0 && size.height>0 in function 'cv::imshow'\n"
     ]
    }
   ],
   "source": [
    "zed = sl.Camera()\n",
    "\n",
    "init_params = sl.InitParameters()\n",
    "init_params.set_from_svo_file(svo_path)\n",
    "init_params.depth_mode = sl.DEPTH_MODE.ULTRA\n",
    "init_params.coordinate_units = sl.UNIT.METER\n",
    "init_params.depth_maximum_distance = 40\n",
    "init_params.depth_minimum_distance = 1\n",
    "init_params.sdk_verbose = True\n",
    "\n",
    "zed.open(init_params)\n",
    "runtime_parameters = sl.RuntimeParameters()\n",
    "\n",
    "cloud = sl.Mat()\n",
    "\n",
    "zed.grab(runtime_parameters)\n",
    "zed.set_svo_position(530)\n",
    "\n",
    "zed.retrieve_measure(cloud, sl.MEASURE.XYZRGBA)\n",
    "\n",
    "point_cloud = cloud.get_data()\n",
    "\n",
    "cv2.imshow(\"ZED\", point_cloud)"
   ],
   "metadata": {
    "collapsed": false,
    "ExecuteTime": {
     "end_time": "2024-01-19T15:45:06.506485300Z",
     "start_time": "2024-01-19T15:45:03.998070600Z"
    }
   },
   "id": "a55353bf0b00e5b",
   "execution_count": 5
  },
  {
   "cell_type": "code",
   "outputs": [
    {
     "data": {
      "text/plain": "[array([0., 0., 0., 0.]),\n array([0., 0., 0., 0.]),\n array([0., 0., 0., 0.]),\n array([0., 0., 0., 0.]),\n array([0., 0., 0., 0.]),\n array([0., 0., 0., 0.]),\n array([0., 0., 0., 0.]),\n array([0., 0., 0., 0.]),\n array([0., 0., 0., 0.]),\n array([0., 0., 0., 0.]),\n array([0., 0., 0., 0.]),\n array([0., 0., 0., 0.]),\n array([0., 0., 0., 0.]),\n array([0., 0., 0., 0.]),\n array([0., 0., 0., 0.]),\n array([0., 0., 0., 0.]),\n array([0., 0., 0., 0.]),\n array([0., 0., 0., 0.]),\n array([0., 0., 0., 0.]),\n array([0., 0., 0., 0.]),\n array([0., 0., 0., 0.]),\n array([0., 0., 0., 0.]),\n array([0., 0., 0., 0.]),\n array([0., 0., 0., 0.]),\n array([0., 0., 0., 0.]),\n array([0., 0., 0., 0.]),\n array([0., 0., 0., 0.]),\n array([0., 0., 0., 0.]),\n array([0., 0., 0., 0.]),\n array([0., 0., 0., 0.]),\n array([0., 0., 0., 0.]),\n array([0., 0., 0., 0.]),\n array([0., 0., 0., 0.]),\n array([0., 0., 0., 0.]),\n array([0., 0., 0., 0.]),\n array([0., 0., 0., 0.]),\n array([0., 0., 0., 0.]),\n array([0., 0., 0., 0.]),\n array([0., 0., 0., 0.]),\n array([0., 0., 0., 0.]),\n array([0., 0., 0., 0.]),\n array([0., 0., 0., 0.]),\n array([0., 0., 0., 0.]),\n array([0., 0., 0., 0.]),\n array([0., 0., 0., 0.]),\n array([0., 0., 0., 0.]),\n array([0., 0., 0., 0.]),\n array([0., 0., 0., 0.]),\n array([0., 0., 0., 0.]),\n array([0., 0., 0., 0.]),\n array([0., 0., 0., 0.]),\n array([0., 0., 0., 0.]),\n array([0., 0., 0., 0.]),\n array([0., 0., 0., 0.]),\n array([0., 0., 0., 0.]),\n array([0., 0., 0., 0.]),\n array([0., 0., 0., 0.]),\n array([0., 0., 0., 0.]),\n array([0., 0., 0., 0.]),\n array([0., 0., 0., 0.]),\n array([0., 0., 0., 0.]),\n array([0., 0., 0., 0.]),\n array([0., 0., 0., 0.]),\n array([0., 0., 0., 0.]),\n array([0., 0., 0., 0.]),\n array([0., 0., 0., 0.]),\n array([0., 0., 0., 0.]),\n array([0., 0., 0., 0.]),\n array([0., 0., 0., 0.]),\n array([0., 0., 0., 0.]),\n array([0., 0., 0., 0.]),\n array([0., 0., 0., 0.]),\n array([0., 0., 0., 0.]),\n array([0., 0., 0., 0.]),\n array([0., 0., 0., 0.]),\n array([0., 0., 0., 0.]),\n array([0., 0., 0., 0.]),\n array([0., 0., 0., 0.]),\n array([0., 0., 0., 0.]),\n array([0., 0., 0., 0.]),\n array([0., 0., 0., 0.]),\n array([0., 0., 0., 0.]),\n array([0., 0., 0., 0.]),\n array([0., 0., 0., 0.]),\n array([0., 0., 0., 0.]),\n array([0., 0., 0., 0.]),\n array([0., 0., 0., 0.]),\n array([0., 0., 0., 0.]),\n array([0., 0., 0., 0.]),\n array([0., 0., 0., 0.]),\n array([0., 0., 0., 0.]),\n array([0., 0., 0., 0.]),\n array([0., 0., 0., 0.]),\n array([0., 0., 0., 0.]),\n array([0., 0., 0., 0.]),\n array([0., 0., 0., 0.]),\n array([0., 0., 0., 0.]),\n array([0., 0., 0., 0.]),\n array([0., 0., 0., 0.]),\n array([0., 0., 0., 0.])]"
     },
     "execution_count": 5,
     "metadata": {},
     "output_type": "execute_result"
    }
   ],
   "source": [
    "ballDetection.ball_positions"
   ],
   "metadata": {
    "collapsed": false,
    "ExecuteTime": {
     "end_time": "2024-01-07T10:45:03.364659900Z",
     "start_time": "2024-01-07T10:45:03.354634200Z"
    }
   },
   "id": "b101e624a7d4ec2e",
   "execution_count": 5
  },
  {
   "cell_type": "code",
   "outputs": [],
   "source": [
    "import pandas as pd\n",
    "ballposition_df = pd.DataFrame(ballDetection.ball_positions, columns=['frame','x', 'y', 'z'])"
   ],
   "metadata": {
    "collapsed": false,
    "ExecuteTime": {
     "end_time": "2024-01-07T10:00:54.717727500Z",
     "start_time": "2024-01-07T10:00:54.711749600Z"
    }
   },
   "id": "a8bbffddfef1c295",
   "execution_count": 7
  },
  {
   "cell_type": "code",
   "outputs": [
    {
     "data": {
      "text/plain": "<Figure size 640x480 with 1 Axes>",
      "image/png": "[encoded data removed]"
     },
     "metadata": {},
     "output_type": "display_data"
    }
   ],
   "source": [
    "plt.plot(ballposition_df['frame'], ballposition_df['z'])\n",
    "plt.show()\n"
   ],
   "metadata": {
    "collapsed": false,
    "ExecuteTime": {
     "end_time": "2024-01-07T10:02:03.817782600Z",
     "start_time": "2024-01-07T10:02:03.649001600Z"
    }
   },
   "id": "52e1a5a966e98953",
   "execution_count": 8
  },
  {
   "cell_type": "code",
   "outputs": [
    {
     "data": {
      "text/plain": "     frame           x            y           z\n0      500  432.058140  1801.759779  411.619833\n1      501  368.697994  1602.543430  366.403090\n2      502  373.372129  1610.769694  371.294706\n3      503  424.434825  1649.224339  404.486770\n4      504  409.597556  1679.555025  397.241526\n..     ...         ...          ...         ...\n295    795  326.592732  1505.454082  333.442070\n296    796  332.177531  1520.739779  335.161104\n297    797  339.300664  1542.101943  339.411122\n298    798  340.497788  1549.158724  343.922730\n299    799  349.167541  1562.589830  346.694053\n\n[300 rows x 4 columns]",
      "text/html": "<div>\n<style scoped>\n    .dataframe tbody tr th:only-of-type {\n        vertical-align: middle;\n    }\n\n    .dataframe tbody tr th {\n        vertical-align: top;\n    }\n\n    .dataframe thead th {\n        text-align: right;\n    }\n</style>\n<table border=\"1\" class=\"dataframe\">\n  <thead>\n    <tr style=\"text-align: right;\">\n      <th></th>\n      <th>frame</th>\n      <th>x</th>\n      <th>y</th>\n      <th>z</th>\n    </tr>\n  </thead>\n  <tbody>\n    <tr>\n      <th>0</th>\n      <td>500</td>\n      <td>432.058140</td>\n      <td>1801.759779</td>\n      <td>411.619833</td>\n    </tr>\n    <tr>\n      <th>1</th>\n      <td>501</td>\n      <td>368.697994</td>\n      <td>1602.543430</td>\n      <td>366.403090</td>\n    </tr>\n    <tr>\n      <th>2</th>\n      <td>502</td>\n      <td>373.372129</td>\n      <td>1610.769694</td>\n      <td>371.294706</td>\n    </tr>\n    <tr>\n      <th>3</th>\n      <td>503</td>\n      <td>424.434825</td>\n      <td>1649.224339</td>\n      <td>404.486770</td>\n    </tr>\n    <tr>\n      <th>4</th>\n      <td>504</td>\n      <td>409.597556</td>\n      <td>1679.555025</td>\n      <td>397.241526</td>\n    </tr>\n    <tr>\n      <th>...</th>\n      <td>...</td>\n      <td>...</td>\n      <td>...</td>\n      <td>...</td>\n    </tr>\n    <tr>\n      <th>295</th>\n      <td>795</td>\n      <td>326.592732</td>\n      <td>1505.454082</td>\n      <td>333.442070</td>\n    </tr>\n    <tr>\n      <th>296</th>\n      <td>796</td>\n      <td>332.177531</td>\n      <td>1520.739779</td>\n      <td>335.161104</td>\n    </tr>\n    <tr>\n      <th>297</th>\n      <td>797</td>\n      <td>339.300664</td>\n      <td>1542.101943</td>\n      <td>339.411122</td>\n    </tr>\n    <tr>\n      <th>298</th>\n      <td>798</td>\n      <td>340.497788</td>\n      <td>1549.158724</td>\n      <td>343.922730</td>\n    </tr>\n    <tr>\n      <th>299</th>\n      <td>799</td>\n      <td>349.167541</td>\n      <td>1562.589830</td>\n      <td>346.694053</td>\n    </tr>\n  </tbody>\n</table>\n<p>300 rows × 4 columns</p>\n</div>"
     },
     "execution_count": 9,
     "metadata": {},
     "output_type": "execute_result"
    }
   ],
   "source": [
    "from helperClasses.BaseTransformation import BaseTransformation\n",
    "\n",
    "\n",
    "\n",
    "calibration_points = np.array([\n",
    "    [0.404, -1.434, -13.462], # service line center\n",
    "    [3.263, -1.300, -11.118], # service x singles sideline\n",
    "    [0.446, -1.444, -7.882] # baseline x singles sideline\n",
    "])\n",
    "baseTransformation = BaseTransformation(calibration_points)\n",
    "transformed_data = baseTransformation.transformData(ballposition_df, [-1.5, 0, -18.28])\n",
    "\n",
    "transformed_data"
   ],
   "metadata": {
    "collapsed": false,
    "ExecuteTime": {
     "end_time": "2024-01-07T10:08:12.366865900Z",
     "start_time": "2024-01-07T10:08:12.324139600Z"
    }
   },
   "id": "ec66882afdeba62b",
   "execution_count": 9
  },
  {
   "cell_type": "code",
   "outputs": [],
   "source": [
    "#Tensor to numpy\n",
    "result_left = result_left.cpu().numpy()"
   ],
   "metadata": {
    "collapsed": false
   },
   "id": "134eb8976bce0de5",
   "execution_count": null
  },
  {
   "cell_type": "code",
   "outputs": [],
   "source": [
    "result_left[60]"
   ],
   "metadata": {
    "collapsed": false
   },
   "id": "ea067e9b7be5483c",
   "execution_count": null
  },
  {
   "cell_type": "code",
   "outputs": [],
   "source": [
    "plt.hist2d(numpyresult[:,1], numpyresult[:,0], bins=25)\n",
    "plt.xlim(100, 1820)\n",
    "plt.ylim(100, 980)\n",
    "plt.colorbar()\n",
    "plt.show()"
   ],
   "metadata": {
    "collapsed": false
   },
   "id": "ce90a7f47ac62739",
   "execution_count": null
  },
  {
   "cell_type": "markdown",
   "source": [
    "## Profiling"
   ],
   "metadata": {
    "collapsed": false
   },
   "id": "17ececd0ebcebb2d"
  },
  {
   "cell_type": "code",
   "outputs": [],
   "source": [
    "%load_ext snakeviz"
   ],
   "metadata": {
    "collapsed": false,
    "ExecuteTime": {
     "end_time": "2024-01-06T17:31:53.401377700Z",
     "start_time": "2024-01-06T17:31:53.381035800Z"
    }
   },
   "id": "22a2f427559eb877",
   "execution_count": 4
  },
  {
   "cell_type": "code",
   "outputs": [
    {
     "name": "stderr",
     "output_type": "stream",
     "text": [
      "100%|██████████| 3000/3000 [00:00<00:00, 428237.82it/s]\n"
     ]
    },
    {
     "name": "stdout",
     "output_type": "stream",
     "text": [
      " \n",
      "*** Profile stats marshalled to file 'C:\\\\Users\\\\denis\\\\AppData\\\\Local\\\\Temp\\\\tmposoolx4m'.\n",
      "Embedding SnakeViz in this document...\n",
      "<function display at 0x0000027115DAAF20>\n"
     ]
    },
    {
     "data": {
      "text/plain": "<IPython.core.display.HTML object>",
      "text/html": "\n<iframe id='snakeviz-7f552d96-acb9-11ee-a3e6-6ca100562018' frameborder=0 seamless width='100%' height='1000'></iframe>\n<script>document.getElementById(\"snakeviz-7f552d96-acb9-11ee-a3e6-6ca100562018\").setAttribute(\"src\", \"http://\" + document.location.hostname + \":8080/snakeviz/C%3A%5CUsers%5Cdenis%5CAppData%5CLocal%5CTemp%5Ctmposoolx4m\")</script>\n"
     },
     "metadata": {},
     "output_type": "display_data"
    }
   ],
   "source": [
    "#svo_path = '../../data/HD1080_SN35520970_11-03-24.svo'\n",
    "#ballDetection = BallDetectionPytorch(svo_path)\n",
    "\n",
    "#%snakeviz ballDetection.get_ball_by_frame(500, 1100, 'left', True)\n",
    "%snakeviz ballDetection.calculate_background(svo_path, 'right', 100, 30)"
   ],
   "metadata": {
    "collapsed": false,
    "ExecuteTime": {
     "end_time": "2024-01-06T17:32:03.037955100Z",
     "start_time": "2024-01-06T17:31:54.304668700Z"
    }
   },
   "id": "a2885f82a08900d4",
   "execution_count": 5
  },
  {
   "cell_type": "markdown",
   "source": [
    "## Versuch Ballerkennung Links"
   ],
   "metadata": {
    "collapsed": false
   },
   "id": "fa89e4c4608995b5"
  },
  {
   "cell_type": "code",
   "outputs": [
    {
     "name": "stderr",
     "output_type": "stream",
     "text": [
      "100%|██████████| 3000/3000 [00:54<00:00, 55.27it/s]\n"
     ]
    },
    {
     "data": {
      "text/plain": "tensor([[[ 74., 100., 122.],\n         [ 74., 101., 123.],\n         [ 75., 101., 123.],\n         ...,\n         [143., 155., 156.],\n         [144., 156., 156.],\n         [144., 157., 157.]],\n\n        [[ 76., 102., 124.],\n         [ 76., 103., 124.],\n         [ 77., 103., 125.],\n         ...,\n         [140., 153., 153.],\n         [141., 153., 153.],\n         [142., 153., 154.]],\n\n        [[ 75., 103., 125.],\n         [ 75., 102., 125.],\n         [ 75., 103., 126.],\n         ...,\n         [137., 150., 152.],\n         [137., 151., 153.],\n         [138., 152., 153.]],\n\n        ...,\n\n        [[125., 127., 102.],\n         [124., 126., 101.],\n         [123., 125., 101.],\n         ...,\n         [153., 152., 132.],\n         [153., 151., 132.],\n         [153., 151., 132.]],\n\n        [[124., 126., 101.],\n         [123., 126., 101.],\n         [122., 125., 100.],\n         ...,\n         [151., 150., 130.],\n         [151., 150., 130.],\n         [152., 150., 131.]],\n\n        [[123., 125., 100.],\n         [122., 124., 100.],\n         [122., 124.,  99.],\n         ...,\n         [148., 147., 127.],\n         [149., 147., 128.],\n         [150., 148., 129.]]], device='cuda:0')"
     },
     "execution_count": 3,
     "metadata": {},
     "output_type": "execute_result"
    }
   ],
   "source": [
    "ballDetection.calculate_background(svo_path, 'right', 100, 30)"
   ],
   "metadata": {
    "collapsed": false,
    "ExecuteTime": {
     "end_time": "2024-01-06T17:33:49.745138900Z",
     "start_time": "2024-01-06T17:32:51.397682400Z"
    }
   },
   "id": "70ecc80c50bee8c6",
   "execution_count": 3
  },
  {
   "cell_type": "code",
   "outputs": [],
   "source": [
    "ballDetection.save_background('right')"
   ],
   "metadata": {
    "collapsed": false,
    "ExecuteTime": {
     "end_time": "2024-01-06T17:34:35.448874900Z",
     "start_time": "2024-01-06T17:34:35.379958100Z"
    }
   },
   "id": "fecb85c3ffac1e8",
   "execution_count": 4
  },
  {
   "cell_type": "code",
   "outputs": [
    {
     "data": {
      "text/plain": "tensor([[[ 74., 100., 122.],\n         [ 74., 101., 123.],\n         [ 75., 101., 123.],\n         ...,\n         [143., 155., 156.],\n         [144., 156., 156.],\n         [144., 157., 157.]],\n\n        [[ 76., 102., 124.],\n         [ 76., 103., 124.],\n         [ 77., 103., 125.],\n         ...,\n         [140., 153., 153.],\n         [141., 153., 153.],\n         [142., 153., 154.]],\n\n        [[ 75., 103., 125.],\n         [ 75., 102., 125.],\n         [ 75., 103., 126.],\n         ...,\n         [137., 150., 152.],\n         [137., 151., 153.],\n         [138., 152., 153.]],\n\n        ...,\n\n        [[125., 127., 102.],\n         [124., 126., 101.],\n         [123., 125., 101.],\n         ...,\n         [153., 152., 132.],\n         [153., 151., 132.],\n         [153., 151., 132.]],\n\n        [[124., 126., 101.],\n         [123., 126., 101.],\n         [122., 125., 100.],\n         ...,\n         [151., 150., 130.],\n         [151., 150., 130.],\n         [152., 150., 131.]],\n\n        [[123., 125., 100.],\n         [122., 124., 100.],\n         [122., 124.,  99.],\n         ...,\n         [148., 147., 127.],\n         [149., 147., 128.],\n         [150., 148., 129.]]], device='cuda:0')"
     },
     "execution_count": 3,
     "metadata": {},
     "output_type": "execute_result"
    }
   ],
   "source": [
    "ballDetection.load_background('right')"
   ],
   "metadata": {
    "collapsed": false,
    "ExecuteTime": {
     "end_time": "2024-01-06T17:35:01.552954500Z",
     "start_time": "2024-01-06T17:35:01.340180300Z"
    }
   },
   "id": "cbd0a79cb35553ba",
   "execution_count": 3
  },
  {
   "cell_type": "code",
   "outputs": [
    {
     "name": "stderr",
     "output_type": "stream",
     "text": [
      "100%|██████████| 500/500 [00:48<00:00, 10.23it/s]\n",
      "100%|██████████| 500/500 [00:28<00:00, 17.49it/s]\n"
     ]
    }
   ],
   "source": [
    "result_right = ballDetection.get_ball_by_frame(500, 1000, 'right', True)"
   ],
   "metadata": {
    "collapsed": false,
    "ExecuteTime": {
     "end_time": "2024-01-06T17:36:27.074696200Z",
     "start_time": "2024-01-06T17:35:04.993274100Z"
    }
   },
   "id": "16148386a6b7b83a",
   "execution_count": 4
  },
  {
   "cell_type": "code",
   "outputs": [],
   "source": [
    "result_right = result_right.cpu().numpy()"
   ],
   "metadata": {
    "collapsed": false
   },
   "id": "3203aead863f28e4",
   "execution_count": null
  },
  {
   "cell_type": "code",
   "outputs": [],
   "source": [
    "result_right[620]"
   ],
   "metadata": {
    "collapsed": false
   },
   "id": "36c59b0b6905fb7f",
   "execution_count": null
  },
  {
   "cell_type": "code",
   "outputs": [],
   "source": [
    "plt.imshow(ballDetection.median_background_r.cpu().numpy().astype(np.uint8))\n",
    "plt.show()"
   ],
   "metadata": {
    "collapsed": false
   },
   "id": "748603d363fa7d9a",
   "execution_count": null
  },
  {
   "cell_type": "code",
   "outputs": [],
   "source": [
    "left_test = [642, 1798]\n",
    "right_test = [654, 1587]"
   ],
   "metadata": {
    "collapsed": false,
    "ExecuteTime": {
     "end_time": "2024-01-06T10:07:06.212217300Z",
     "start_time": "2024-01-06T10:07:06.208167400Z"
    }
   },
   "id": "7168f5bd564d97e8",
   "execution_count": 3
  },
  {
   "cell_type": "code",
   "outputs": [
    {
     "name": "stdout",
     "output_type": "stream",
     "text": [
      "[[1.90902917e+03 0.00000000e+00 9.68596313e+02 0.00000000e+00]\n",
      " [0.00000000e+00 1.90902917e+03 5.59385315e+02 0.00000000e+00]\n",
      " [0.00000000e+00 0.00000000e+00 1.00000000e+00 0.00000000e+00]]\n",
      "[[0. 0. 0. 0.]\n",
      " [0. 0. 0. 0.]\n",
      " [0. 0. 0. 0.]]\n",
      "[[ 642]\n",
      " [1798]]\n",
      "[[ 654]\n",
      " [1587]]\n"
     ]
    },
    {
     "name": "stderr",
     "output_type": "stream",
     "text": [
      "C:\\FHNW_Programmiersachen\\3_Sem\\fhnw-cda2-tennis-analysis\\helperClasses\\tennis_ball_detection_pytorch.py:475: RuntimeWarning: invalid value encountered in divide\n",
      "  point_3d = point_3d_hom[:3] / point_3d_hom[3]\n"
     ]
    },
    {
     "data": {
      "text/plain": "array([nan, nan, nan])"
     },
     "execution_count": 4,
     "metadata": {},
     "output_type": "execute_result"
    }
   ],
   "source": [
    "ballDetection.triangulation(left_test, right_test)"
   ],
   "metadata": {
    "collapsed": false,
    "ExecuteTime": {
     "end_time": "2024-01-06T10:07:08.144595600Z",
     "start_time": "2024-01-06T10:07:06.406090200Z"
    }
   },
   "id": "fb06f5008da87d1c",
   "execution_count": 4
  },
  {
   "cell_type": "code",
   "outputs": [
    {
     "data": {
      "text/plain": "['LEFT_CAM_2K',\n 'RIGHT_CAM_2K',\n 'LEFT_CAM_FHD',\n 'RIGHT_CAM_FHD',\n 'LEFT_CAM_HD',\n 'RIGHT_CAM_HD',\n 'LEFT_CAM_VGA',\n 'RIGHT_CAM_VGA',\n 'LEFT_DISTO',\n 'RIGHT_DISTO',\n 'STEREO',\n 'MISC']"
     },
     "execution_count": 6,
     "metadata": {},
     "output_type": "execute_result"
    }
   ],
   "source": [
    "import configparser\n",
    "\n",
    "config = configparser.ConfigParser()\n",
    "config.read('../../SN35071549.conf')\n",
    "config.sections()"
   ],
   "metadata": {
    "collapsed": false,
    "ExecuteTime": {
     "end_time": "2024-01-19T15:08:14.476467800Z",
     "start_time": "2024-01-19T15:08:14.468312500Z"
    }
   },
   "id": "201c60416ce6f9d4",
   "execution_count": 6
  },
  {
   "cell_type": "code",
   "outputs": [],
   "source": [],
   "metadata": {
    "collapsed": false
   },
   "id": "8ae7319c9ec3fb11"
  }
 ],
 "metadata": {
  "kernelspec": {
   "display_name": "Python 3",
   "language": "python",
   "name": "python3"
  },
  "language_info": {
   "codemirror_mode": {
    "name": "ipython",
    "version": 2
   },
   "file_extension": ".py",
   "mimetype": "text/x-python",
   "name": "python",
   "nbconvert_exporter": "python",
   "pygments_lexer": "ipython2",
   "version": "2.7.6"
  }
 },
 "nbformat": 4,
 "nbformat_minor": 5
}
