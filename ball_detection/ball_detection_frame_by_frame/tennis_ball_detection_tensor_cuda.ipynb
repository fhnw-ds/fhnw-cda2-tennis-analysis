{
 "cells": [
  {
   "cell_type": "code",
   "execution_count": 1,
   "id": "initial_id",
   "metadata": {
    "collapsed": true,
    "ExecuteTime": {
     "end_time": "2024-01-05T14:13:21.572690600Z",
     "start_time": "2024-01-05T14:13:16.998325600Z"
    }
   },
   "outputs": [],
   "source": [
    "import torch\n",
    "import numpy as np\n",
    "import matplotlib.pyplot as plt\n",
    "from helperClasses.tennis_ball_detection_pytorch import BallDetectionPytorch\n",
    "import cProfile\n",
    "import snakeviz as sv\n",
    "device = torch.device(\"cuda:0\" if torch.cuda.is_available() else \"cpu\")"
   ]
  },
  {
   "cell_type": "code",
   "execution_count": 2,
   "outputs": [],
   "source": [
    "svo_path = '../../data/HD1080_SN35520970_11-03-24.svo'\n",
    "ballDetection = BallDetectionPytorch(svo_path)"
   ],
   "metadata": {
    "collapsed": false,
    "ExecuteTime": {
     "end_time": "2024-01-05T14:13:21.584916Z",
     "start_time": "2024-01-05T14:13:21.574690600Z"
    }
   },
   "id": "4c7cd19f937d068e"
  },
  {
   "cell_type": "code",
   "outputs": [
    {
     "name": "stderr",
     "output_type": "stream",
     "text": [
      "100%|██████████| 3000/3000 [00:55<00:00, 54.37it/s]\n"
     ]
    }
   ],
   "source": [
    "ballDetection.calculate_background(svo_path, 100, 30)\n",
    "ballDetection.save_background()"
   ],
   "metadata": {
    "collapsed": false,
    "ExecuteTime": {
     "end_time": "2024-01-05T13:52:36.723454600Z",
     "start_time": "2024-01-05T13:51:39.695975300Z"
    }
   },
   "id": "d3d1ff0d3fa76125",
   "execution_count": 3
  },
  {
   "cell_type": "code",
   "outputs": [
    {
     "data": {
      "text/plain": "tensor([[[ 73.,  99., 122.],\n         [ 73.,  99., 122.],\n         [ 73., 100., 122.],\n         ...,\n         [146., 156., 157.],\n         [145., 156., 156.],\n         [145., 157., 157.]],\n\n        [[ 72.,  99., 123.],\n         [ 72.,  99., 122.],\n         [ 70.,  98., 122.],\n         ...,\n         [145., 155., 155.],\n         [145., 155., 156.],\n         [144., 156., 156.]],\n\n        [[ 72., 100., 123.],\n         [ 72.,  99., 122.],\n         [ 71.,  98., 121.],\n         ...,\n         [143., 154., 155.],\n         [143., 154., 155.],\n         [143., 154., 155.]],\n\n        ...,\n\n        [[125., 128., 103.],\n         [124., 128., 103.],\n         [124., 127., 102.],\n         ...,\n         [156., 153., 132.],\n         [156., 152., 132.],\n         [156., 152., 132.]],\n\n        [[124., 127., 102.],\n         [123., 127., 102.],\n         [123., 126., 101.],\n         ...,\n         [157., 153., 133.],\n         [156., 153., 132.],\n         [156., 153., 132.]],\n\n        [[122., 126., 101.],\n         [122., 125., 100.],\n         [121., 125., 100.],\n         ...,\n         [157., 154., 133.],\n         [157., 153., 133.],\n         [156., 153., 133.]]], device='cuda:0')"
     },
     "execution_count": 3,
     "metadata": {},
     "output_type": "execute_result"
    }
   ],
   "source": [
    "ballDetection.load_background()"
   ],
   "metadata": {
    "collapsed": false,
    "ExecuteTime": {
     "end_time": "2024-01-05T14:13:21.926112100Z",
     "start_time": "2024-01-05T14:13:21.580915900Z"
    }
   },
   "id": "4178a45163d10ad0",
   "execution_count": 3
  },
  {
   "cell_type": "code",
   "outputs": [
    {
     "name": "stderr",
     "output_type": "stream",
     "text": [
      "100%|██████████| 1000/1000 [00:52<00:00, 19.17it/s]\n"
     ]
    },
    {
     "name": "stdout",
     "output_type": "stream",
     "text": [
      "shape of result_list: torch.Size([2000])\n"
     ]
    }
   ],
   "source": [
    "result = ballDetection.get_ball_by_frame(500, 1500, False)"
   ],
   "metadata": {
    "collapsed": false,
    "ExecuteTime": {
     "end_time": "2024-01-05T14:14:22.791505400Z",
     "start_time": "2024-01-05T14:13:21.906594900Z"
    }
   },
   "id": "c1343ddc0cc58fd0",
   "execution_count": 4
  },
  {
   "cell_type": "code",
   "outputs": [
    {
     "data": {
      "text/plain": "array([[ 569, 1270],\n       [ 650, 1892],\n       [ 655, 1642],\n       ...,\n       [ 576,  327],\n       [ 533,  947],\n       [ 561, 1238]], dtype=int64)"
     },
     "execution_count": 5,
     "metadata": {},
     "output_type": "execute_result"
    }
   ],
   "source": [
    "#Tensor to numpy\n",
    "numpyresult = result.cpu().numpy()\n",
    "numpyresult"
   ],
   "metadata": {
    "collapsed": false,
    "ExecuteTime": {
     "end_time": "2024-01-05T14:14:22.815321600Z",
     "start_time": "2024-01-05T14:14:22.798504900Z"
    }
   },
   "id": "ea067e9b7be5483c",
   "execution_count": 5
  },
  {
   "cell_type": "code",
   "outputs": [
    {
     "data": {
      "text/plain": "<Figure size 640x480 with 2 Axes>",
      "image/png": "[encoded data removed]"
     },
     "metadata": {},
     "output_type": "display_data"
    }
   ],
   "source": [
    "plt.hist2d(numpyresult[:,1], numpyresult[:,0], bins=25)\n",
    "plt.xlim(100, 1820)\n",
    "plt.ylim(100, 980)\n",
    "plt.colorbar()\n",
    "plt.show()"
   ],
   "metadata": {
    "collapsed": false,
    "ExecuteTime": {
     "end_time": "2024-01-05T14:17:47.796507100Z",
     "start_time": "2024-01-05T14:17:47.663328400Z"
    }
   },
   "id": "ce90a7f47ac62739",
   "execution_count": 10
  },
  {
   "cell_type": "markdown",
   "source": [
    "## Profiling"
   ],
   "metadata": {
    "collapsed": false
   },
   "id": "17ececd0ebcebb2d"
  },
  {
   "cell_type": "code",
   "outputs": [],
   "source": [
    "%load_ext snakeviz"
   ],
   "metadata": {
    "collapsed": false,
    "ExecuteTime": {
     "end_time": "2024-01-05T09:26:55.526773900Z",
     "start_time": "2024-01-05T09:26:55.521743500Z"
    }
   },
   "id": "22a2f427559eb877",
   "execution_count": 2
  },
  {
   "cell_type": "code",
   "outputs": [],
   "source": [
    "svo_path = '../../data/HD1080_SN35520970_11-03-24.svo'\n",
    "ballDetection = BallDetectionPytorch(svo_path)\n",
    "\n",
    "ballDetection.get_background(svo_path, 10, 30)\n",
    "\n",
    "%snakeviz ballDetection.get_ball_by_frame(500, 1100, True)"
   ],
   "metadata": {
    "collapsed": false
   },
   "id": "a2885f82a08900d4",
   "execution_count": 0
  },
  {
   "cell_type": "markdown",
   "source": [
    "## Versuch Ballerkennung Links"
   ],
   "metadata": {
    "collapsed": false
   },
   "id": "fa89e4c4608995b5"
  },
  {
   "cell_type": "code",
   "outputs": [],
   "source": [],
   "metadata": {
    "collapsed": false
   },
   "id": "fecb85c3ffac1e8"
  }
 ],
 "metadata": {
  "kernelspec": {
   "display_name": "Python 3",
   "language": "python",
   "name": "python3"
  },
  "language_info": {
   "codemirror_mode": {
    "name": "ipython",
    "version": 2
   },
   "file_extension": ".py",
   "mimetype": "text/x-python",
   "name": "python",
   "nbconvert_exporter": "python",
   "pygments_lexer": "ipython2",
   "version": "2.7.6"
  }
 },
 "nbformat": 4,
 "nbformat_minor": 5
}
