{
 "cells": [
  {
   "cell_type": "code",
   "execution_count": 1,
   "id": "initial_id",
   "metadata": {
    "collapsed": true,
    "ExecuteTime": {
     "end_time": "2024-01-06T17:35:00.205468600Z",
     "start_time": "2024-01-06T17:34:56.845167300Z"
    }
   },
   "outputs": [],
   "source": [
    "import torch\n",
    "import numpy as np\n",
    "import matplotlib.pyplot as plt\n",
    "from helperClasses.tennis_ball_detection_pytorch import BallDetectionPytorch\n",
    "import cProfile\n",
    "import snakeviz as sv\n",
    "device = torch.device(\"cuda:0\" if torch.cuda.is_available() else \"cpu\")"
   ]
  },
  {
   "cell_type": "code",
   "execution_count": 2,
   "outputs": [],
   "source": [
    "svo_path = '../../data/HD1080_SN35520970_11-03-24.svo'\n",
    "ballDetection = BallDetectionPytorch(svo_path)"
   ],
   "metadata": {
    "collapsed": false,
    "ExecuteTime": {
     "end_time": "2024-01-06T17:35:00.301235500Z",
     "start_time": "2024-01-06T17:35:00.205468600Z"
    }
   },
   "id": "4c7cd19f937d068e"
  },
  {
   "cell_type": "code",
   "outputs": [],
   "source": [
    "ballDetection.calculate_background(svo_path, 'left', 100, 30)\n",
    "ballDetection.save_background('left')"
   ],
   "metadata": {
    "collapsed": false,
    "ExecuteTime": {
     "start_time": "2024-01-06T14:39:20.484271700Z"
    }
   },
   "id": "d3d1ff0d3fa76125",
   "execution_count": null
  },
  {
   "cell_type": "code",
   "outputs": [
    {
     "data": {
      "text/plain": "tensor([[[ 73.,  99., 122.],\n         [ 73.,  99., 122.],\n         [ 73., 100., 122.],\n         ...,\n         [146., 156., 157.],\n         [145., 156., 156.],\n         [145., 157., 157.]],\n\n        [[ 72.,  99., 123.],\n         [ 72.,  99., 122.],\n         [ 70.,  98., 122.],\n         ...,\n         [145., 155., 155.],\n         [145., 155., 156.],\n         [144., 156., 156.]],\n\n        [[ 72., 100., 123.],\n         [ 72.,  99., 122.],\n         [ 71.,  98., 121.],\n         ...,\n         [143., 154., 155.],\n         [143., 154., 155.],\n         [143., 154., 155.]],\n\n        ...,\n\n        [[125., 128., 103.],\n         [124., 128., 103.],\n         [124., 127., 102.],\n         ...,\n         [156., 153., 132.],\n         [156., 152., 132.],\n         [156., 152., 132.]],\n\n        [[124., 127., 102.],\n         [123., 127., 102.],\n         [123., 126., 101.],\n         ...,\n         [157., 153., 133.],\n         [156., 153., 132.],\n         [156., 153., 132.]],\n\n        [[122., 126., 101.],\n         [122., 125., 100.],\n         [121., 125., 100.],\n         ...,\n         [157., 154., 133.],\n         [157., 153., 133.],\n         [156., 153., 133.]]], device='cuda:0')"
     },
     "execution_count": 3,
     "metadata": {},
     "output_type": "execute_result"
    }
   ],
   "source": [
    "ballDetection.load_background('left')"
   ],
   "metadata": {
    "collapsed": false,
    "ExecuteTime": {
     "end_time": "2024-01-06T16:53:35.871025Z",
     "start_time": "2024-01-06T16:53:35.575174300Z"
    }
   },
   "id": "4178a45163d10ad0",
   "execution_count": 3
  },
  {
   "cell_type": "code",
   "outputs": [
    {
     "name": "stderr",
     "output_type": "stream",
     "text": [
      "100%|██████████| 900/900 [01:56<00:00,  7.70it/s]\n",
      "100%|██████████| 900/900 [01:06<00:00, 13.57it/s]\n"
     ]
    }
   ],
   "source": [
    "result_left = ballDetection.get_ball_by_frame(500, 1400, 'left', return_video=True)"
   ],
   "metadata": {
    "collapsed": false,
    "ExecuteTime": {
     "end_time": "2024-01-06T16:57:45.265246Z",
     "start_time": "2024-01-06T16:53:47.971940400Z"
    }
   },
   "id": "c1343ddc0cc58fd0",
   "execution_count": 4
  },
  {
   "cell_type": "code",
   "outputs": [],
   "source": [
    "#Tensor to numpy\n",
    "result_left = result_left.cpu().numpy()"
   ],
   "metadata": {
    "collapsed": false
   },
   "id": "134eb8976bce0de5",
   "execution_count": null
  },
  {
   "cell_type": "code",
   "outputs": [],
   "source": [
    "result_left[60]"
   ],
   "metadata": {
    "collapsed": false
   },
   "id": "ea067e9b7be5483c",
   "execution_count": null
  },
  {
   "cell_type": "code",
   "outputs": [],
   "source": [
    "plt.hist2d(numpyresult[:,1], numpyresult[:,0], bins=25)\n",
    "plt.xlim(100, 1820)\n",
    "plt.ylim(100, 980)\n",
    "plt.colorbar()\n",
    "plt.show()"
   ],
   "metadata": {
    "collapsed": false
   },
   "id": "ce90a7f47ac62739",
   "execution_count": null
  },
  {
   "cell_type": "markdown",
   "source": [
    "## Profiling"
   ],
   "metadata": {
    "collapsed": false
   },
   "id": "17ececd0ebcebb2d"
  },
  {
   "cell_type": "code",
   "outputs": [],
   "source": [
    "%load_ext snakeviz"
   ],
   "metadata": {
    "collapsed": false,
    "ExecuteTime": {
     "end_time": "2024-01-06T17:31:53.401377700Z",
     "start_time": "2024-01-06T17:31:53.381035800Z"
    }
   },
   "id": "22a2f427559eb877",
   "execution_count": 4
  },
  {
   "cell_type": "code",
   "outputs": [
    {
     "name": "stderr",
     "output_type": "stream",
     "text": [
      "100%|██████████| 3000/3000 [00:00<00:00, 428237.82it/s]\n"
     ]
    },
    {
     "name": "stdout",
     "output_type": "stream",
     "text": [
      " \n",
      "*** Profile stats marshalled to file 'C:\\\\Users\\\\denis\\\\AppData\\\\Local\\\\Temp\\\\tmposoolx4m'.\n",
      "Embedding SnakeViz in this document...\n",
      "<function display at 0x0000027115DAAF20>\n"
     ]
    },
    {
     "data": {
      "text/plain": "<IPython.core.display.HTML object>",
      "text/html": "\n<iframe id='snakeviz-7f552d96-acb9-11ee-a3e6-6ca100562018' frameborder=0 seamless width='100%' height='1000'></iframe>\n<script>document.getElementById(\"snakeviz-7f552d96-acb9-11ee-a3e6-6ca100562018\").setAttribute(\"src\", \"http://\" + document.location.hostname + \":8080/snakeviz/C%3A%5CUsers%5Cdenis%5CAppData%5CLocal%5CTemp%5Ctmposoolx4m\")</script>\n"
     },
     "metadata": {},
     "output_type": "display_data"
    }
   ],
   "source": [
    "#svo_path = '../../data/HD1080_SN35520970_11-03-24.svo'\n",
    "#ballDetection = BallDetectionPytorch(svo_path)\n",
    "\n",
    "#%snakeviz ballDetection.get_ball_by_frame(500, 1100, 'left', True)\n",
    "%snakeviz ballDetection.calculate_background(svo_path, 'right', 100, 30)"
   ],
   "metadata": {
    "collapsed": false,
    "ExecuteTime": {
     "end_time": "2024-01-06T17:32:03.037955100Z",
     "start_time": "2024-01-06T17:31:54.304668700Z"
    }
   },
   "id": "a2885f82a08900d4",
   "execution_count": 5
  },
  {
   "cell_type": "markdown",
   "source": [
    "## Versuch Ballerkennung Links"
   ],
   "metadata": {
    "collapsed": false
   },
   "id": "fa89e4c4608995b5"
  },
  {
   "cell_type": "code",
   "outputs": [
    {
     "name": "stderr",
     "output_type": "stream",
     "text": [
      "100%|██████████| 3000/3000 [00:54<00:00, 55.27it/s]\n"
     ]
    },
    {
     "data": {
      "text/plain": "tensor([[[ 74., 100., 122.],\n         [ 74., 101., 123.],\n         [ 75., 101., 123.],\n         ...,\n         [143., 155., 156.],\n         [144., 156., 156.],\n         [144., 157., 157.]],\n\n        [[ 76., 102., 124.],\n         [ 76., 103., 124.],\n         [ 77., 103., 125.],\n         ...,\n         [140., 153., 153.],\n         [141., 153., 153.],\n         [142., 153., 154.]],\n\n        [[ 75., 103., 125.],\n         [ 75., 102., 125.],\n         [ 75., 103., 126.],\n         ...,\n         [137., 150., 152.],\n         [137., 151., 153.],\n         [138., 152., 153.]],\n\n        ...,\n\n        [[125., 127., 102.],\n         [124., 126., 101.],\n         [123., 125., 101.],\n         ...,\n         [153., 152., 132.],\n         [153., 151., 132.],\n         [153., 151., 132.]],\n\n        [[124., 126., 101.],\n         [123., 126., 101.],\n         [122., 125., 100.],\n         ...,\n         [151., 150., 130.],\n         [151., 150., 130.],\n         [152., 150., 131.]],\n\n        [[123., 125., 100.],\n         [122., 124., 100.],\n         [122., 124.,  99.],\n         ...,\n         [148., 147., 127.],\n         [149., 147., 128.],\n         [150., 148., 129.]]], device='cuda:0')"
     },
     "execution_count": 3,
     "metadata": {},
     "output_type": "execute_result"
    }
   ],
   "source": [
    "ballDetection.calculate_background(svo_path, 'right', 100, 30)"
   ],
   "metadata": {
    "collapsed": false,
    "ExecuteTime": {
     "end_time": "2024-01-06T17:33:49.745138900Z",
     "start_time": "2024-01-06T17:32:51.397682400Z"
    }
   },
   "id": "70ecc80c50bee8c6",
   "execution_count": 3
  },
  {
   "cell_type": "code",
   "outputs": [],
   "source": [
    "ballDetection.save_background('right')"
   ],
   "metadata": {
    "collapsed": false,
    "ExecuteTime": {
     "end_time": "2024-01-06T17:34:35.448874900Z",
     "start_time": "2024-01-06T17:34:35.379958100Z"
    }
   },
   "id": "fecb85c3ffac1e8",
   "execution_count": 4
  },
  {
   "cell_type": "code",
   "outputs": [
    {
     "data": {
      "text/plain": "tensor([[[ 74., 100., 122.],\n         [ 74., 101., 123.],\n         [ 75., 101., 123.],\n         ...,\n         [143., 155., 156.],\n         [144., 156., 156.],\n         [144., 157., 157.]],\n\n        [[ 76., 102., 124.],\n         [ 76., 103., 124.],\n         [ 77., 103., 125.],\n         ...,\n         [140., 153., 153.],\n         [141., 153., 153.],\n         [142., 153., 154.]],\n\n        [[ 75., 103., 125.],\n         [ 75., 102., 125.],\n         [ 75., 103., 126.],\n         ...,\n         [137., 150., 152.],\n         [137., 151., 153.],\n         [138., 152., 153.]],\n\n        ...,\n\n        [[125., 127., 102.],\n         [124., 126., 101.],\n         [123., 125., 101.],\n         ...,\n         [153., 152., 132.],\n         [153., 151., 132.],\n         [153., 151., 132.]],\n\n        [[124., 126., 101.],\n         [123., 126., 101.],\n         [122., 125., 100.],\n         ...,\n         [151., 150., 130.],\n         [151., 150., 130.],\n         [152., 150., 131.]],\n\n        [[123., 125., 100.],\n         [122., 124., 100.],\n         [122., 124.,  99.],\n         ...,\n         [148., 147., 127.],\n         [149., 147., 128.],\n         [150., 148., 129.]]], device='cuda:0')"
     },
     "execution_count": 3,
     "metadata": {},
     "output_type": "execute_result"
    }
   ],
   "source": [
    "ballDetection.load_background('right')"
   ],
   "metadata": {
    "collapsed": false,
    "ExecuteTime": {
     "end_time": "2024-01-06T17:35:01.552954500Z",
     "start_time": "2024-01-06T17:35:01.340180300Z"
    }
   },
   "id": "cbd0a79cb35553ba",
   "execution_count": 3
  },
  {
   "cell_type": "code",
   "outputs": [
    {
     "name": "stderr",
     "output_type": "stream",
     "text": [
      "100%|██████████| 500/500 [00:48<00:00, 10.23it/s]\n",
      "100%|██████████| 500/500 [00:28<00:00, 17.49it/s]\n"
     ]
    }
   ],
   "source": [
    "result_right = ballDetection.get_ball_by_frame(500, 1000, 'right', True)"
   ],
   "metadata": {
    "collapsed": false,
    "ExecuteTime": {
     "end_time": "2024-01-06T17:36:27.074696200Z",
     "start_time": "2024-01-06T17:35:04.993274100Z"
    }
   },
   "id": "16148386a6b7b83a",
   "execution_count": 4
  },
  {
   "cell_type": "code",
   "outputs": [],
   "source": [
    "result_right = result_right.cpu().numpy()"
   ],
   "metadata": {
    "collapsed": false
   },
   "id": "3203aead863f28e4",
   "execution_count": null
  },
  {
   "cell_type": "code",
   "outputs": [],
   "source": [
    "result_right[620]"
   ],
   "metadata": {
    "collapsed": false
   },
   "id": "36c59b0b6905fb7f",
   "execution_count": null
  },
  {
   "cell_type": "code",
   "outputs": [],
   "source": [
    "plt.imshow(ballDetection.median_background_r.cpu().numpy().astype(np.uint8))\n",
    "plt.show()"
   ],
   "metadata": {
    "collapsed": false
   },
   "id": "748603d363fa7d9a",
   "execution_count": null
  },
  {
   "cell_type": "code",
   "outputs": [],
   "source": [
    "left_test = [642, 1798]\n",
    "right_test = [654, 1587]"
   ],
   "metadata": {
    "collapsed": false,
    "ExecuteTime": {
     "end_time": "2024-01-06T10:07:06.212217300Z",
     "start_time": "2024-01-06T10:07:06.208167400Z"
    }
   },
   "id": "7168f5bd564d97e8",
   "execution_count": 3
  },
  {
   "cell_type": "code",
   "outputs": [
    {
     "name": "stdout",
     "output_type": "stream",
     "text": [
      "[[1.90902917e+03 0.00000000e+00 9.68596313e+02 0.00000000e+00]\n",
      " [0.00000000e+00 1.90902917e+03 5.59385315e+02 0.00000000e+00]\n",
      " [0.00000000e+00 0.00000000e+00 1.00000000e+00 0.00000000e+00]]\n",
      "[[0. 0. 0. 0.]\n",
      " [0. 0. 0. 0.]\n",
      " [0. 0. 0. 0.]]\n",
      "[[ 642]\n",
      " [1798]]\n",
      "[[ 654]\n",
      " [1587]]\n"
     ]
    },
    {
     "name": "stderr",
     "output_type": "stream",
     "text": [
      "C:\\FHNW_Programmiersachen\\3_Sem\\fhnw-cda2-tennis-analysis\\helperClasses\\tennis_ball_detection_pytorch.py:475: RuntimeWarning: invalid value encountered in divide\n",
      "  point_3d = point_3d_hom[:3] / point_3d_hom[3]\n"
     ]
    },
    {
     "data": {
      "text/plain": "array([nan, nan, nan])"
     },
     "execution_count": 4,
     "metadata": {},
     "output_type": "execute_result"
    }
   ],
   "source": [
    "ballDetection.triangulation(left_test, right_test)"
   ],
   "metadata": {
    "collapsed": false,
    "ExecuteTime": {
     "end_time": "2024-01-06T10:07:08.144595600Z",
     "start_time": "2024-01-06T10:07:06.406090200Z"
    }
   },
   "id": "fb06f5008da87d1c",
   "execution_count": 4
  },
  {
   "cell_type": "code",
   "outputs": [
    {
     "name": "stdout",
     "output_type": "stream",
     "text": [
      "[0. 0. 0. 0. 0. 0. 0. 0. 0. 0. 0. 0.]\n"
     ]
    },
    {
     "ename": "ValueError",
     "evalue": "matmul: Input operand 1 has a mismatch in its core dimension 0, with gufunc signature (n?,k),(k,m?)->(n?,m?) (size 12 is different from 3)",
     "output_type": "error",
     "traceback": [
      "\u001B[1;31m---------------------------------------------------------------------------\u001B[0m",
      "\u001B[1;31mValueError\u001B[0m                                Traceback (most recent call last)",
      "Cell \u001B[1;32mIn[10], line 34\u001B[0m\n\u001B[0;32m     32\u001B[0m P1 \u001B[38;5;241m=\u001B[39m K \u001B[38;5;241m@\u001B[39m np\u001B[38;5;241m.\u001B[39mhstack((np\u001B[38;5;241m.\u001B[39meye(\u001B[38;5;241m3\u001B[39m), np\u001B[38;5;241m.\u001B[39mzeros((\u001B[38;5;241m3\u001B[39m, \u001B[38;5;241m1\u001B[39m))))\n\u001B[0;32m     33\u001B[0m \u001B[38;5;66;03m#P2 = K @ np.hstack((R, t))\u001B[39;00m\n\u001B[1;32m---> 34\u001B[0m P2 \u001B[38;5;241m=\u001B[39m \u001B[43mK\u001B[49m\u001B[38;5;241;43m@\u001B[39;49m\u001B[43m \u001B[49m\u001B[43mR\u001B[49m\n\u001B[0;32m     36\u001B[0m \u001B[38;5;28mprint\u001B[39m(P1)\n\u001B[0;32m     37\u001B[0m \u001B[38;5;28mprint\u001B[39m(P2)\n",
      "\u001B[1;31mValueError\u001B[0m: matmul: Input operand 1 has a mismatch in its core dimension 0, with gufunc signature (n?,k),(k,m?)->(n?,m?) (size 12 is different from 3)"
     ]
    }
   ],
   "source": [
    "import pyzed.sl as sl\n",
    "import cv2\n",
    "\n",
    "pt1 = [642, 1798]\n",
    "pt2 = [654, 1587]\n",
    "zed = sl.Camera()\n",
    "\n",
    "init_params = sl.InitParameters()\n",
    "init_params.set_from_svo_file(svo_path)\n",
    "init_params.depth_mode = sl.DEPTH_MODE.ULTRA\n",
    "init_params.coordinate_units = sl.UNIT.METER\n",
    "init_params.depth_maximum_distance = 40\n",
    "init_params.depth_minimum_distance = 1\n",
    "init_params.sdk_verbose = True\n",
    "\n",
    "zed.open(init_params)\n",
    "\n",
    "calib_params = zed.get_camera_information().camera_configuration.calibration_parameters\n",
    "intrinsics = calib_params.left_cam\n",
    "K = np.array([[intrinsics.fx, 0, intrinsics.cx],\n",
    "              [0, intrinsics.fy, intrinsics.cy],\n",
    "              [0, 0, 1]])\n",
    "\n",
    "R = calib_params._cam.disto\n",
    "\n",
    "print(R)\n",
    "            #[x, y, z]\n",
    "#t = calib_params.T\n",
    "\n",
    "\n",
    "# Erstelle Projektionsmatrizen\n",
    "P1 = K @ np.hstack((np.eye(3), np.zeros((3, 1))))\n",
    "#P2 = K @ np.hstack((R, t))\n",
    "P2 = K@ R\n",
    "\n",
    "print(P1)\n",
    "print(P2)\n",
    "\n",
    "pts1 = np.array([[pt1[0]], [pt1[1]]])\n",
    "pts2 = np.array([[pt2[0]], [pt2[1]]])\n",
    "\n",
    "print(pts1)\n",
    "print(pts2)\n",
    "\n",
    "point_3d_hom = cv2.triangulatePoints(projMatr1 = P1, projMatr2 = P2, projPoints1 = pts1, projPoints2 = pts2)\n",
    "\n",
    "# Konvertiere zurück in nicht-homogene Koordinaten\n",
    "point_3d = point_3d_hom[:3] / point_3d_hom[3]\n",
    "\n",
    "zed.close()\n",
    "point_3d.ravel()"
   ],
   "metadata": {
    "collapsed": false,
    "ExecuteTime": {
     "end_time": "2024-01-06T10:10:15.038016Z",
     "start_time": "2024-01-06T10:10:13.606785800Z"
    }
   },
   "id": "cc17cbbe9400bcb5",
   "execution_count": 10
  },
  {
   "cell_type": "code",
   "outputs": [],
   "source": [],
   "metadata": {
    "collapsed": false
   },
   "id": "5b965b8cb80b7db9"
  }
 ],
 "metadata": {
  "kernelspec": {
   "display_name": "Python 3",
   "language": "python",
   "name": "python3"
  },
  "language_info": {
   "codemirror_mode": {
    "name": "ipython",
    "version": 2
   },
   "file_extension": ".py",
   "mimetype": "text/x-python",
   "name": "python",
   "nbconvert_exporter": "python",
   "pygments_lexer": "ipython2",
   "version": "2.7.6"
  }
 },
 "nbformat": 4,
 "nbformat_minor": 5
}
