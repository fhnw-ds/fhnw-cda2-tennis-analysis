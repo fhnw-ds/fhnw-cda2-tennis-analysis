{
 "cells": [
  {
   "cell_type": "code",
   "execution_count": 1,
   "metadata": {},
   "outputs": [],
   "source": [
    "import pyzed.sl as sl"
   ]
  },
  {
   "cell_type": "code",
   "execution_count": 31,
   "metadata": {},
   "outputs": [
    {
     "data": {
      "text/plain": [
       "['__class__',\n",
       " '__delattr__',\n",
       " '__dir__',\n",
       " '__doc__',\n",
       " '__eq__',\n",
       " '__format__',\n",
       " '__ge__',\n",
       " '__getattribute__',\n",
       " '__gt__',\n",
       " '__hash__',\n",
       " '__init__',\n",
       " '__init_subclass__',\n",
       " '__le__',\n",
       " '__lt__',\n",
       " '__ne__',\n",
       " '__new__',\n",
       " '__reduce__',\n",
       " '__reduce_ex__',\n",
       " '__repr__',\n",
       " '__setattr__',\n",
       " '__setstate__',\n",
       " '__sizeof__',\n",
       " '__str__',\n",
       " '__subclasshook__',\n",
       " 'close',\n",
       " 'disable_body_tracking',\n",
       " 'disable_object_detection',\n",
       " 'disable_positional_tracking',\n",
       " 'disable_recording',\n",
       " 'disable_spatial_mapping',\n",
       " 'disable_streaming',\n",
       " 'enable_body_tracking',\n",
       " 'enable_object_detection',\n",
       " 'enable_positional_tracking',\n",
       " 'enable_recording',\n",
       " 'enable_spatial_mapping',\n",
       " 'enable_streaming',\n",
       " 'extract_whole_spatial_map',\n",
       " 'find_floor_plane',\n",
       " 'find_plane_at_hit',\n",
       " 'get_area_export_state',\n",
       " 'get_body_tracking_parameters',\n",
       " 'get_camera_information',\n",
       " 'get_camera_settings',\n",
       " 'get_camera_settings_range',\n",
       " 'get_camera_settings_roi',\n",
       " 'get_current_fps',\n",
       " 'get_current_min_max_depth',\n",
       " 'get_device_list',\n",
       " 'get_frame_dropped_count',\n",
       " 'get_init_parameters',\n",
       " 'get_object_detection_parameters',\n",
       " 'get_objects_batch',\n",
       " 'get_position',\n",
       " 'get_positional_tracking_parameters',\n",
       " 'get_recording_parameters',\n",
       " 'get_recording_status',\n",
       " 'get_runtime_parameters',\n",
       " 'get_sdk_version',\n",
       " 'get_sensors_data',\n",
       " 'get_spatial_map_request_status_async',\n",
       " 'get_spatial_mapping_parameters',\n",
       " 'get_spatial_mapping_state',\n",
       " 'get_streaming_device_list',\n",
       " 'get_streaming_parameters',\n",
       " 'get_svo_number_of_frames',\n",
       " 'get_svo_position',\n",
       " 'get_timestamp',\n",
       " 'grab',\n",
       " 'ingest_custom_box_objects',\n",
       " 'is_body_tracking_enabled',\n",
       " 'is_camera_setting_supported',\n",
       " 'is_object_detection_enabled',\n",
       " 'is_opened',\n",
       " 'is_positional_tracking_enabled',\n",
       " 'is_streaming_enabled',\n",
       " 'open',\n",
       " 'pause_body_tracking',\n",
       " 'pause_object_detection',\n",
       " 'pause_recording',\n",
       " 'pause_spatial_mapping',\n",
       " 'reboot',\n",
       " 'request_spatial_map_async',\n",
       " 'reset_positional_tracking',\n",
       " 'retrieve_bodies',\n",
       " 'retrieve_image',\n",
       " 'retrieve_measure',\n",
       " 'retrieve_objects',\n",
       " 'retrieve_spatial_map_async',\n",
       " 'save_area_map',\n",
       " 'set_camera_settings',\n",
       " 'set_camera_settings_range',\n",
       " 'set_camera_settings_roi',\n",
       " 'set_imu_prior',\n",
       " 'set_region_of_interest',\n",
       " 'set_svo_position',\n",
       " 'start_publishing',\n",
       " 'stop_publishing',\n",
       " 'update_self_calibration']"
      ]
     },
     "execution_count": 31,
     "metadata": {},
     "output_type": "execute_result"
    }
   ],
   "source": [
    "dir(zed)"
   ]
  },
  {
   "cell_type": "code",
   "execution_count": 2,
   "metadata": {},
   "outputs": [],
   "source": [
    "zed = sl.Camera()"
   ]
  },
  {
   "cell_type": "code",
   "execution_count": null,
   "metadata": {},
   "outputs": [],
   "source": [
    "init_params = sl.InitParameters()"
   ]
  },
  {
   "cell_type": "code",
   "execution_count": 9,
   "metadata": {},
   "outputs": [],
   "source": [
    "init_params.set_from_svo_file('../data/Schlieren/svo/HD1080_SN35071549_10-32-34.svo')\n",
    "init_params.depth_mode = sl.DEPTH_MODE.ULTRA\n",
    "init_params.coordinate_units = sl.UNIT.METER\n",
    "init_params.depth_maximum_distance = 40\n",
    "init_params.depth_minimum_distance = 2\n",
    "init_params.sdk_verbose = True"
   ]
  },
  {
   "cell_type": "code",
   "execution_count": 10,
   "metadata": {},
   "outputs": [
    {
     "data": {
      "text/plain": [
       "SUCCESS"
      ]
     },
     "execution_count": 10,
     "metadata": {},
     "output_type": "execute_result"
    }
   ],
   "source": [
    "zed.open(init_params)"
   ]
  },
  {
   "cell_type": "code",
   "execution_count": 11,
   "metadata": {},
   "outputs": [],
   "source": [
    "detection_parameters = sl.ObjectDetectionParameters()"
   ]
  },
  {
   "cell_type": "code",
   "execution_count": 17,
   "metadata": {},
   "outputs": [],
   "source": [
    "detection_parameters.image_sync = True\n",
    "detection_parameters.enable_tracking = True\n",
    "detection_parameters.enable_segmentation = True\n",
    "\n",
    "detection_parameters.detection_model = sl.OBJECT_DETECTION_MODEL.MULTI_CLASS_BOX_MEDIUM"
   ]
  },
  {
   "cell_type": "code",
   "execution_count": 18,
   "metadata": {},
   "outputs": [
    {
     "data": {
      "text/plain": [
       "SUCCESS"
      ]
     },
     "execution_count": 18,
     "metadata": {},
     "output_type": "execute_result"
    }
   ],
   "source": [
    "if detection_parameters.enable_tracking:\n",
    "    zed.enable_positional_tracking()\n",
    "\n",
    "zed.enable_object_detection(detection_parameters)"
   ]
  },
  {
   "cell_type": "code",
   "execution_count": 22,
   "metadata": {},
   "outputs": [],
   "source": [
    "detection_confidence = 20\n",
    "detection_parameters_rt = sl.ObjectDetectionRuntimeParameters(detection_confidence)"
   ]
  },
  {
   "cell_type": "code",
   "execution_count": 23,
   "metadata": {},
   "outputs": [],
   "source": [
    "detection_parameters_rt.object_class_filter = [sl.OBJECT_CLASS.PERSON, sl.OBJECT_CLASS.SPORT]\n"
   ]
  },
  {
   "cell_type": "code",
   "execution_count": 24,
   "metadata": {},
   "outputs": [],
   "source": [
    "body_detection_confidence = 60\n",
    "body_detection_parameters_rt = sl.BodyTrackingRuntimeParameters(body_detection_confidence)"
   ]
  },
  {
   "cell_type": "code",
   "execution_count": 25,
   "metadata": {},
   "outputs": [],
   "source": [
    "detected_objects = sl.Objects()"
   ]
  },
  {
   "cell_type": "code",
   "execution_count": 28,
   "metadata": {},
   "outputs": [],
   "source": [
    "plane = sl.Plane()\n",
    "resetTrackingFloorFrame = sl.Transform()\n",
    "find_plane_status = zed.find_floor_plane(plane, resetTrackingFloorFrame)\n",
    "if find_plane_status == sl.ERROR_CODE.SUCCESS:\n",
    "    # Reset positional tracking to align it with the floor plane frame\n",
    "    zed.reset_positional_tracking(resetTrackingFloorFrame)"
   ]
  },
  {
   "cell_type": "code",
   "execution_count": null,
   "metadata": {},
   "outputs": [],
   "source": []
  }
 ],
 "metadata": {
  "kernelspec": {
   "display_name": "Python 3",
   "language": "python",
   "name": "python3"
  },
  "language_info": {
   "codemirror_mode": {
    "name": "ipython",
    "version": 3
   },
   "file_extension": ".py",
   "mimetype": "text/x-python",
   "name": "python",
   "nbconvert_exporter": "python",
   "pygments_lexer": "ipython3",
   "version": "3.10.11"
  }
 },
 "nbformat": 4,
 "nbformat_minor": 2
}
