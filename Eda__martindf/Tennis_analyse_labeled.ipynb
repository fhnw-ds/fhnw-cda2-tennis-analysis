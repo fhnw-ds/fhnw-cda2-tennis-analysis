{
 "cells": [
  {
   "cell_type": "code",
   "execution_count": 43,
   "id": "initial_id",
   "metadata": {
    "collapsed": true,
    "ExecuteTime": {
     "end_time": "2024-01-06T14:31:52.487122200Z",
     "start_time": "2024-01-06T14:31:52.441731300Z"
    }
   },
   "outputs": [],
   "source": [
    "import numpy as np\n",
    "import pandas as pd\n",
    "import matplotlib.pyplot as plt"
   ]
  },
  {
   "cell_type": "code",
   "outputs": [
    {
     "data": {
      "text/plain": "                Legende  Spiel Martin Schlag Petr Schlag Error/Winner  \\\n0                  True      0             0           0            0   \n1                     1      0             0           0            0   \n2                 False      0             0           0            0   \n3                     0      0             0           0            0   \n4  Game (Martin; Peter)      0             0           0            0   \n\n  Game (Martin;Petr) Punkt (Martin;Petr) Bemerkung  Frame  Objekt  Objekt ID  \\\n0              99;99               99;99       NaN      0       0          0   \n1              99;99               99;99       NaN      0       1          1   \n2              99;99               99;99       NaN      1       0          0   \n3              99;99               99;99       NaN      1       1          1   \n4              99;99               99;99       NaN      2       0          0   \n\n  Objektlabel  Konfidenz Trackingstatus        x         y         z  \\\n0      Person    91.2109            OFF -3.23670  0.016276   4.43368   \n1      Person    45.9961            OFF  2.40510 -2.696930  24.81480   \n2      Person    91.2598            OFF -3.23032  0.016394   4.43147   \n3      Person    38.4033            OFF  2.39731 -2.692540  24.71270   \n4      Person    90.7715            OFF -3.21413  0.016563   4.42910   \n\n          vx           xy            vz  \n0  -nan(ind)    -nan(ind)     -nan(ind)  \n1  -nan(ind)    -nan(ind)     -nan(ind)  \n2   0.801566  -0.00163345  -1.65796e-09  \n3    3.53703  -0.00720912  -5.93347e-07  \n4   0.739202    0.0240556     -0.215608  ",
      "text/html": "<div>\n<style scoped>\n    .dataframe tbody tr th:only-of-type {\n        vertical-align: middle;\n    }\n\n    .dataframe tbody tr th {\n        vertical-align: top;\n    }\n\n    .dataframe thead th {\n        text-align: right;\n    }\n</style>\n<table border=\"1\" class=\"dataframe\">\n  <thead>\n    <tr style=\"text-align: right;\">\n      <th></th>\n      <th>Legende</th>\n      <th>Spiel</th>\n      <th>Martin Schlag</th>\n      <th>Petr Schlag</th>\n      <th>Error/Winner</th>\n      <th>Game (Martin;Petr)</th>\n      <th>Punkt (Martin;Petr)</th>\n      <th>Bemerkung</th>\n      <th>Frame</th>\n      <th>Objekt</th>\n      <th>Objekt ID</th>\n      <th>Objektlabel</th>\n      <th>Konfidenz</th>\n      <th>Trackingstatus</th>\n      <th>x</th>\n      <th>y</th>\n      <th>z</th>\n      <th>vx</th>\n      <th>xy</th>\n      <th>vz</th>\n    </tr>\n  </thead>\n  <tbody>\n    <tr>\n      <th>0</th>\n      <td>True</td>\n      <td>0</td>\n      <td>0</td>\n      <td>0</td>\n      <td>0</td>\n      <td>99;99</td>\n      <td>99;99</td>\n      <td>NaN</td>\n      <td>0</td>\n      <td>0</td>\n      <td>0</td>\n      <td>Person</td>\n      <td>91.2109</td>\n      <td>OFF</td>\n      <td>-3.23670</td>\n      <td>0.016276</td>\n      <td>4.43368</td>\n      <td>-nan(ind)</td>\n      <td>-nan(ind)</td>\n      <td>-nan(ind)</td>\n    </tr>\n    <tr>\n      <th>1</th>\n      <td>1</td>\n      <td>0</td>\n      <td>0</td>\n      <td>0</td>\n      <td>0</td>\n      <td>99;99</td>\n      <td>99;99</td>\n      <td>NaN</td>\n      <td>0</td>\n      <td>1</td>\n      <td>1</td>\n      <td>Person</td>\n      <td>45.9961</td>\n      <td>OFF</td>\n      <td>2.40510</td>\n      <td>-2.696930</td>\n      <td>24.81480</td>\n      <td>-nan(ind)</td>\n      <td>-nan(ind)</td>\n      <td>-nan(ind)</td>\n    </tr>\n    <tr>\n      <th>2</th>\n      <td>False</td>\n      <td>0</td>\n      <td>0</td>\n      <td>0</td>\n      <td>0</td>\n      <td>99;99</td>\n      <td>99;99</td>\n      <td>NaN</td>\n      <td>1</td>\n      <td>0</td>\n      <td>0</td>\n      <td>Person</td>\n      <td>91.2598</td>\n      <td>OFF</td>\n      <td>-3.23032</td>\n      <td>0.016394</td>\n      <td>4.43147</td>\n      <td>0.801566</td>\n      <td>-0.00163345</td>\n      <td>-1.65796e-09</td>\n    </tr>\n    <tr>\n      <th>3</th>\n      <td>0</td>\n      <td>0</td>\n      <td>0</td>\n      <td>0</td>\n      <td>0</td>\n      <td>99;99</td>\n      <td>99;99</td>\n      <td>NaN</td>\n      <td>1</td>\n      <td>1</td>\n      <td>1</td>\n      <td>Person</td>\n      <td>38.4033</td>\n      <td>OFF</td>\n      <td>2.39731</td>\n      <td>-2.692540</td>\n      <td>24.71270</td>\n      <td>3.53703</td>\n      <td>-0.00720912</td>\n      <td>-5.93347e-07</td>\n    </tr>\n    <tr>\n      <th>4</th>\n      <td>Game (Martin; Peter)</td>\n      <td>0</td>\n      <td>0</td>\n      <td>0</td>\n      <td>0</td>\n      <td>99;99</td>\n      <td>99;99</td>\n      <td>NaN</td>\n      <td>2</td>\n      <td>0</td>\n      <td>0</td>\n      <td>Person</td>\n      <td>90.7715</td>\n      <td>OFF</td>\n      <td>-3.21413</td>\n      <td>0.016563</td>\n      <td>4.42910</td>\n      <td>0.739202</td>\n      <td>0.0240556</td>\n      <td>-0.215608</td>\n    </tr>\n  </tbody>\n</table>\n</div>"
     },
     "execution_count": 44,
     "metadata": {},
     "output_type": "execute_result"
    }
   ],
   "source": [
    "# Importing the dataset\n",
    "df = pd.read_csv(\"Schlieren_Labeled.csv\", sep=\";\")\n",
    "df.head()"
   ],
   "metadata": {
    "collapsed": false,
    "ExecuteTime": {
     "end_time": "2024-01-06T14:31:52.545157800Z",
     "start_time": "2024-01-06T14:31:52.490542200Z"
    }
   },
   "id": "3b162facecf57ebb",
   "execution_count": 44
  },
  {
   "cell_type": "code",
   "outputs": [],
   "source": [
    "df = df.drop([\"Legende\"], axis=1)"
   ],
   "metadata": {
    "collapsed": false,
    "ExecuteTime": {
     "end_time": "2024-01-06T14:31:52.546277200Z",
     "start_time": "2024-01-06T14:31:52.524461400Z"
    }
   },
   "id": "dbf89c6de6a514a5",
   "execution_count": 45
  },
  {
   "cell_type": "code",
   "outputs": [],
   "source": [
    "df.mask(df == \"-nan(ind)\", inplace=True)"
   ],
   "metadata": {
    "collapsed": false,
    "ExecuteTime": {
     "end_time": "2024-01-06T14:31:52.566541800Z",
     "start_time": "2024-01-06T14:31:52.540381100Z"
    }
   },
   "id": "4c62d8aff96ea58e",
   "execution_count": 46
  },
  {
   "cell_type": "code",
   "outputs": [
    {
     "data": {
      "text/plain": "    Spiel Martin Schlag Petr Schlag Error/Winner Game (Martin;Petr)  \\\n0       0             0           0            0              99;99   \n1       0             0           0            0              99;99   \n2       0             0           0            0              99;99   \n3       0             0           0            0              99;99   \n4       0             0           0            0              99;99   \n..    ...           ...         ...          ...                ...   \n95      1             0           F            0              99;99   \n96      1             0           F            0              99;99   \n97      1             0           F            0              99;99   \n98      1             0           0            0              99;99   \n99      1             0           0            0              99;99   \n\n   Punkt (Martin;Petr)                 Bemerkung  Frame  Objekt  Objekt ID  \\\n0                99;99                       NaN      0       0          0   \n1                99;99                       NaN      0       1          1   \n2                99;99                       NaN      1       0          0   \n3                99;99                       NaN      1       1          1   \n4                99;99                       NaN      2       0          0   \n..                 ...                       ...    ...     ...        ...   \n95               99;99                       NaN     47       1          1   \n96               99;99                       NaN     48       0          0   \n97               99;99                       NaN     48       1          1   \n98               99;99  Martin teilweise im Feld     49       0          0   \n99               99;99  Martin teilweise im Feld     49       1          1   \n\n   Objektlabel  Konfidenz Trackingstatus        x         y         z  \\\n0       Person    91.2109            OFF -3.23670  0.016276   4.43368   \n1       Person    45.9961            OFF  2.40510 -2.696930  24.81480   \n2       Person    91.2598            OFF -3.23032  0.016394   4.43147   \n3       Person    38.4033            OFF  2.39731 -2.692540  24.71270   \n4       Person    90.7715            OFF -3.21413  0.016563   4.42910   \n..         ...        ...            ...      ...       ...       ...   \n95      Person    33.7158             OK  2.67109 -2.494500  23.08170   \n96      Person    92.8711             OK -2.70685  0.132243   3.61859   \n97      Person    28.9307             OK  2.67864 -2.495410  23.09920   \n98      Person    93.3105             OK -2.70505  0.136036   3.61573   \n99      Person    28.9307             OK  2.68589 -2.495950  23.10180   \n\n          vx           xy            vz  \n0        NaN          NaN           NaN  \n1        NaN          NaN           NaN  \n2   0.801566  -0.00163345  -1.65796e-09  \n3    3.53703  -0.00720912  -5.93347e-07  \n4   0.739202    0.0240556     -0.215608  \n..       ...          ...           ...  \n95  0.215017    0.0543427      -0.46132  \n96  0.236264    0.0550659     -0.467933  \n97  0.208632    0.0479443     -0.407464  \n98  0.213477    0.0481118     -0.408731  \n99  0.208632     0.047971     -0.407461  \n\n[100 rows x 19 columns]",
      "text/html": "<div>\n<style scoped>\n    .dataframe tbody tr th:only-of-type {\n        vertical-align: middle;\n    }\n\n    .dataframe tbody tr th {\n        vertical-align: top;\n    }\n\n    .dataframe thead th {\n        text-align: right;\n    }\n</style>\n<table border=\"1\" class=\"dataframe\">\n  <thead>\n    <tr style=\"text-align: right;\">\n      <th></th>\n      <th>Spiel</th>\n      <th>Martin Schlag</th>\n      <th>Petr Schlag</th>\n      <th>Error/Winner</th>\n      <th>Game (Martin;Petr)</th>\n      <th>Punkt (Martin;Petr)</th>\n      <th>Bemerkung</th>\n      <th>Frame</th>\n      <th>Objekt</th>\n      <th>Objekt ID</th>\n      <th>Objektlabel</th>\n      <th>Konfidenz</th>\n      <th>Trackingstatus</th>\n      <th>x</th>\n      <th>y</th>\n      <th>z</th>\n      <th>vx</th>\n      <th>xy</th>\n      <th>vz</th>\n    </tr>\n  </thead>\n  <tbody>\n    <tr>\n      <th>0</th>\n      <td>0</td>\n      <td>0</td>\n      <td>0</td>\n      <td>0</td>\n      <td>99;99</td>\n      <td>99;99</td>\n      <td>NaN</td>\n      <td>0</td>\n      <td>0</td>\n      <td>0</td>\n      <td>Person</td>\n      <td>91.2109</td>\n      <td>OFF</td>\n      <td>-3.23670</td>\n      <td>0.016276</td>\n      <td>4.43368</td>\n      <td>NaN</td>\n      <td>NaN</td>\n      <td>NaN</td>\n    </tr>\n    <tr>\n      <th>1</th>\n      <td>0</td>\n      <td>0</td>\n      <td>0</td>\n      <td>0</td>\n      <td>99;99</td>\n      <td>99;99</td>\n      <td>NaN</td>\n      <td>0</td>\n      <td>1</td>\n      <td>1</td>\n      <td>Person</td>\n      <td>45.9961</td>\n      <td>OFF</td>\n      <td>2.40510</td>\n      <td>-2.696930</td>\n      <td>24.81480</td>\n      <td>NaN</td>\n      <td>NaN</td>\n      <td>NaN</td>\n    </tr>\n    <tr>\n      <th>2</th>\n      <td>0</td>\n      <td>0</td>\n      <td>0</td>\n      <td>0</td>\n      <td>99;99</td>\n      <td>99;99</td>\n      <td>NaN</td>\n      <td>1</td>\n      <td>0</td>\n      <td>0</td>\n      <td>Person</td>\n      <td>91.2598</td>\n      <td>OFF</td>\n      <td>-3.23032</td>\n      <td>0.016394</td>\n      <td>4.43147</td>\n      <td>0.801566</td>\n      <td>-0.00163345</td>\n      <td>-1.65796e-09</td>\n    </tr>\n    <tr>\n      <th>3</th>\n      <td>0</td>\n      <td>0</td>\n      <td>0</td>\n      <td>0</td>\n      <td>99;99</td>\n      <td>99;99</td>\n      <td>NaN</td>\n      <td>1</td>\n      <td>1</td>\n      <td>1</td>\n      <td>Person</td>\n      <td>38.4033</td>\n      <td>OFF</td>\n      <td>2.39731</td>\n      <td>-2.692540</td>\n      <td>24.71270</td>\n      <td>3.53703</td>\n      <td>-0.00720912</td>\n      <td>-5.93347e-07</td>\n    </tr>\n    <tr>\n      <th>4</th>\n      <td>0</td>\n      <td>0</td>\n      <td>0</td>\n      <td>0</td>\n      <td>99;99</td>\n      <td>99;99</td>\n      <td>NaN</td>\n      <td>2</td>\n      <td>0</td>\n      <td>0</td>\n      <td>Person</td>\n      <td>90.7715</td>\n      <td>OFF</td>\n      <td>-3.21413</td>\n      <td>0.016563</td>\n      <td>4.42910</td>\n      <td>0.739202</td>\n      <td>0.0240556</td>\n      <td>-0.215608</td>\n    </tr>\n    <tr>\n      <th>...</th>\n      <td>...</td>\n      <td>...</td>\n      <td>...</td>\n      <td>...</td>\n      <td>...</td>\n      <td>...</td>\n      <td>...</td>\n      <td>...</td>\n      <td>...</td>\n      <td>...</td>\n      <td>...</td>\n      <td>...</td>\n      <td>...</td>\n      <td>...</td>\n      <td>...</td>\n      <td>...</td>\n      <td>...</td>\n      <td>...</td>\n      <td>...</td>\n    </tr>\n    <tr>\n      <th>95</th>\n      <td>1</td>\n      <td>0</td>\n      <td>F</td>\n      <td>0</td>\n      <td>99;99</td>\n      <td>99;99</td>\n      <td>NaN</td>\n      <td>47</td>\n      <td>1</td>\n      <td>1</td>\n      <td>Person</td>\n      <td>33.7158</td>\n      <td>OK</td>\n      <td>2.67109</td>\n      <td>-2.494500</td>\n      <td>23.08170</td>\n      <td>0.215017</td>\n      <td>0.0543427</td>\n      <td>-0.46132</td>\n    </tr>\n    <tr>\n      <th>96</th>\n      <td>1</td>\n      <td>0</td>\n      <td>F</td>\n      <td>0</td>\n      <td>99;99</td>\n      <td>99;99</td>\n      <td>NaN</td>\n      <td>48</td>\n      <td>0</td>\n      <td>0</td>\n      <td>Person</td>\n      <td>92.8711</td>\n      <td>OK</td>\n      <td>-2.70685</td>\n      <td>0.132243</td>\n      <td>3.61859</td>\n      <td>0.236264</td>\n      <td>0.0550659</td>\n      <td>-0.467933</td>\n    </tr>\n    <tr>\n      <th>97</th>\n      <td>1</td>\n      <td>0</td>\n      <td>F</td>\n      <td>0</td>\n      <td>99;99</td>\n      <td>99;99</td>\n      <td>NaN</td>\n      <td>48</td>\n      <td>1</td>\n      <td>1</td>\n      <td>Person</td>\n      <td>28.9307</td>\n      <td>OK</td>\n      <td>2.67864</td>\n      <td>-2.495410</td>\n      <td>23.09920</td>\n      <td>0.208632</td>\n      <td>0.0479443</td>\n      <td>-0.407464</td>\n    </tr>\n    <tr>\n      <th>98</th>\n      <td>1</td>\n      <td>0</td>\n      <td>0</td>\n      <td>0</td>\n      <td>99;99</td>\n      <td>99;99</td>\n      <td>Martin teilweise im Feld</td>\n      <td>49</td>\n      <td>0</td>\n      <td>0</td>\n      <td>Person</td>\n      <td>93.3105</td>\n      <td>OK</td>\n      <td>-2.70505</td>\n      <td>0.136036</td>\n      <td>3.61573</td>\n      <td>0.213477</td>\n      <td>0.0481118</td>\n      <td>-0.408731</td>\n    </tr>\n    <tr>\n      <th>99</th>\n      <td>1</td>\n      <td>0</td>\n      <td>0</td>\n      <td>0</td>\n      <td>99;99</td>\n      <td>99;99</td>\n      <td>Martin teilweise im Feld</td>\n      <td>49</td>\n      <td>1</td>\n      <td>1</td>\n      <td>Person</td>\n      <td>28.9307</td>\n      <td>OK</td>\n      <td>2.68589</td>\n      <td>-2.495950</td>\n      <td>23.10180</td>\n      <td>0.208632</td>\n      <td>0.047971</td>\n      <td>-0.407461</td>\n    </tr>\n  </tbody>\n</table>\n<p>100 rows × 19 columns</p>\n</div>"
     },
     "execution_count": 47,
     "metadata": {},
     "output_type": "execute_result"
    }
   ],
   "source": [
    "df.head(100)"
   ],
   "metadata": {
    "collapsed": false,
    "ExecuteTime": {
     "end_time": "2024-01-06T14:31:52.653401400Z",
     "start_time": "2024-01-06T14:31:52.557646900Z"
    }
   },
   "id": "361a2b1580e9087a",
   "execution_count": 47
  },
  {
   "cell_type": "code",
   "outputs": [
    {
     "name": "stdout",
     "output_type": "stream",
     "text": [
      "<class 'pandas.core.frame.DataFrame'>\n",
      "RangeIndex: 2439 entries, 0 to 2438\n",
      "Data columns (total 19 columns):\n",
      " #   Column               Non-Null Count  Dtype  \n",
      "---  ------               --------------  -----  \n",
      " 0   Spiel                2439 non-null   int64  \n",
      " 1   Martin Schlag        2417 non-null   object \n",
      " 2   Petr Schlag          2439 non-null   object \n",
      " 3   Error/Winner         2439 non-null   object \n",
      " 4   Game (Martin;Petr)   2439 non-null   object \n",
      " 5   Punkt (Martin;Petr)  2439 non-null   object \n",
      " 6   Bemerkung            343 non-null    object \n",
      " 7   Frame                2439 non-null   int64  \n",
      " 8   Objekt               2439 non-null   int64  \n",
      " 9   Objekt ID            2439 non-null   int64  \n",
      " 10  Objektlabel          2439 non-null   object \n",
      " 11  Konfidenz            2439 non-null   float64\n",
      " 12  Trackingstatus       2439 non-null   object \n",
      " 13  x                    2432 non-null   float64\n",
      " 14  y                    2432 non-null   float64\n",
      " 15  z                    2432 non-null   float64\n",
      " 16  vx                   2427 non-null   object \n",
      " 17  xy                   2427 non-null   object \n",
      " 18  vz                   2427 non-null   object \n",
      "dtypes: float64(4), int64(4), object(11)\n",
      "memory usage: 362.2+ KB\n"
     ]
    }
   ],
   "source": [
    "df.info()"
   ],
   "metadata": {
    "collapsed": false,
    "ExecuteTime": {
     "end_time": "2024-01-06T14:31:52.684069500Z",
     "start_time": "2024-01-06T14:31:52.587508500Z"
    }
   },
   "id": "73b1b7551ed8e67b",
   "execution_count": 48
  },
  {
   "cell_type": "markdown",
   "source": [],
   "metadata": {
    "collapsed": false
   },
   "id": "7333a40158ef85ca"
  },
  {
   "cell_type": "code",
   "outputs": [],
   "source": [
    "df[\"Martin Schlag\"] = df[\"Martin Schlag\"].astype(\"category\")\n",
    "df[\"Petr Schlag\"] = df[\"Petr Schlag\"].astype(\"category\")"
   ],
   "metadata": {
    "collapsed": false,
    "ExecuteTime": {
     "end_time": "2024-01-06T14:31:52.685310400Z",
     "start_time": "2024-01-06T14:31:52.603434400Z"
    }
   },
   "id": "ae79932cb41d9e4a",
   "execution_count": 49
  },
  {
   "cell_type": "code",
   "outputs": [
    {
     "name": "stdout",
     "output_type": "stream",
     "text": [
      "<class 'pandas.core.frame.DataFrame'>\n",
      "RangeIndex: 2439 entries, 0 to 2438\n",
      "Data columns (total 19 columns):\n",
      " #   Column               Non-Null Count  Dtype   \n",
      "---  ------               --------------  -----   \n",
      " 0   Spiel                2439 non-null   int64   \n",
      " 1   Martin Schlag        2417 non-null   category\n",
      " 2   Petr Schlag          2439 non-null   category\n",
      " 3   Error/Winner         2439 non-null   object  \n",
      " 4   Game (Martin;Petr)   2439 non-null   object  \n",
      " 5   Punkt (Martin;Petr)  2439 non-null   object  \n",
      " 6   Bemerkung            343 non-null    object  \n",
      " 7   Frame                2439 non-null   int64   \n",
      " 8   Objekt               2439 non-null   int64   \n",
      " 9   Objekt ID            2439 non-null   int64   \n",
      " 10  Objektlabel          2439 non-null   object  \n",
      " 11  Konfidenz            2439 non-null   float64 \n",
      " 12  Trackingstatus       2439 non-null   object  \n",
      " 13  x                    2432 non-null   float64 \n",
      " 14  y                    2432 non-null   float64 \n",
      " 15  z                    2432 non-null   float64 \n",
      " 16  vx                   2427 non-null   object  \n",
      " 17  xy                   2427 non-null   object  \n",
      " 18  vz                   2427 non-null   object  \n",
      "dtypes: category(2), float64(4), int64(4), object(9)\n",
      "memory usage: 329.2+ KB\n"
     ]
    }
   ],
   "source": [
    "df.info()"
   ],
   "metadata": {
    "collapsed": false,
    "ExecuteTime": {
     "end_time": "2024-01-06T14:32:20.761652300Z",
     "start_time": "2024-01-06T14:32:20.715113600Z"
    }
   },
   "id": "9f241e0b2fe68a82",
   "execution_count": 52
  },
  {
   "cell_type": "code",
   "outputs": [
    {
     "data": {
      "text/plain": "             Spiel        Frame       Objekt    Objekt ID    Konfidenz  \\\ncount  2439.000000  2439.000000  2439.000000  2439.000000  2439.000000   \nmean      0.940139   614.829438     0.501435     2.920049    59.607700   \nstd       0.237277   365.232295     0.530352     3.241788    29.190617   \nmin       0.000000     0.000000     0.000000     0.000000    20.056200   \n25%       1.000000   300.000000     0.000000     1.000000    29.455550   \n50%       1.000000   604.000000     0.000000     1.000000    52.734400   \n75%       1.000000   929.000000     1.000000     3.000000    89.941400   \nmax       1.000000  1253.000000     2.000000    14.000000    94.140600   \n\n                 x            y            z  \ncount  2432.000000  2432.000000  2432.000000  \nmean      0.179608    -1.283045    14.392834  \nstd       2.516608     1.430812    10.168369  \nmin      -8.453000    -4.007830     2.200880  \n25%      -2.273632    -2.662645     3.872760  \n50%       1.863430    -2.468115    22.841000  \n75%       2.503530     0.134376    24.298375  \nmax       3.288400     1.428450    26.246100  ",
      "text/html": "<div>\n<style scoped>\n    .dataframe tbody tr th:only-of-type {\n        vertical-align: middle;\n    }\n\n    .dataframe tbody tr th {\n        vertical-align: top;\n    }\n\n    .dataframe thead th {\n        text-align: right;\n    }\n</style>\n<table border=\"1\" class=\"dataframe\">\n  <thead>\n    <tr style=\"text-align: right;\">\n      <th></th>\n      <th>Spiel</th>\n      <th>Frame</th>\n      <th>Objekt</th>\n      <th>Objekt ID</th>\n      <th>Konfidenz</th>\n      <th>x</th>\n      <th>y</th>\n      <th>z</th>\n    </tr>\n  </thead>\n  <tbody>\n    <tr>\n      <th>count</th>\n      <td>2439.000000</td>\n      <td>2439.000000</td>\n      <td>2439.000000</td>\n      <td>2439.000000</td>\n      <td>2439.000000</td>\n      <td>2432.000000</td>\n      <td>2432.000000</td>\n      <td>2432.000000</td>\n    </tr>\n    <tr>\n      <th>mean</th>\n      <td>0.940139</td>\n      <td>614.829438</td>\n      <td>0.501435</td>\n      <td>2.920049</td>\n      <td>59.607700</td>\n      <td>0.179608</td>\n      <td>-1.283045</td>\n      <td>14.392834</td>\n    </tr>\n    <tr>\n      <th>std</th>\n      <td>0.237277</td>\n      <td>365.232295</td>\n      <td>0.530352</td>\n      <td>3.241788</td>\n      <td>29.190617</td>\n      <td>2.516608</td>\n      <td>1.430812</td>\n      <td>10.168369</td>\n    </tr>\n    <tr>\n      <th>min</th>\n      <td>0.000000</td>\n      <td>0.000000</td>\n      <td>0.000000</td>\n      <td>0.000000</td>\n      <td>20.056200</td>\n      <td>-8.453000</td>\n      <td>-4.007830</td>\n      <td>2.200880</td>\n    </tr>\n    <tr>\n      <th>25%</th>\n      <td>1.000000</td>\n      <td>300.000000</td>\n      <td>0.000000</td>\n      <td>1.000000</td>\n      <td>29.455550</td>\n      <td>-2.273632</td>\n      <td>-2.662645</td>\n      <td>3.872760</td>\n    </tr>\n    <tr>\n      <th>50%</th>\n      <td>1.000000</td>\n      <td>604.000000</td>\n      <td>0.000000</td>\n      <td>1.000000</td>\n      <td>52.734400</td>\n      <td>1.863430</td>\n      <td>-2.468115</td>\n      <td>22.841000</td>\n    </tr>\n    <tr>\n      <th>75%</th>\n      <td>1.000000</td>\n      <td>929.000000</td>\n      <td>1.000000</td>\n      <td>3.000000</td>\n      <td>89.941400</td>\n      <td>2.503530</td>\n      <td>0.134376</td>\n      <td>24.298375</td>\n    </tr>\n    <tr>\n      <th>max</th>\n      <td>1.000000</td>\n      <td>1253.000000</td>\n      <td>2.000000</td>\n      <td>14.000000</td>\n      <td>94.140600</td>\n      <td>3.288400</td>\n      <td>1.428450</td>\n      <td>26.246100</td>\n    </tr>\n  </tbody>\n</table>\n</div>"
     },
     "execution_count": 55,
     "metadata": {},
     "output_type": "execute_result"
    }
   ],
   "source": [
    "df.describe()"
   ],
   "metadata": {
    "collapsed": false,
    "ExecuteTime": {
     "end_time": "2024-01-06T14:33:07.304304300Z",
     "start_time": "2024-01-06T14:33:07.266936600Z"
    }
   },
   "id": "df1e7751d3fe9be7",
   "execution_count": 55
  },
  {
   "cell_type": "markdown",
   "source": [],
   "metadata": {
    "collapsed": false
   },
   "id": "b0e95b3a74ed1a7b"
  }
 ],
 "metadata": {
  "kernelspec": {
   "display_name": "Python 3",
   "language": "python",
   "name": "python3"
  },
  "language_info": {
   "codemirror_mode": {
    "name": "ipython",
    "version": 2
   },
   "file_extension": ".py",
   "mimetype": "text/x-python",
   "name": "python",
   "nbconvert_exporter": "python",
   "pygments_lexer": "ipython2",
   "version": "2.7.6"
  }
 },
 "nbformat": 4,
 "nbformat_minor": 5
}
